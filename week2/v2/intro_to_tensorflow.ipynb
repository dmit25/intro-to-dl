{
 "cells": [
  {
   "cell_type": "code",
   "execution_count": 4,
   "metadata": {},
   "outputs": [
    {
     "name": "stderr",
     "output_type": "stream",
     "text": [
      "UsageError: Line magic function `%tensorflow_version` not found.\n"
     ]
    }
   ],
   "source": [
    "# set tf 1.x for colab\n",
    "%tensorflow_version 1.x"
   ]
  },
  {
   "cell_type": "markdown",
   "metadata": {
    "slideshow": {
     "slide_type": "slide"
    }
   },
   "source": [
    "# Intro to TensorFlow\n",
    "\n",
    "This notebook covers the basics of TF and shows you an animation with gradient descent trajectory.\n",
    "<img src=\"images/gradient_descent.png\" style=\"width:50%\">"
   ]
  },
  {
   "cell_type": "markdown",
   "metadata": {},
   "source": [
    "# TensorBoard"
   ]
  },
  {
   "cell_type": "markdown",
   "metadata": {},
   "source": [
    "**Plase note that if you are running on the Coursera platform, you won't be able to access the tensorboard instance due to the network setup there.**\n",
    "\n",
    "Run `tensorboard --logdir=./tensorboard_logs --port=7007` in bash.\n",
    "\n",
    "If you run the notebook locally, you should be able to access TensorBoard on http://127.0.0.1:7007/"
   ]
  },
  {
   "cell_type": "code",
   "execution_count": 5,
   "metadata": {},
   "outputs": [
    {
     "name": "stdout",
     "output_type": "stream",
     "text": [
      "We're using TF 1.15.0\n"
     ]
    }
   ],
   "source": [
    "import tensorflow as tf\n",
    "import sys\n",
    "sys.path.append(\"../..\")\n",
    "from keras_utils import reset_tf_session\n",
    "s = reset_tf_session()\n",
    "print(\"We're using TF\", tf.__version__)"
   ]
  },
  {
   "cell_type": "markdown",
   "metadata": {},
   "source": [
    "# Warming up\n",
    "For starters, let's implement a python function that computes the sum of squares of numbers from 0 to N-1."
   ]
  },
  {
   "cell_type": "code",
   "execution_count": 6,
   "metadata": {},
   "outputs": [],
   "source": [
    "import numpy as np\n",
    "\n",
    "def sum_python(N):\n",
    "    return np.sum(np.arange(N)**2)"
   ]
  },
  {
   "cell_type": "code",
   "execution_count": 7,
   "metadata": {},
   "outputs": [
    {
     "name": "stdout",
     "output_type": "stream",
     "text": [
      "Wall time: 997 µs\n"
     ]
    },
    {
     "data": {
      "text/plain": [
       "216474736"
      ]
     },
     "execution_count": 7,
     "metadata": {},
     "output_type": "execute_result"
    }
   ],
   "source": [
    "%%time\n",
    "sum_python(10**5)"
   ]
  },
  {
   "cell_type": "markdown",
   "metadata": {},
   "source": [
    "# Tensoflow teaser\n",
    "\n",
    "Doing the very same thing"
   ]
  },
  {
   "cell_type": "code",
   "execution_count": 8,
   "metadata": {},
   "outputs": [],
   "source": [
    "# An integer parameter\n",
    "N = tf.placeholder('int64', name=\"input_to_your_function\")\n",
    "\n",
    "# A recipe on how to produce the same result\n",
    "result = tf.reduce_sum(tf.range(N)**2)"
   ]
  },
  {
   "cell_type": "code",
   "execution_count": 9,
   "metadata": {},
   "outputs": [
    {
     "data": {
      "text/plain": [
       "<tf.Tensor 'Sum:0' shape=() dtype=int64>"
      ]
     },
     "execution_count": 9,
     "metadata": {},
     "output_type": "execute_result"
    }
   ],
   "source": [
    "# just a graph definition\n",
    "result"
   ]
  },
  {
   "cell_type": "code",
   "execution_count": 10,
   "metadata": {},
   "outputs": [
    {
     "name": "stdout",
     "output_type": "stream",
     "text": [
      "Wall time: 9.98 ms\n"
     ]
    },
    {
     "data": {
      "text/plain": [
       "333328333350000"
      ]
     },
     "execution_count": 10,
     "metadata": {},
     "output_type": "execute_result"
    }
   ],
   "source": [
    "%%time\n",
    "# actually executing\n",
    "result.eval({N: 10**5})"
   ]
  },
  {
   "cell_type": "code",
   "execution_count": 11,
   "metadata": {},
   "outputs": [],
   "source": [
    "# logger for tensorboard\n",
    "writer = tf.summary.FileWriter(\"tensorboard_logs\", graph=s.graph)"
   ]
  },
  {
   "cell_type": "markdown",
   "metadata": {},
   "source": [
    "# How does it work?\n",
    "1. Define placeholders where you'll send inputs\n",
    "2. Make a symbolic graph: a recipe for mathematical transformation of those placeholders\n",
    "3. Compute outputs of your graph with particular values for each placeholder\n",
    "  * `output.eval({placeholder: value})`\n",
    "  * `s.run(output, {placeholder: value})`\n",
    "\n",
    "So far there are two main entities: \"placeholder\" and \"transformation\" (operation output)\n",
    "* Both can be numbers, vectors, matrices, tensors, etc.\n",
    "* Both can be int32/64, floats, booleans (uint8) of various size.\n",
    "\n",
    "* You can define new transformations as an arbitrary operation on placeholders and other transformations\n",
    " * `tf.reduce_sum(tf.arange(N)**2)` are 3 sequential transformations of placeholder `N`\n",
    " * There's a tensorflow symbolic version for every numpy function\n",
    "   * `a+b, a/b, a**b, ...` behave just like in numpy\n",
    "   * `np.mean` -> `tf.reduce_mean`\n",
    "   * `np.arange` -> `tf.range`\n",
    "   * `np.cumsum` -> `tf.cumsum`\n",
    "   * If you can't find the operation you need, see the [docs](https://www.tensorflow.org/versions/r1.3/api_docs/python).\n",
    "   \n",
    "`tf.contrib` has many high-level features, may be worth a look."
   ]
  },
  {
   "cell_type": "code",
   "execution_count": 12,
   "metadata": {},
   "outputs": [],
   "source": [
    "with tf.name_scope(\"Placeholders_examples\"):\n",
    "    # Default placeholder that can be arbitrary float32\n",
    "    # scalar, vertor, matrix, etc.\n",
    "    arbitrary_input = tf.placeholder('float32')\n",
    "\n",
    "    # Input vector of arbitrary length\n",
    "    input_vector = tf.placeholder('float32', shape=(None,))\n",
    "\n",
    "    # Input vector that _must_ have 10 elements and integer type\n",
    "    fixed_vector = tf.placeholder('int32', shape=(10,))\n",
    "\n",
    "    # Matrix of arbitrary n_rows and 15 columns\n",
    "    # (e.g. a minibatch of your data table)\n",
    "    input_matrix = tf.placeholder('float32', shape=(None, 15))\n",
    "    \n",
    "    # You can generally use None whenever you don't need a specific shape\n",
    "    input1 = tf.placeholder('float64', shape=(None, 100, None))\n",
    "    input2 = tf.placeholder('int32', shape=(None, None, 3, 224, 224))\n",
    "\n",
    "    # elementwise multiplication\n",
    "    double_the_vector = input_vector*2\n",
    "\n",
    "    # elementwise cosine\n",
    "    elementwise_cosine = tf.cos(input_vector)\n",
    "\n",
    "    # difference between squared vector and vector itself plus one\n",
    "    vector_squares = input_vector**2 - input_vector + 1"
   ]
  },
  {
   "cell_type": "code",
   "execution_count": 13,
   "metadata": {},
   "outputs": [],
   "source": [
    "my_vector =  tf.placeholder('float32', shape=(None,), name=\"VECTOR_1\")\n",
    "my_vector2 = tf.placeholder('float32', shape=(None,))\n",
    "my_transformation = my_vector * my_vector2 / (tf.sin(my_vector) + 1)"
   ]
  },
  {
   "cell_type": "code",
   "execution_count": 14,
   "metadata": {},
   "outputs": [
    {
     "name": "stdout",
     "output_type": "stream",
     "text": [
      "Tensor(\"truediv:0\", shape=(?,), dtype=float32)\n"
     ]
    }
   ],
   "source": [
    "print(my_transformation)"
   ]
  },
  {
   "cell_type": "code",
   "execution_count": 15,
   "metadata": {},
   "outputs": [
    {
     "name": "stdout",
     "output_type": "stream",
     "text": [
      "[0. 1. 2. 3. 4.]\n",
      "[4. 3. 2. 1. 0.]\n"
     ]
    },
    {
     "data": {
      "text/plain": [
       "array([0.       , 1.6291324, 2.0950115, 2.6289961, 0.       ],\n",
       "      dtype=float32)"
      ]
     },
     "execution_count": 15,
     "metadata": {},
     "output_type": "execute_result"
    }
   ],
   "source": [
    "dummy = np.arange(5).astype('float32')\n",
    "print(dummy)\n",
    "print(dummy[::-1])\n",
    "my_transformation.eval({my_vector: dummy, my_vector2: dummy[::-1]})"
   ]
  },
  {
   "cell_type": "code",
   "execution_count": 16,
   "metadata": {},
   "outputs": [],
   "source": [
    "writer.add_graph(my_transformation.graph)\n",
    "writer.flush()"
   ]
  },
  {
   "cell_type": "markdown",
   "metadata": {},
   "source": [
    "TensorBoard allows writing scalars, images, audio, histogram. You can read more on tensorboard usage [here](https://www.tensorflow.org/get_started/graph_viz)."
   ]
  },
  {
   "cell_type": "markdown",
   "metadata": {},
   "source": [
    "# Summary\n",
    "* Tensorflow is based on computation graphs\n",
    "* A graph consists of placeholders and transformations"
   ]
  },
  {
   "cell_type": "markdown",
   "metadata": {},
   "source": [
    "# Loss function: Mean Squared Error\n",
    "\n",
    "Loss function must be a part of the graph as well, so that we can do backpropagation."
   ]
  },
  {
   "cell_type": "code",
   "execution_count": 17,
   "metadata": {},
   "outputs": [],
   "source": [
    "with tf.name_scope(\"MSE\"):\n",
    "    y_true = tf.placeholder(\"float32\", shape=(None,), name=\"y_true\")\n",
    "    y_predicted = tf.placeholder(\"float32\", shape=(None,), name=\"y_predicted\")\n",
    "    # Implement MSE(y_true, y_predicted), use tf.reduce_mean(...)\n",
    "    mse = tf.reduce_mean((y_predicted - y_true)**2)\n",
    "\n",
    "def compute_mse(vector1, vector2):\n",
    "    return mse.eval({y_true: vector1, y_predicted: vector2})"
   ]
  },
  {
   "cell_type": "code",
   "execution_count": 18,
   "metadata": {},
   "outputs": [],
   "source": [
    "writer.add_graph(mse.graph)\n",
    "writer.flush()"
   ]
  },
  {
   "cell_type": "code",
   "execution_count": 19,
   "metadata": {},
   "outputs": [],
   "source": [
    "# Rigorous local testing of MSE implementation\n",
    "import sklearn.metrics\n",
    "for n in [1, 5, 10, 10**3]:\n",
    "    elems = [np.arange(n), np.arange(n, 0, -1), np.zeros(n),\n",
    "             np.ones(n), np.random.random(n), np.random.randint(100, size=n)]\n",
    "    for el in elems:\n",
    "        for el_2 in elems:\n",
    "            true_mse = np.array(sklearn.metrics.mean_squared_error(el, el_2))\n",
    "            my_mse = compute_mse(el, el_2)\n",
    "            if not np.allclose(true_mse, my_mse):\n",
    "                print('mse(%s,%s)' % (el, el_2))\n",
    "                print(\"should be: %f, but your function returned %f\" % (true_mse, my_mse))\n",
    "                raise ValueError('Wrong result')"
   ]
  },
  {
   "cell_type": "markdown",
   "metadata": {},
   "source": [
    "# Variables\n",
    "\n",
    "Placeholder and transformation values are not stored in the graph once the execution is finished. This isn't too comfortable if you want your model to have parameters (e.g. network weights) that are always present, but can change their value over time.\n",
    "\n",
    "Tensorflow solves this with `tf.Variable` objects.\n",
    "* You can assign variable a value at any time in your graph\n",
    "* Unlike placeholders, there's no need to explicitly pass values to variables when `s.run(...)`-ing\n",
    "* You can use variables the same way you use transformations \n",
    " "
   ]
  },
  {
   "cell_type": "code",
   "execution_count": 20,
   "metadata": {},
   "outputs": [],
   "source": [
    "# Creating a shared variable\n",
    "shared_vector_1 = tf.Variable(initial_value=np.ones(5),\n",
    "                              name=\"example_variable\")"
   ]
  },
  {
   "cell_type": "code",
   "execution_count": 21,
   "metadata": {},
   "outputs": [
    {
     "name": "stdout",
     "output_type": "stream",
     "text": [
      "Initial value [1. 1. 1. 1. 1.]\n"
     ]
    }
   ],
   "source": [
    "# Initialize variable(s) with initial values\n",
    "s.run(tf.global_variables_initializer())\n",
    "\n",
    "# Evaluating the shared variable\n",
    "print(\"Initial value\", s.run(shared_vector_1))"
   ]
  },
  {
   "cell_type": "code",
   "execution_count": 22,
   "metadata": {},
   "outputs": [
    {
     "name": "stdout",
     "output_type": "stream",
     "text": [
      "New value [0. 1. 2. 3. 4.]\n"
     ]
    }
   ],
   "source": [
    "# Setting a new value\n",
    "s.run(shared_vector_1.assign(np.arange(5)))\n",
    "\n",
    "# Getting that new value\n",
    "print(\"New value\", s.run(shared_vector_1))"
   ]
  },
  {
   "cell_type": "markdown",
   "metadata": {},
   "source": [
    "# tf.gradients - why graphs matter\n",
    "* Tensorflow can compute derivatives and gradients automatically using the computation graph\n",
    "* True to its name it can manage matrix derivatives\n",
    "* Gradients are computed as a product of elementary derivatives via the chain rule:\n",
    "\n",
    "$$ {\\partial f(g(x)) \\over \\partial x} = {\\partial f(g(x)) \\over \\partial g(x)}\\cdot {\\partial g(x) \\over \\partial x} $$\n",
    "\n",
    "It can get you the derivative of any graph as long as it knows how to differentiate elementary operations"
   ]
  },
  {
   "cell_type": "code",
   "execution_count": 23,
   "metadata": {},
   "outputs": [
    {
     "name": "stdout",
     "output_type": "stream",
     "text": [
      "WARNING:tensorflow:From C:\\ProgramData\\Anaconda3\\envs\\ML\\lib\\site-packages\\tensorflow_core\\python\\ops\\math_grad.py:1375: where (from tensorflow.python.ops.array_ops) is deprecated and will be removed in a future version.\n",
      "Instructions for updating:\n",
      "Use tf.where in 2.0, which has the same broadcast rule as np.where\n"
     ]
    }
   ],
   "source": [
    "my_scalar = tf.placeholder('float32')\n",
    "\n",
    "scalar_squared = my_scalar**2\n",
    "\n",
    "# A derivative of scalar_squared by my_scalar\n",
    "derivative = tf.gradients(scalar_squared, [my_scalar, ])"
   ]
  },
  {
   "cell_type": "code",
   "execution_count": null,
   "metadata": {},
   "outputs": [],
   "source": [
    "derivative"
   ]
  },
  {
   "cell_type": "code",
   "execution_count": 24,
   "metadata": {},
   "outputs": [
    {
     "data": {
      "image/png": "[encoded data removed]",
      "text/plain": [
       "<Figure size 432x288 with 1 Axes>"
      ]
     },
     "metadata": {
      "needs_background": "light"
     },
     "output_type": "display_data"
    }
   ],
   "source": [
    "import matplotlib.pyplot as plt\n",
    "%matplotlib inline\n",
    "\n",
    "x = np.linspace(-3, 3)\n",
    "x_squared, x_squared_der = s.run([scalar_squared, derivative[0]],\n",
    "                                 {my_scalar:x})\n",
    "\n",
    "plt.plot(x, x_squared,label=\"$x^2$\")\n",
    "plt.plot(x, x_squared_der, label=r\"$\\frac{dx^2}{dx}$\")\n",
    "plt.legend();"
   ]
  },
  {
   "cell_type": "markdown",
   "metadata": {},
   "source": [
    "# Why that rocks"
   ]
  },
  {
   "cell_type": "code",
   "execution_count": 25,
   "metadata": {},
   "outputs": [],
   "source": [
    "my_vector = tf.placeholder('float32', [None])\n",
    "# Compute the gradient of the next weird function over my_scalar and my_vector\n",
    "# Warning! Trying to understand the meaning of that function may result in permanent brain damage\n",
    "weird_psychotic_function = tf.reduce_mean(\n",
    "    (my_vector+my_scalar)**(1+tf.nn.moments(my_vector,[0])[1]) + \n",
    "    1./ tf.atan(my_scalar))/(my_scalar**2 + 1) + 0.01*tf.sin(\n",
    "    2*my_scalar**1.5)*(tf.reduce_sum(my_vector)* my_scalar**2\n",
    "                      )*tf.exp((my_scalar-4)**2)/(\n",
    "    1+tf.exp((my_scalar-4)**2))*(1.-(tf.exp(-(my_scalar-4)**2)\n",
    "                                    )/(1+tf.exp(-(my_scalar-4)**2)))**2\n",
    "\n",
    "der_by_scalar = tf.gradients(weird_psychotic_function, my_scalar)\n",
    "der_by_vector = tf.gradients(weird_psychotic_function, my_vector)"
   ]
  },
  {
   "cell_type": "code",
   "execution_count": 26,
   "metadata": {},
   "outputs": [
    {
     "data": {
      "image/png": "[encoded data removed]",
      "text/plain": [
       "<Figure size 432x288 with 1 Axes>"
      ]
     },
     "metadata": {
      "needs_background": "light"
     },
     "output_type": "display_data"
    }
   ],
   "source": [
    "# Plotting the derivative\n",
    "scalar_space = np.linspace(1, 7, 100)\n",
    "\n",
    "y = [s.run(weird_psychotic_function, {my_scalar:x, my_vector:[1, 2, 3]})\n",
    "     for x in scalar_space]\n",
    "\n",
    "plt.plot(scalar_space, y, label='function')\n",
    "\n",
    "y_der_by_scalar = [s.run(der_by_scalar,\n",
    "                         {my_scalar:x, my_vector:[1, 2, 3]})\n",
    "                   for x in scalar_space]\n",
    "\n",
    "plt.plot(scalar_space, y_der_by_scalar, label='derivative')\n",
    "plt.grid()\n",
    "plt.legend();"
   ]
  },
  {
   "cell_type": "markdown",
   "metadata": {},
   "source": [
    "# Almost done - optimizers\n",
    "\n",
    "While you can perform gradient descent by hand with automatic gradients from above, tensorflow also has some optimization methods implemented for you. Recall momentum & rmsprop?"
   ]
  },
  {
   "cell_type": "code",
   "execution_count": 27,
   "metadata": {},
   "outputs": [],
   "source": [
    "y_guess = tf.Variable(np.zeros(2, dtype='float32'))\n",
    "y_true = tf.range(1, 3, dtype='float32')\n",
    "\n",
    "loss = tf.reduce_mean((y_guess - y_true + 0.5*tf.random_normal([2]))**2) \n",
    "\n",
    "step = tf.train.MomentumOptimizer(0.03, 0.5).minimize(loss, var_list=y_guess)"
   ]
  },
  {
   "cell_type": "markdown",
   "metadata": {},
   "source": [
    "Let's draw a trajectory of a gradient descent in 2D"
   ]
  },
  {
   "cell_type": "code",
   "execution_count": 28,
   "metadata": {},
   "outputs": [
    {
     "data": {
      "image/png": "[encoded data removed]",
      "text/plain": [
       "<Figure size 432x288 with 1 Axes>"
      ]
     },
     "metadata": {
      "needs_background": "light"
     },
     "output_type": "display_data"
    }
   ],
   "source": [
    "from matplotlib import animation, rc\n",
    "import matplotlib_utils\n",
    "from IPython.display import HTML, display_html\n",
    "\n",
    "# nice figure settings\n",
    "fig, ax = plt.subplots()\n",
    "y_true_value = s.run(y_true)\n",
    "level_x = np.arange(0, 2, 0.02)\n",
    "level_y = np.arange(0, 3, 0.02)\n",
    "X, Y = np.meshgrid(level_x, level_y)\n",
    "Z = (X - y_true_value[0])**2 + (Y - y_true_value[1])**2\n",
    "ax.set_xlim(-0.02, 2)\n",
    "ax.set_ylim(-0.02, 3)\n",
    "s.run(tf.global_variables_initializer())\n",
    "ax.scatter(*s.run(y_true), c='red')\n",
    "contour = ax.contour(X, Y, Z, 10)\n",
    "ax.clabel(contour, inline=1, fontsize=10)\n",
    "line, = ax.plot([], [], lw=2)\n",
    "\n",
    "# start animation with empty trajectory\n",
    "def init():\n",
    "    line.set_data([], [])\n",
    "    return (line,)\n",
    "\n",
    "trajectory = [s.run(y_guess)]\n",
    "\n",
    "# one animation step (make one GD step)\n",
    "def animate(i):\n",
    "    s.run(step)\n",
    "    trajectory.append(s.run(y_guess))\n",
    "    line.set_data(*zip(*trajectory))\n",
    "    return (line,)\n",
    "\n",
    "anim = animation.FuncAnimation(fig, animate, init_func=init,\n",
    "                               frames=100, interval=20, blit=True)"
   ]
  },
  {
   "cell_type": "code",
   "execution_count": 30,
   "metadata": {},
   "outputs": [
    {
     "data": {
      "text/html": [
       "<video width=\"432\" height=\"288\" controls autoplay loop>\n",
       "  <source type=\"video/mp4\" src=\"data:video/mp4;base64,AAAAHGZ0eXBNNFYgAAACAGlzb21pc28yYXZjMQAAAAhmcmVlAABJ3m1kYXQAAAKgBgX//5zcRem9\n",
       "5tlIt5Ys2CDZI+7veDI2NCAtIGNvcmUgMTU5IC0gSC4yNjQvTVBFRy00IEFWQyBjb2RlYyAtIENv\n",
       "cHlsZWZ0IDIwMDMtMjAxOSAtIGh0dHA6Ly93d3cudmlkZW9sYW4ub3JnL3gyNjQuaHRtbCAtIG9w\n",
       "dGlvbnM6IGNhYmFjPTEgcmVmPTMgZGVibG9jaz0xOjA6MCBhbmFseXNlPTB4MzoweDExMyBtZT1o\n",
       "ZXggc3VibWU9NyBwc3k9MSBwc3lfcmQ9MS4wMDowLjAwIG1peGVkX3JlZj0xIG1lX3JhbmdlPTE2\n",
       "IGNocm9tYV9tZT0xIHRyZWxsaXM9MSA4eDhkY3Q9MSBjcW09MCBkZWFkem9uZT0yMSwxMSBmYXN0\n",
       "X3Bza2lwPTEgY2hyb21hX3FwX29mZnNldD0tMiB0aHJlYWRzPTYgbG9va2FoZWFkX3RocmVhZHM9\n",
       "MSBzbGljZWRfdGhyZWFkcz0wIG5yPTAgZGVjaW1hdGU9MSBpbnRlcmxhY2VkPTAgYmx1cmF5X2Nv\n",
       "bXBhdD0wIGNvbnN0cmFpbmVkX2ludHJhPTAgYmZyYW1lcz0zIGJfcHlyYW1pZD0yIGJfYWRhcHQ9\n",
       "MSBiX2JpYXM9MCBkaXJlY3Q9MSB3ZWlnaHRiPTEgb3Blbl9nb3A9MCB3ZWlnaHRwPTIga2V5aW50\n",
       "PTI1MCBrZXlpbnRfbWluPTI1IHNjZW5lY3V0PTQwIGludHJhX3JlZnJlc2g9MCByY19sb29rYWhl\n",
       "YWQ9NDAgcmM9Y3JmIG1idHJlZT0xIGNyZj0yMy4wIHFjb21wPTAuNjAgcXBtaW49MCBxcG1heD02\n",
       "OSBxcHN0ZXA9NCBpcF9yYXRpbz0xLjQwIGFxPTE6MS4wMACAAAAybWWIhAAv//72rvzLK0cLlS4d\n",
       "WXuzUfLoSXL9iDB9aAAAAwAA1WshfKGCVVAY4OQpfFAvedMJ0Dm5sS6TEnk3djdaO2b1O52S6onU\n",
       "FrPSEah+KmRblDTr4K4AAKxge1pRE5aD3vyT+E/XGJlvFznHmtjzX3QHw33eiM/ywzSkJsk+FLas\n",
       "jPVaWeCluLijHDTT9jcE0fNuKT4nfThpSXrst8mr3iF+k2GiYYt/hsbFJYG3Q+8IulifKmUotD2k\n",
       "p9rOBYXAP1wXoZ3H10U0858KalOnishXXrh3MvGUrhzm+96JF2BdvNgJ0DvjbYXyDuiAsPTypQTb\n",
       "gakcWokJfbBtLry6NMdA/pfGJKs0/pLwqOJQy9d9/EDob7hkkn8AKpd9Lze7wKQaH3Q1WI55y7AM\n",
       "NQYWYbjuq8SIapO3YYddihQAT1tpSD4tqoTqKxWQMJF8oApcCtBpr9wBRCyH/5iZ1AFPnP6F3wiR\n",
       "HApy7lCcN4KcVxWwmbtPvsZN4xQug5cCh4DoL6WNiZoyNwFBdXDXVJ/3wPO0AIbr5j4dRxade6Ye\n",
       "lEfZ3U4x6loDdqBPrbIMDmF0VS6wUu6SZrkGm9wrPFnGVPa8ml/l8bXI/zdERAXn5DB3kZVOYo4c\n",
       "Yft2Va4lu4/1g+JHaFEKexSFSsPuFfM2zYc8e+POwDKA7CfOmQab4/a9OuteJneN29JEVFsuQ2WY\n",
       "SYBCR7OPvRBvj2sQKMSRU/yHG76YoIt03Wd+TNWetbx9dKyWuBQoisuqz2If6FJLE7PhkMp2Qele\n",
       "Pe8D6/NVMV/lH+mfqiwnaHTHKiTHV8ll/R6y/KB1YT+2STgZ0j/Jw0X+WVw+3lz6hN41Jgh6A3kl\n",
       "I/ERIJncdbphOMh3VHC3V7BSbbDvuCn6PVEzFNu2tGjP+WTS+xhg8QViIFZX53M5E1pBInKF15wj\n",
       "0SyQrCN4XSG5yS12P2gyPHCvuNoSelYlAYmzMeeUOO1PRDBfY+BJhwt8kBWE0hOb1aRnWfW3uQeO\n",
       "/ydAsJ73Jpau+YWKvTL7rEzvzvpZAttCcJQ/ZzAZWOouKgiV5RpdPqOm7/2jY/c2LS2z2vIUlkxz\n",
       "tTVphkZzHsGvBl+rU355lUKbpvmAjbTZ+4hELxFx65mCOiwPN+wMOr9Gs0O6rMJ6h54ZaEr9pumk\n",
       "zdmq9sHkhkmRyBd8RcdvYxLJrRQHtu73TxhdFuOPpzOIEfQ+9jxqseDfhd9W33pW2mRHDybtnmA0\n",
       "k4tb6Tvd9E9ldMX5mn3f/hhNOFAocrxoeZs+0yCLlrjeJ7U0bzhuoOlzEGKEqfW/XdYduzRzG+Ls\n",
       "M7DKR0FBUlLliCH2sLnyfanrJY/aF26XfIFC6EHqJM4OXwTN8QgthqR+touoc/Y4wxMiu6SaOs3W\n",
       "t4z2SLlKmF0O2UjUCACdyUysTXnHYhuz+bNEOSxYX4HsVJHD3RYV7vw0bjanEqCYfb0b11xyAs2/\n",
       "49NClaptzJTpKU8lDBr4XU9isQvpRnBFpUMzFEkkSwsvA6qlN3xKPAsOO6DLVyhFVZ3MZq0lIbHn\n",
       "iKMrh/38R0DglAzFQFdcGxLLDplz1FtcHhZUW5Jxx0ufl3yKwmlsZ1x5wk/p7KZ/H78J6su5C0zN\n",
       "8TkghXiCs4oQpy8JSDxCyrDcIwFW+hupzKuwrpGk/ZLb/yqJQs4kgbF7gjqkyf05sTQDeRuESFdu\n",
       "JHQq1R9CiTrTdHqGW1bA6aeEFjeOwfpsG20Umi36uzzuBgb5CRLkjXQGs077UiT4zfwt81waHkAf\n",
       "lMPyq5rRRjNnv9jbSaD7nhSqjdWgOpDO9EVC7Xxbqy0Sf69b+CKIa6ALereY7DRsiFsSQFV+pcpk\n",
       "yyi2f5mtXbAnVQUMfrdlykmL/1pB4YUTQMFmKvAuLEbHFuoGNj6L+I/svUBSOQ0SZqbhrtlWWkXh\n",
       "nb/dhHxMpP0eTBdViKaGhEJYC6vlZvXurF8QjTZ6GHIBBAirNLSVg1THpViWFGCGEgE6witXFnvf\n",
       "gjpb0lj8rDzciBvaSy2IwSkwscH1PN7EhCGHJn/9041/tI/K/MUOmSCTSa7/JBjYBB0Bm13X/0oJ\n",
       "I2j/waZeOO+84Ml8P/crUGXiwip1c02N3V+sBhoOiV2NLvQi9TnNbMv6EyNXacq2w9+g/oS2cLbp\n",
       "z9PSTSLFnNNYPsehzy6YdxM+dGP0g9emSC1t2blLn9VwI4SS5uJInt54hKvhP+NbksTAhfi59USW\n",
       "MG3npEb1CiYSX21RioaEzyWqFNPrc3rpuVMckWBL2ihEFwcoRotQ30bD+31AUFd9ZourwTUlNW5g\n",
       "enFtW0bOHzh+7kg9Xu9rK3CMpMmI+/cg+MWJ8L18jDBGuwRA26z8uSiZed00e+afByQ+TUKR7hpV\n",
       "lYew0eMXugZ1VfAbdTjVizmfDJ6FXsesLQ38O9BFczNRo0CWRO426pyrka1r7nSWfheOmsdKPn7s\n",
       "XkktwISkFj61ifIBlFAHKraya+DdHEi0flsH3iSPkpyk2ituyQoczYfdhPyIQ0XoIrm2WVumrRvI\n",
       "YeeHWLArkP2VKCADXz4Jf5FL3T8fCzIICfD+DfJ/qoVOZnRUEG5IhIDAbiaKoh9R36/LjKcNDw0h\n",
       "kCrZEwIcvo1Fp4Okz7l5lKgCq5eMIF5nd73LlvTdKm5HVIY+xcUVN803QUxO9vRMeWeAkXxdVJ6o\n",
       "b5nb4y1NhR7ce3BMamIp/ycEAOEkRS0Vl6NiuQ877Pdu7eVEdsadhKBeeQFrAIgJJqwjQMt/X3pf\n",
       "LohReZiP7C9Hy4jF6q56BZpENEYvOUlBDDgmeDQrLJqOb87SaZhnwC0GsY/+5hMuPXkZq1oj5+o7\n",
       "F2ci1xpIEqmjadW70pCst9tu8mklcTOVTY9fwc9q4Kf6zgdRa7ST6dwzKww5PwEajWHqLDobK0KA\n",
       "P/cGMIB/1PO87ZXYLsRGJepSYeHCSlmxBYL4kHZH5uwhNKH5duMzY28nwCEsMErjg3uswjVDG2Jp\n",
       "y1kBUXQ2ISj4XJaNJugqjvxjgSNLIhOUpERzdth0hLGt8CpNjKe7kwmhDD3CBO0/qXlHUYkmWuUU\n",
       "vSiabPkMkE4D9INuzbyaKoHnbgzsLxhBCC7UfXHASwr85B5iQpmRqe2luwwoLbjc1LALHMfA7Sf/\n",
       "f32vxYaAWL3acVhVOj/d7Jjt4V8bwZONWhPzJnah7CHCB8GaxsUsY9bkmqjUX/nf1VQccCQiIwUB\n",
       "R1l0Dpik2rnPggw9e7xCqjqWUfjg9+qSzm0GBf3NL4Zga2lBEjjjZlcbscj6FIMeWXUd+KD5kU/J\n",
       "W4AIP+8bamQZcTiDpt9pQMP3jpsAOfka+nDeVwf6oVW9zlrT7SPExW+MzgTSqTTnP2MMvuzS0gA+\n",
       "HbwY7PrEdp451Vu2jfSMRvUrxzNgsMgC8KhKjme5yoPK7Ti+9ym83bKEWhbvaT6+9WTj4BuoCPfm\n",
       "xVptCJWhemq+NUuUgk8A70xzEc3tCasfAGtqForGVfXBcggJRYbcl/4Gogdksw1kyyENJi8OkUap\n",
       "c1wml/X++Udw5RPHHmkXI/fli6np7yoG2kgq/UgUhLlaEyZWNz9ZdlJTTYhhp6xvlgHaQlKYIy0u\n",
       "gGWniaRPcO2FhoB4w1UznGt/oAiIxvqWrKhKP/0DvftMpFzUcU3RQ0D4efhSbLVGIT66Qnio/l+s\n",
       "dAHTTe1xYS1yjr8tlm2R5fC/D/RikIU3vP1s9yu1U3zDJeaHjcT+ineKyTlLlSN4x48ySF11tPFy\n",
       "su+QPr0e6AD9z7w/snj2TVbcWjeFBsc9ak/tb4EFQfMxd9hvGNqNesWQHRGXTYKsaX/z0tmv6M2V\n",
       "07jyR6bnArd7TmpK2MU/4MOIJzu6WtolSB2Dn7yPEl8j0c+HZhu3iZY3kVQYzTLGEjuLauPo3rxw\n",
       "HOTLF4niE7zy6CoALm+oldJ6gdW0mG9QgPzOg4npde7wkelTmWrBS6hPrftpq62j5uIFvXDeNq8F\n",
       "22v864/QuFd/7lJ5pvQf0tGxz74iL8DPCQ5jCAuIfOfofX+101QBBO6osXM+a7ZHnorgnO6oEang\n",
       "zhBUkl20C1NEM5LmZNmwusTd5Ouzcyjzo1jfGBgmRKbWzDyTQKArBjFs8xja3OAYc7Gnoe6NmD6H\n",
       "Uc2IqX7RT6KloJ74Sy6eY6HwsBGiH/AgxZvu9RuhjzGYVw6IGGoxu3jAuG+pl6PaAghlSF+j9Y1g\n",
       "mlEY8KmapbGFImpw/Gni/THxDA66lMUAM458reW5rpDMwMUvqpYtji3zkySr3PaSafwBUZwJwg2A\n",
       "QGepaNdj7P78/tYtABfjzBdhYeVbg8CuXxPTceFAQpC2zLDRrsm+YYOdlsxKM81DB2ujPKPTiaWN\n",
       "RZvThgSYSGSF6YRqZ8a0UZi4P2Gs8GPh/HoIAhfy8ochFljr+Pnx/In4fTSk8zpxEFce16MoeYkI\n",
       "I7gR41MgqUzohbwAMexrRz0dR8gD6tuO1mhrH5TzbER/fMJwIrQyb6qb+v7SaFqlNfB4WgdMIdrW\n",
       "3PPRbFfQcgCgrwggeNJWrgezP/waI/MrIEFLowN8vMiAALtzhjo4lbW7ubrPpefa9+oFR3ghkdEA\n",
       "RGGwqRscPcq3yZ/+SHruXzh1fkQuUKU/njAjLYffuobbzusZQVeTOcyrKJ5Ph0tFk4hjeEaQxa6d\n",
       "rKm0gv5DyaAlPRY+8MUBSHxSAPwzvfzIktkgLR2U+mI1tcsLkrTSXdFB7G5DvFh50Eu0y4KWPDEu\n",
       "3r2CyYU/wyF9TV5RpX02T7etbMvvbsKA2ttWUti3maH4QicHf4Q6Pc1zdrisP674C0JKpRRmSd2P\n",
       "c3VHUoNs58HTWSoBfE7rsA+2t0IZv/3oGHXWYNht4MXE8WRdzBRZMNWtBtg6rbbVxLPLu5fVN0jX\n",
       "VgmvGRpuCFMHBVujXFkIZ1ZYXZT2LUr2NE8J59Ac3StRDxWphlMU5YlbejcXjmqpfZ1TsIOWIXZH\n",
       "lL+3KwWTtX5osKnbEw/bGeoDFM+39uXLB4U7ZCfh5DEJgzC/UN2LRUFsbuql9tGp1oDh30m9Hv1r\n",
       "6S6zxgAoxylruGHIryP/DwUudrAlpWeHp1A+kQcu5zL5lyaNESFgrySvvs/5w1Jh75MPCGgew3EI\n",
       "noR7Lhc4nNozlhDtOm+oRB7ZJurO32/fSKPqSEx04bFVM6DJFDo5zNqkTIcdk1oH32zF2Y0QvoyX\n",
       "6qvUhD3SC75/2XQwxFCi20zkCiaishtU6ExigK+3zo+0T4Xs7Q3dWJnmjRyGtIPpuJtnQY/afw+D\n",
       "3Y+lmude2Hv6vejDLzXM3iQSrUPU+4x+2yFwtuwC0MFtvF9ykHiTXu7OjKVE10rwEuziVh6UPqSZ\n",
       "M6kLpQ9BHvSAu8AdJ1dXCMNym3hejHoiF2pCiyfHPm/421CYxOw6OPaLJUe88aJaR3ngbJp5/dgz\n",
       "l/5UWZBtXmHai5vhhqFGGyu6CgJD9HNwa91huh0be8ecfliE/n5iZ6IGnMWFY+1ANvbooj3xZcRl\n",
       "A7GFdOgeY9aUybpht8Q/PZPB+taNzQ6Il/wmdXuBZWEyS9ek6R7VYcmREccfaikmmL2AnfcVDDpv\n",
       "Gk+pJ6TkbzEumepDKiICamOmc9Bc3j2OReqvnOAT1aIs2QGk+Kn5MWJNT95kKRQVYhkyaa+XNQFE\n",
       "oGXtWU0eaXRkliZf4rIi5Y3fvrwdH9CvJTs6x3IaP7RHSkO86sjsgc6kPaW6ZsUW6fP4dAr670yi\n",
       "FMIb7619JAQXc/4PV3wUu8bGzob+N4DWfPowgy1trCsZtpebmNf1lYNWFbIotACSkUAlyaVohOih\n",
       "spZsFo/eFbsHzIarLRMPsJlfu3fnn1B6PBdrLlWjvFPq8yMYYFYnM4k79+ygFMWAVcMD0mMitJXW\n",
       "HfjbpEi8+8soVEVhDMLC802ZBjhSUFJvAXXEM3EynU/Gl0yC6lzZpTw/666om6BabSXXIC8enCtT\n",
       "8EyDy4iqLg/Gf/+ojDaXCCY1wFezN1cgJB/CB2OPx4ikids9q0+cFsWpnKPL+vzDQYwkQ96cm2Ru\n",
       "pvjUxD2tAu8WHb27avp8wfIKPdDn1u2X9/gE8DF5wUg3Q2tkC+yo0OXbEvqUAWmEOpuvXxytlxz4\n",
       "pH6icd1JEbGiSz8Mnwf7E7KG5iuog76Bu/Q9H8cGOOSk9nxpUVNx4MkyX6sjVsgYRWi5iKBmfWLB\n",
       "SPLICm67zcC0CtMBhfJZVTmsLD250PIAnvY+ciACVGtGG0J0Cdg+lkeFI3m1ypwiyxe9mcVkfrgK\n",
       "0TvuW4kX2BZhROVU/mUegVrnaHyZGEK9J4lalXAuGb+POeoYloJUU1rb9WprBxpsYkyRpvnpf9dM\n",
       "4kCS5gXHYiIU44N1WfP2YMkS32EhCRW/bPjade+cTqJUud3G0KFRo3VcmdasCL4S6ZCh4uetfzLK\n",
       "nIqUtcsOutOvn/XXgbhfNTR2ZIWjcii9XtzXv8XrBkiG5rnH5s4kiSkMjUAwp2fIwm27SmJouvra\n",
       "h+ir+0Kigw4n47gQ8H4kPqiz6wAmd3hLs65CFDP3guucu4QtuHIyDrUi8MNLkxkEglgLSWXf+fPy\n",
       "Wf/1KRrbTNja7p5kdVYANHLjK13QXYpxlg+3v0sURxIaT1H23z4n2enQxIye0AgUp63N/Z5qojs/\n",
       "/h9EeuJXKyKHy/0sKF/L4qHlW+T3oxAgSTuUkwiBaQTHdrwWuumfZJBPKHkBTKCZ8RoHi8s/lBtV\n",
       "PNeQRKxquHeVtZ7crSqQU/3R0xKvby5wzNHyApSklWmn0FRo8ENQ6rHMHSve7mKxbKvvcf8VnWqG\n",
       "0dM8j4+QdLG6cksR+1RT0Klqg8tCH2A6DiOASbJRp63QoPFa241JxJfA5zqURn3+feA1qNsivHxX\n",
       "4jZi9GWo9/wXEfnZ9uNQ7fI99W/sOMwRAJt7pRC+MM0gw0/SSFSfxLCd/KeQ1D7fgdU3bsFALyTk\n",
       "97uQT9iDP0MsVsKxtKvZ0diABCKyFq59oBGPRW2OW5wc0c/d4m7mavzl4r0MzULhdGgL1vpmp3Ur\n",
       "JcYJjbIMnSwdpcJpZO8LqpfTqt1HQZmkrKzyJjsWb0kI9nz7azEW6vjOFPx5C8ExcWLU0el8CSt3\n",
       "Xuy2NZpU7vK+yddbjkyohljGmXnTCI9nGgsMnmf2GqDEEFclB/JY1n5d8fPBmjurozcwJGAOJ2th\n",
       "nE2744FKt+sAbtBCbAjrus7mmaKUbcSMeZngMxJ2Fa7NHPGgVtjcQUWgNIEsGlY7Ndml/IxyqoJe\n",
       "rfOr/OHc++QbZS6nuTVE1mgoikj3bryMmonVcL970NIb/0O137vlbr0Rad54n0GMLYWs4lRAgX6J\n",
       "TN7ZipLaDXhO6jo8Qp8TvD1qdaDmcZrhEZokdezvS+oIlBzy1ks4YiOaGc6tNGAOSFdyAtUXILVw\n",
       "KoH7Z2xwEAcXX/bt5rXqqu+4rInrBTvrmPo9W9voaJJKOo0mi2vxi8a8elODAmheUarKEi80u2eX\n",
       "RR+PRtgDs7/fDnhDlVQrRCrtK+7u6sW6em1A8u0Up2RoYmXK0pYY1HOFRgB+XhEKhqx4l3UPsXta\n",
       "xcL6wtpTS/lYl650e8O5H6rMp1TKBl5tnPCUbDBxNI+CN18lKLlrXt2zPQlB8cC2+f+HqHRgvBqS\n",
       "s34kzsAoZs5U7iCw40t44jW5prDC4BGnSoLTPSiE9MYHpYVxNNlav8zzAvFmV3RHPz7lHONP9g6L\n",
       "Ck0cGTAyh5i89L7vPgqk/VHq3FHBlof/GOb83QohuKXMnyp8yUPyJEqlqWQq8B9whCoVrq7e3M2F\n",
       "4eU31IUNbtxHIvHSSrNo6rqvHxD45xB/HMSpPVfSNM1OplzpZnhwQ3DLlfvGvLSauYgl3jP/0Sp6\n",
       "0kZ4EuA+SF0UvzhdoMeMN2CAF9DdDky+Gq8ykG6ZLQMhgLlcb22/1pfIK/7Nqcz5++amAlssf8xm\n",
       "R+PXRS9TxDcUKqzW9S+ytD8wzYw4yEH0naL6XM24nurRplRIgYgrFXf/j2XIJomWPW1YNY76GZxv\n",
       "Qkkf35sqKRVRNIRCaClndnOLupuNLijalBT6kNyYTFdoscsZPct7TaBoyb8M6w4hB2v4ct5iWpGY\n",
       "8/tlTgicVezn9eedy6coUit2CfX1GOe2ZqnrFftGdM9ZKaafsKhYq78lqt63PDLSGTUa0zi4t34E\n",
       "RkbyoqTBvQ3b3l5EhxbqCF7sdL0wPIf1bkxtAzxHTp043lOoNuUctWe87rBm7g8C1VfBa+yuXFoR\n",
       "CS2d7g9h3dVfCV2Git5Q9D4SYVP6v5tUs9AqMjCjP+ssJCyfcvgbxB+PRRhguWJDdvBULV5GP2gI\n",
       "r9LxblzcVKXrE2D9cf/VfCCFHaYtpCyF522lBlNEr81xGWN+xkCuC7TNcnrqNwVs2rTZS56vInv6\n",
       "lfiLlX9iUSdVn6JE+7RyyPD1wQRVXXOu9AS62a/1p6kgZB4XArk+MzsdHJtmG5xctd9UPciOSdVo\n",
       "OwW3HqsirAB0zajgedZsqKW/l8Uld1a9CjtiicJHg1CSmkHE+LiTKKlcPVew7FBFpk/JabGSPbaa\n",
       "SLSNkzhZBOqxYmH//rSsz0A+wZGlXCVpJCVTERuOp/bogtLMyxPc+CtxlsMJAgm5ipJRzSiN9sOw\n",
       "ZWvSTkxfSDJ/ItJsLV6b7k0Mw51OqlqUjP57rK32FmqfZMM0P9G6TVuSEGoH986dGpW54rHOcY+O\n",
       "NH+HihJo8Ka78Ub6jBRVrUgrLeXO89Nfy8HINxYyMTiN4mahibEtbXW/ymkVbQRYRwKLqeCD53+8\n",
       "OZ6fXzq1StzhgTbHhtHDicyGeXqfYB5hCR52Il6w6vL+/HdU8xUT5ddBaZNks+QQ+BdFMKGJGS/P\n",
       "r2weyqrxLu/+WrwQHGg7oL879aV3w0uwmjIA8KepnxbHxkNdp0N4WXyQPnQKWYyqixcBmyqZwqne\n",
       "GeCt3v5EcjS+w7BpB+Lc3VjKalpWv7+P9LeqENu4B2/SqJM4TP15qvzDVratxWrZFTaGMtyULQb3\n",
       "I7P2izG43rptSeVt90hX6JIFgSHV2tDqQ9aDAl7sYX2/V6asTlD9s3H3KLrh5r2u5HUUAQDdTc9A\n",
       "ABWiTRC4UQ8WgJHWUYDIBYatZUnnjC8vCo3A+UBmecE8m9hmSKFd+piNqLkKrhBxeymIE/chPhTY\n",
       "ozg1BLLIY0eqpDBweS60CH7uapMcYj4HTLgxoWJC79RKCnrtF+cvgZ4wXTKfO7CmzxUTRuxdvL9t\n",
       "Z459xLZ+FVlc/U4fYRjEd9/vYYjU/ybsvSFXjZDSfhKpR+douvdZR5VblsLIXkrM07FhYfNBkRQO\n",
       "JDvGAQomxFAFpaet/eV8DWymga3Z489MtgkS1UhlrKECXrmfz8koe2pPiSFpKx7f8tmLDIXeyMCV\n",
       "0SeqvvHNBTxne0yFfTB2/779szM5gCSjwgy6C1/NBzuOr/Cx/LoRyT4uS8sK3eoMJDpxCKaAxeWJ\n",
       "2urIvuyzVrpXVmsN5mpNlDUXAEmahflZeCRIl3mljlpjz+kXiInvFEUmSr5fpixFwQ76+xTP9DZO\n",
       "n3N6b3Dvbt/RJb2ONfl8+9HxWeQZc3bvgqUDBPooUw9p7wwUHpn041UP9mpcx6EH7Qj7dr6teLDt\n",
       "sVVSaxjqx0auPlmmsgnUwmWRcmyDozyYfWNx6tKHWzvfjY6ZPERyYHa0WAX7+Z3ds3NXjI8Tz6h/\n",
       "bD/M7zAIIx68GLqFwCQZwbG4FuVCyM8zULEgGUuVRo5FK5zXw3HmyDBKJV9CxbCDxoWqhSy9aO52\n",
       "d78esRgfRcm13FR61Qyg31lKhTD8Tfs5guATFsNsNR3z3tW8lJ/rpSM5ENdieQJOLJNOCeFdwtOP\n",
       "dIGZrqBmesmsA/oQ3CRkUDoEPppMEUoaTZe/3HuLcHC9ttRmaAwX+jfOvFdxjjsMsCqdfK015HTk\n",
       "ZYqwk0dpRrZDG98Sss4ZOWq+0MLJtIAuuHLTtZsuftPjuW2RChft4UMNgi1Oj3z1e1/PRCbBG8bQ\n",
       "rQFfYAUc2mROuzqk6oTBGF1k6htCyT2tIm88+T7kauT2KbRye3ylgSWL3SVX7y8JtWI6p6BMB7zV\n",
       "T8m9+D1OCSSpN4vBliJ0KcrdqzH0WIV9LQmn0hepX/BLXeBQq8ym8IUGRbRZQx2QZJ6jpKNzbcVl\n",
       "yeDBUyHrpeHK3HLz8IF+wY0rTHJ3Vq5ryayaaFEnN7ha5KMtQzUStWToqxOZMJE3JXFm6kJRbrWy\n",
       "MvnRsQKiCeLeox2Znu22DvVAOhafPkY98vTf8+DdQeioLimA9U/VTKyySQ4ORApvWdCBLLpLHmUg\n",
       "J3QOmPy/ve731B/j3X/x2xCHk6PLVt55G0JT/5iYPCvdrU8ZG5RkR+AuNK74Nuk/o6pdZbSdqW3O\n",
       "VUnikElrKFfInhLkvuN2NRaaH3rDchf4k8L5OhWVyNmwntRoDZRJV3mU6N2we2U4Hd0JbWWzKJTm\n",
       "tRks0mnofax1V0d4AixRfTjcYveBowNxg6wg+1XrXey/r+fqiVPyzbFV5sxsAu+K+xmbPEe5kqnH\n",
       "rZUwnulivBBoQdvcr66k2SEbd2rzit1HoNCJVwECIxeIcBmbfw7rwUcNrdbwWYglLKaioR9R+Yu1\n",
       "BwCcKD0w9DWnPhEe9YvZ8+kVI2Ct8wZOIALjamUpPgfWgv+Mr1jp+H5k2vL3rfPI3/wZyUFOctIV\n",
       "UCJ0EaR4r3YXUBX2azFU609mfV4I5h9rnVsq0KzvxOeLyJe/7euRnmV1mJ9GlQj6cIwftg6omJsF\n",
       "NGjErIN3AweBcMnPeRA9LlYranJM5TuRsQXIbRoyxmMFVNcGLIBC/7r+0kFwlUHzRIQOl+iEz9Lp\n",
       "hdIMq08xXhY2DI/DaY+4M46xKlwlNTBzpAYLo+EeBSZ65N1xO/87mkN4LCgQ1GEjV+P1+uj7Rduu\n",
       "ThhRTzl/HYAbkwp8y0/lePSqFG5SEtCGY9TFmggREhPeVE6B7Z4Fv9qUpoYvRjF0AaalSjlPEEiz\n",
       "DFED4u21WGWdyUB70zJoifG8kFyNReP7IiVQdsb3g0XEdadG3DkX3nEbNOXvlyRtOSCTXv87iQLD\n",
       "op7hyn7qoLg55+EUbNA9cg+PnKFYdLXdV0KC0r9YNoJ/8bxnld4OplCs7GoH4zYCVuOaEfNHZOaa\n",
       "KRX5udVfM1QxUzcyEawjhWUsev8W/XM+e+2UyKcNQGvX1WY4brjCeFU20RAlnMAVtlsQxKS9dOL+\n",
       "8Q4imXYrmlB8drcBIwBGGKUtGO1nfIaq+ct81w7D/XDZ/iexz3GsFrfT+nzSUBau8//B7tDR4Vw7\n",
       "usgy/2rCZ1xU1rVYlXy09/E0k3XwSgC3+x4Lt+83xgNF+uxWA3FqlvId4WtaaluKAlonI8EIL2N4\n",
       "/Snw1gTqLa4oV6qY9UnkmRjq47P5em4ymaexaoeeARyy2iSaOwhk2XHQFo6e6u3NacJgIl1JXzxF\n",
       "shBph3E29M/uwEldk9n9QqbVcvaEv+Co0Sn2BysbgtLEsPAXGLEPl22/8j/1zgaxXaPJCx+kS1/g\n",
       "LDT63yF4Rd+uDa4l6nzfYfTaZicCo6OpBIrr3h7aXevoGOJBO3/gfK/xpYpzjw/sXw+/jqn0m/Dk\n",
       "xHwNYMCm+XYHUZv/Z5130dNvjbzNiEpo4kUuK+3HkyDzi/uUis39G45s/Tc12XgACyXGDPZItkHa\n",
       "YzRRIkXyAoGNlQ5opccRuGQZ+YM4bONRuwhYhn+1MH+OnUC4SGSd3K1oNKI6tUmvMxXMfiBzKPZX\n",
       "B/qI7XDtb4QXt3Cf8hBESeTwLNBfcy36mczbxspwuCCWh3zz/Q2abDj3Zjtjgj3HWxlV/bxEcFpE\n",
       "156cMGO49AA3A7X4SpGa7swJ6H8IAOQGFF2jn87h+Q8Ut3kCouQdyry4dlj/XiPXnAKmGb/bjRR+\n",
       "VB/Jjw2XqPreqMh4Qov0qfkSHpM4FRS0c5kFBfBk8Z5vu54UoSYs22omZIUKwU7ChgYodWR+Olok\n",
       "jNa2koF6iFszDy+8xXFTK24+BGV1pUTdCWFlHA2vyCUHs1tuv6PYBluQsMLhUwCHEsZ3gScBJ9b4\n",
       "rRWoFxbLdjhwLYW39C9qiCYbfozqjSBCvJoNvfyjDDiY1Jo9WuYOgEdyQ8vikq2CcfwyN1Z+5LcU\n",
       "Ank5nHZAUcSibAxS1NDE/q0kcsXYLNfZNHTbDoVXuVsycH/yW3jIN6Zrnhh1/4reGbOjPR9t2IuU\n",
       "+owSWAKuw+wr0igYdH9lxziz+BvodWje0t7XB0AgxNRlwW8NWdUzkR4rfVuEdA9cj5XMQ9XpFQMz\n",
       "uN0HMPZ0zzhzAR7QKNVdssPSrgpGRLczalrc99BFmYpUM8ycg/UFpdaRsJeuPNwOyBaf4m5S/Ghl\n",
       "IPXg2n8TYTzs3gKVvsFIhOhQMAdzi9/8Q3F9AocsARqt+gi7RhVt1lVqoKNf6FOHCZc6LHF7T3yW\n",
       "pHjd4mb7IFxXh3GRGC2iHIGSwmeLCTom2Dx+Wi47oK9TkbKtF3JXQYv6VJocbOIdPaE+Kymgr1xB\n",
       "g3R6qenwyUCcLlCzhV0/B4I7gF9kj2KoOarsXcPJOhnIFg+msJVuhRNByM+5FRXiOO/0ATsU4SpU\n",
       "xDMvjUzH90ZURQ3VO+RAN2l1hQ6akTEs+l9ir+EAa90qQhOht9+gl2Az0dEWzmbpjsOYpQsvqwbx\n",
       "2rzpJHqJ4aVw9MzeVzRTkXLBsR3iMsulLKvYE989j9QE33aTIQYw38C49ste+wYvhiyUNWmGk61X\n",
       "VPcIHRpTA46AZUyhz9c5AZRndfFMOWRPPJB+TnYAsuSmqy+NaABkgZ93VaVsWqS62Vd9i9/1/2p4\n",
       "6EoW3WUYbrdAxmdbp9YotC1yF7k0H4GUpuv9vmEO7Pl9qKv/SGnzFvl7XM/BnP1Q9TneDw2nF/pd\n",
       "qqWtORhOtNrRDdHk8TJkT+huR+bVhk19FakH0OnWHXsJEtEpJtRuCXpok2sgwMUY73N5YyRWXoTC\n",
       "l7W4qxHLUIm/atTEmHcEE2zAXUnOJME6jh+stZWXb2VpU34Vi7ZEmjguenqNtH80m0RbbBAiWlEa\n",
       "0r7bo8jFutrrFPdpDWApAaemkTJVVxODBspPYfMN+MCxgzmCRl1bO3zzRpLdqtAlKxFI2+CJqVgu\n",
       "KsEn2MvIp5u3u573mZirXXMwckJf5JkVfWyIJ/f/DyuzaLkDS5EBoe/whhWTrWSd5W7kTrD0JCh5\n",
       "Y58DKTokZLAfQwsZawvdV7X/3Y2XDrCkCXioKen9zQt2Q47+FE8OpSwM9CG6A9WY6DVKSnJfrmB0\n",
       "ZCvwR+Idx/dzmWkXoP4NKPg6G1koRiEdxqu1+y/Pp4jRYRbX7M32dCBwnT4HT9F2RoOtejatVm/x\n",
       "cP+bR7JBxyHJSRmlnZ6k3YPm/gIYjrpA+43AKUaFsly4Vi6x11rHVQZKIbmerF3E6Ic2ufT/GySX\n",
       "m82H5Z4jOEDLPLOGlz5o408rxyaq0cwLwqmmnmooaiwmdPdoN8xlGyAk1jMTScRp4FO5Kpv8wSy4\n",
       "ywiBigdtjTrbPgKh5zevsZ39GsZP1L2bX4SDDlNNmr3SXlpQ3KB68AVTFl7H6q+xBmrpj/r6Uwz+\n",
       "k2ea2km0h7VSmPi1s6lVj1eUoy0codCnfhkmKCcdOP8UU235iADqv25uwlcE+J/eA/99NcTneOc9\n",
       "OsRDvBbPNxRyfNcVidDm2cUcM5x1IuDuNVCvobdk2g4xiDFbuegeZxskV4Os/rfrI+GIXO9XhkD6\n",
       "ObVBOr55VPfu6hUapkH+hiURz8ENSZ4wiVpLVYK2GHYQ/jnb5PTCEnEC6zx6cdcCZ6NQufVqUbWO\n",
       "vQqNGpTY+qq5ThIaa8gmUzbXWuIwsm8reUDnuxwybe1hfWJJcnMq4waVdzDZkt3s9K8JSwD2iyGt\n",
       "mWr5T+py03oynOy/pQ6zh/wQvgHbMleUPsk9sFq4xA0N2LXuIr0XGLl0Sm1/QH1UMeOuhiAZcFkz\n",
       "hDBZLfnCSONVSC5F3Umy5wOYAmFWl7qJmCZNPkWnoH1p/tfQpixXIm9G9eCBeTpdCn90DD9g138K\n",
       "wsqbOnHlDilEEAxLko3jH0kHBUQQHS1Y6m7S9jf5sW1NGps9GyG76+kzMlTKEHOPTKd4Po2vazoU\n",
       "vrE1dIbW7Gk+yscymhz6CAJhc7gQJlJXGh6rs0QrUmq+IN5+ZcnPng1orTPar/eG6TmeUZBz2ekC\n",
       "a4Z9NfFx3FjODUzRl7BfvUzO0XT/szIebQf1vuXDAwjva5UCZswUdem//asKwpKcWNJygev/7uoE\n",
       "zTOqeEI+0v59fuedPNm64QtCml3rkslRL2eWNGzxdcOj9KMa4S5EWVCsgcFy/RX33Irt+zp2xe/k\n",
       "NiCpoWm9IXBYdKOu9C6FefnTnb+PboRFZyVAwWqR1bhjOVtJgnMe9wltP42BeWFyHccAU9l1T05i\n",
       "nD1S5kkNX3we3RliYe0BqTiVNRj7/gQal0C/Z6Yw3NRpphq2+DzVcMkLHABZtuYYk92qhRUBsWI6\n",
       "mxnpJ0XPlJxBpZ/c37fzdf0axyotD0IIPErVE+1tqMlPjEdWVQvE1DCFEgGUz9jQFqTs2i/xuKiP\n",
       "UPFslkHa+cSfJtOiblvTymZNCoTsuVhk8n6YCK1dcKlStwzklYtAGUfikWS5LGg23f5bv8uZmVT+\n",
       "rtYSmJp/MaWdzkKuP1kDin6So6gWkBFMedQs9anH7mwMq7xDTzSBdTHgDYMOXGNEI/ctIIAARsa9\n",
       "GBR30jBTbFf8JjKCY4Thit6ZajuGhOKdavkAzusA2umGCzUEyZ3/skN2uw+t3RR7OO5+KWmhlSoM\n",
       "DdNMvV38jtDqSv2xW3pi+klkyeDQ/3iI8S2qfRNGXqewxG1rcdjfBpCUqEItdaFPtFm2PuA4nv//\n",
       "LNs8rF+iqm1vsNd3xyEOVmmQ3V2Ee6qBvViHEld3IUR/+IJcg/IhtbbHT33dARaZA25XBgnsDcQE\n",
       "e3KFRfvpAJI6273SqsWBUWKN7soYHPx2dF7UtpuOi16K/7TL2I1mWemH4M1ALjEF2UB5/lVX2rFY\n",
       "V7xgjnSjson3LO6ADlVZwIwUIZtGuf950PbD8sZo2up4Fm9borx3dJigbiGMZpMgrOofZIjifleZ\n",
       "SoXTEQTKipzUzN5HblGa/71Iu+l8Dlu+SFLoZLpUoR6ky7hPpZXTclzTILY8Sa/tfZL9apbcB6Xl\n",
       "Jn4KzLQK8t1XyWvp7GF0duNGBzVuWspDZVWiuKij3y4zbPfkXwkWs+bsQcztpJbwAFpOMrhBwC36\n",
       "Yngibg2LUchD61R0p1jxk4IaXiJ58svs1CRRPe34sDyu7pFIjNWbM/prSn7DjRHUHv4+IxKftd7k\n",
       "VU2wkwudnulJSu1OjcnmXMPtoPfdAy8YGCaXuPd1qT0LmqCdklW7dyUyo7WENvhQ8xkZYDPfs/f4\n",
       "QQ815tEBtaGz/7j/B5JKJ+3KuhT7gQvo0+NVcj/5YsNXFK2qdpew4wja1W86tOZQfIa16Ter2Bll\n",
       "UFurbROxsMc8nxmJ72Ea7gV7idCfMWYYDYp8qtiZHBtiX/UgSDjHkDYjwEBEU/m95O5PN8EMTPBq\n",
       "yWCMWAxUWqkBL8cYn4m18YhV2CgsnR0gYpEn2w27ng7exMmnaaYWuOIWbuPf3k72NGgJzC6bR8Qd\n",
       "Jc75wnuNCJclQ3u+xslr0keYjWpQ7SvUXO3MghNxDoWNoe4rwedDtJx28VIeAPsas9wg0D7h97Cd\n",
       "FWd2odTYgZi4yvaKhmBNd57RyiO9spod6/vPJyzGpAdzAHIgHqhF3g4zqYXXvAjxZXYua5jNUL7L\n",
       "Dm5RGZzwn/AD6gixwZhScc5XnmCK8wOBP9EBXAJo+ia+pyYQnfRm/nVttXUnqsx6DSgpRcU2wOy8\n",
       "Yq3QnnGucOWj56jaKUMgA3mRfpAkIfjxyYDIREVCV3qza2qccutFAoD6j1tGlAin6lRsDzdI4Tds\n",
       "t+7Ug7OOASrUXMgGE6kISuit7JmYL+/BfQnLldVXJ5eZtBENL9jK4yi70vtLxp5mvwqmhwfU9V8c\n",
       "Um4x0AHsTUlT0dSAPgIWs02d6kXvQuhshogtFpB9htA9GOO+DbBj8zsAfBSU0pTYGTSVXKaD0Dhr\n",
       "CD8zrA3Sa/n+4ZcjAipTW00iqe0OkV235HiQA73s7whLXDMbiDGhCDrleqhiQE0OKbvjI3dHTFFR\n",
       "Lc2OfsPWIkyZfESGxzE/OmTkhxi1nm4/hOn2ll6x2pt8i/jIFDax/8dRb4IFfsMkg4XGY8rTOz44\n",
       "1GOi5CUmVZ7/y6P05MiszrXl9CtTDs1pJ3A72lrE80P5q76AVF3b3pXt5eC+xt4CaaPO7P7KRyDQ\n",
       "OYgdLsrQPtACZC4gtmUFHiO2zQwf1Ye+LWy3wp+GMzos+cD9+31c5y0nSLDc2DQUs8yNNltQPmQF\n",
       "8+7ULPrbWc9BG0dLqr3eNBbPO4xyjjd9pHfYG6vMmMVOdAhYdYyIgVXRLshzlMZDfqmIWHuN0aSJ\n",
       "mxQNkPQQ222nMyGbT7eQ2MW15KMAHl+o0oJfQfUd7PTFDmIMK+qY2dSdtDuS6cgBla/Zv2BUQ48J\n",
       "4JAWUH4TsxLvJYUbRRnOvwqTBtMfhHPk0lVj993uz95Z612kxp1Qbb45/kySM8uKrNrRUso+jome\n",
       "BCn54V+yXiaX9tRwwXeFCjU8RPSBE1mrJ9kQUADhZwGJRs/LrqKwV688Gf7Zrh/8OCT64DCYJAdL\n",
       "uTbonZ+Hgrl7h/I65IFVIWQAQ7hC/Zhqk3igBDQ68VSeFu6PuWwhMtWX8+gjwHt3SMkBBXkPNdMs\n",
       "/NK21SwuKBag/0xivsnY1pnoHgh/CvbecDrnPC/Fu4h53FXhPnIpSgDJco2o6eohau+0jrE2JRcd\n",
       "WTd1oRw2xamP07hxtEoSOQhQcKXxfrRjpK8i3bg0Vu9xGoBXAgwNDGEDJ0M9weTObmzqehNvPVEc\n",
       "A/KAV3Vj3AVlWGkeAVQHOr6mnZ+P72+pIa5D9IsfJ8kW/9N32RiX6y6wYFzsDFFuTPAOLe/epAe1\n",
       "nfiUh5JF6+igmeZlQ8H7H4QyxKze/1+8w4mhcUskREs7OBNynjFxedcQuzbuYzCqXrVPGN3dE+Q4\n",
       "dxKOFqh4g1QQz/X64zHwU0yFHIwSXpShX1U8gt/UkzSBF1KIlFUmiCg0J1L+JeKJxB82qqlOKljy\n",
       "L718S6SAy8NQYFyzNaMxhtgXGNCvYEsautUijeB4/Ppi/HaTR2O/6ODbVZfPWWx3+Ev4AHjEws4r\n",
       "uKmbd7GTwtaSVwAAAolBmiFsQv/+jLAH0pCgKAWJIX8Lka3jCNnwNK1F6hx7Sw0K/vzHleDMDACu\n",
       "JoBqqDRbrSaLfUyueGVjuwjD1OmIlA3wogrJTEV5o+SKGECywfN9Mk3pPrUPI9d0+DF49gBGUDPJ\n",
       "V8T79x5GNK/0x9ZQxm0djbs9P5VCqOtdff53IYn4dD0iJGsEK5zo/WHqEY4xD5vO4v4ddrz1iKBS\n",
       "Oayesb7G93mJCqISmcUkYTqEwhrnyMt0px7B47dmR7/opYAqAZwampbpkgJB3lTNZ1dOZOQiGcgK\n",
       "3S9FCbGGAm+XQLCOStqaNVrm4cc4N3gZtiPXB7Xi3yag6Yvn1L8QKN+AEIxbNe0e/f/ib7oG7RgQ\n",
       "WbRA+oLFYU/hY4JTVYo6RWCngyrtC17bWzjXBbRvTLqzUrJ2aJXD60PytNas4ZiCoaMYeK3q5VUD\n",
       "YBEUYqKmNw66tzZ/oerjUf7vX4FUTl7eAwiH0fV/o74fmOOsE9+0Z+ZwsL3R27KVEFtlEY/uLn/4\n",
       "i3qpeC/7MB1y39DmWic+MAijN+Cn1rmKelc/kU28KvktC3gzjGusSXt4sxFqHeJ85jJrpPqBvAk4\n",
       "4lNwbp9JnMzrWpIAah+kqJFS+ldZiWp3xBxP5ybaSMTfQfvD1YlFFYYsMWKjBQH0QD+6RcBT1T/v\n",
       "avcLCwSZ/QRxuMigm6Qi6kfih6+RD/rPhE8qgKSTFl19vNpaZDXLR44s/TyUUDTvhsmtRJTVytO+\n",
       "pGpxI85QND1LF9G77pqb7oSenj/2ClANNUvR7xLdndJW+zVSzzbSk3NxEtYUOnaYbS6Xvpzaou/j\n",
       "H3TDytojLbViGITLCp/CgiHxrF6A23qNlVrNQyxRmMenqEE1AAABd0GaRTwhkymEL//+jLBsa3bn\n",
       "uIcBT3Oa0M9iKCSsdb9pnUAEq7Ig+Jn/Cwov6J3T85jf8DhS9P0gj3Sx9/Mt7bQOrQxQH5K4zrP+\n",
       "DYrnamDg6nPsZgDDE+MyaX3kiKffTA1aD8yqukpJaVaarmu/YU5r35racltzVJ9N8GC+y3iFFgkI\n",
       "nx3ra/Q4YeUdM+NCwhMkW0PrYw8WXAcTOSpvfh9Wf4FpXfCWt/wZzixtYFi6dYX4DpfEpFrC0oVX\n",
       "vHJkmltoARFj7PiQIrXwDAppBHSPeS049AzOpqbg1GsXzMWWUrvXN90ok5A/Mkx36fwVmjjKErEY\n",
       "9Fldj4HFXpzIA2WhOGHY0DAOhCD47AlMv84CeOc0ooiaMfP86yK1yV5gnYUuIjUoDdfnMmmm/1zR\n",
       "rU4HCi+FoLqoD5Z+ng9Y4Ej+9+9FfcvNgUR1xCPJ45Aw+LIuA6qpb3jOwfUl2O4s675MVRGgH3qW\n",
       "o4XVzmkQb5W3wxDT7Sw9IQAAAEpBnmNqU8I/BTPd7az/ongQsp89luaEozJi1TWLfv39Xh64abJc\n",
       "niuK+UDo4AnsGyYAE4u0/zcNbU9ZsdD+3wOiW7HemJte3N7bWAAAADIBnoJ0R/8H4n6wpmZ08cMo\n",
       "fXRPQL3GEFsBgixIcLPrLKABKi2imw7m5fDDgB6Nv4F3vwAAACwBnoRqR/8H6j+14VbZ4ZJaofsn\n",
       "6cGEtvTz7PLgAfhM/jooydUkcOt4B/NZDwAAAMlBmohJqEFomUwIV//+OEANf6kZ/JmNZfg1BJ//\n",
       "iCLcn+DAJr50djkd+5pl9KsDx3AcGKzwTQdDGraPUrot/+pZrZIovw6qTu23iZ6u6ZXVSN5hw7Z1\n",
       "AujAsFbGQl7H2tSt7vDBYRzEVyW4WrbkMcHjo4U0Ke73Aaulyzw3xS5ueQmCGV0hZAGvAM9YvyPd\n",
       "lyU7a7AMYYMKxGRHpJnFmqybRX2n9xtT7wvFK9t/3OAt3S5uqRRQwP//1Hq8Pexz/1W+kWBTCi4d\n",
       "+2MAAAA1QZ6mRREsI/8FWu/bJhvV/ZDaFdkaxxU1/OHPUW4SS/M2kAANi59eGGYbU3devWoZAi97\n",
       "FZMAAAArAZ7Hakf/B+o/W6HEB29t2o4xFQEnl8HvKAC6BOJQc29RbvJKsdbx9C3YcAAAAGJBmslJ\n",
       "qEFsmUwIX//+jLAAAxgqKYOrwAoBhQmw+s9aij4657lOBK0nccZbD8vKULzWjUpIjf5mzhNzDJmD\n",
       "8q9U1Pi/4hP0uBkYuN4mgZhgPjmU62wHkEN8zfJCCwS+y3VzWAAAAKpBmutJ4QpSZTBRUsL//oyw\n",
       "AAYB6dAA5YqJppmcn0cfPDi9X6x+mqobN2K76xI/kxFIadV3RZOh11v5PocRc2vpmbQgcMhBjNi0\n",
       "lg2drDy6+1q/q0+G/5BvdnqnyFlziJGNMZaf6uHyfyO51GzZkiUAzptwLQ9qL3PB574Hrbuzu9RL\n",
       "qIJbltldm+SiDndy5ZqgpFB5smylGLbLy4yQL0k74464Yno3bw5yVwAAAB0BnwpqR/8Anz968x3V\n",
       "f7V/K6z1ajUdu71ejdHdQAAAAMRBmw9J4Q6JlMCFf/44QAAtjlz4uawDV86SzyOAQ2tuRLt4wSYN\n",
       "1LFJtxf2Bxw0P04K4jA7XfAHeKdgIh4g/HZG/feeZsafip1XPGX1qGUKkhLU9YKGeLJjFDldu259\n",
       "hyahkdhhnqMoK4dilS3HU7x9ezm3k8a2YRI/PK7RrswBiwZeSn5yQBci/50eKXzyn6EU0liuttZz\n",
       "5Xtzs0u2eIcFrnzFsltVq7NZjIKlLUwDDZ3ZHsER3PvOhznXUuNGixKGWgLAAAAALEGfLUUVPCP/\n",
       "ANzcYJYOMLO2ILexgAJ27xyafhTtLxOoHXk+eXAW30MSNDAHAAAAGAGfTHRH/wCfC5Qd5rJ6y/h7\n",
       "Sv++4y7AaQAAACABn05qR/8An2azAme8AJloNiOwYdFiBGYdkWz+sFhkGQAAAEpBm1BJqEFomUwI\n",
       "X//+jLAAC3GBk2AOUaGUnYntUIG9r/R+YBVaeAus/VRMfPpQW2kR+Ne4KucgI5PGwl+O59zschEi\n",
       "rV1ouHmtoAAAAIVBm3NJ4QpSZTAhf/6MsAAWbfH8PS/JwBL6GPiArqoVqaXQ6ucb1cdYLY9gkDZL\n",
       "ASWLW/d1oegLUvqDTZl6/Gy80CFSBkJSuA1qbXXZmU3Qai9FCbnwHvE7TybeP3Xsy0Vh/2CDhUTF\n",
       "fW9iHGBX0AXS3l6X+6/DnjxCaRZgzgRH+pTHXiY0AAAAH0GfkUU0TCP/AGSvoDwUvMwBmfQABsVg\n",
       "2f2beJp3cpMAAAATAZ+yakf/AJ9mtUD08VhGBGeasAAAAE9Bm7ZJqEFomUwIV//+OEAAVolFSlKs\n",
       "BySBANGtUy6BGCR5xxaN9ZGSy8U/Jo1dofHEDgisiD6b2CJCy1hx3geYaH714Ol2462bTZA1ckMq\n",
       "AAAAFkGf1EURLCP/AGS3hxqpeSnckn/RasEAAAAaAZ/1akf/AJ9mugeId2kAC4rLHqpPV/9DbBgA\n",
       "AABjQZv3SahBbJlMCFf//jhAAK1u3wNfo8nS4GnIwoJvSuiyvF0lbA7+CWY4JzO6zMwKaUJU/G8B\n",
       "lyrG6scwciqg7gcSiMNEZ2DNm7QXPGJSHYSHZ2MlBzgxRwzDOq3p0lGVUmY1AAAAQ0GaGEnhClJl\n",
       "MCF//oywACysLROLTYD9JzdEczIcotZb5wXHwzL7GEb/CN+37ZMBqj2bsmhzVSYNWyxU7AO1OnWe\n",
       "KXEAAAApQZo5SeEOiZTAhf/+jLAAK4moark2wDJkWumkzVaeY/1tbk1YcINoMRMAAABVQZpbSeEP\n",
       "JlMFETwz//6eEAArFZeLbaOAOYeV00VT2zpTgSalTKb3j8prc3wrKENKskGiGZiNSMGRsDvNpsRO\n",
       "nNSiCqvHFR6Toe3La82DxMENHPhDwQAAABMBnnpqR/8Anz968x99RaUxlibUAAAAiUGaf0nhDyZT\n",
       "Ahn//p4QAFYxuOBk+vBZ3UofwGB+K1MRMV6nx8ZoeDhdsMyJ1ZAW3P4pybCC92Sette2Hy+qGlFz\n",
       "wbY8zc7rYzouFM1R+xC3gWkxpPzR8fmRw8GZeSwnst7Qa9H2RGbFNR7Hd/ffWhePczA7vcCytkgT\n",
       "8CnnN3P3R+9gtTu/RbFVAAAAG0GenUURPCP/ANzcYJYOMLPIpCceE+sVJnzG7QAAABwBnrx0R/8A\n",
       "nwumfyD84AASloIrLLSkjLNAmid0AAAAEQGevmpH/wCfZsJ762ADsfGLAAAARUGao0moQWiZTAhn\n",
       "//6eEABT8nRgCHqC8li9uttck2JnhR1PNmlXbAS53oTxSIeVKyT1PxbFMlqtNlYDi67/cPHj8LBv\n",
       "QQAAAB1BnsFFESwj/wDc3GDTVvLESCgzoAEj8bKl/QYXcAAAAA4BnuB0R/8Anwul3uLhxwAAAA4B\n",
       "nuJqR/8An2bChkHiggAAADhBmudJqEFsmUwIZ//+nhAAU97qZIItdcAODS+SnE16jJn+uvJdkBF6\n",
       "57Qsz2aFIm2kF2MEmsnBNwAAABZBnwVFFSwj/wDc3GDTVvLESaIlqO5BAAAAFgGfJHRH/wCfC6Wb\n",
       "/d3wgATneqf9EDEAAAAMAZ8makf/AJ9msIGXAAAAR0GbK0moQWyZTAhn//6eEABT8bjgCEfsLgi6\n",
       "/gZUHi37NSmvjD84H/vBJG0hgjLXVsoRis8WqQ/Yrud/BXBZUYESDaGh0jfgAAAAJkGfSUUVLCP/\n",
       "ANzcYNNW8sRLvKQALSylUpWfaGjUiJfV0SZEcARMAAAAFQGfaHRH/wCfC6X6w4AJkf6brd8OOQAA\n",
       "AA4Bn2pqR/8An2bChkHiggAAAE9Bm29JqEFsmUwIZ//+nhAAVBeOzgB9ag8WsSNR+VT0B4o2/2ik\n",
       "1t+QYKDBsc5akOkyu9/sjT6cK9Vj0ppT6vdeaZ/glhvHRPf9oICeTBSQAAAAFkGfjUUVLCP/ANzc\n",
       "YNNW8sRJoiWo7kEAAAAOAZ+sdEf/AJ8Lpd7i4ccAAAAMAZ+uakf/AJ9msIGXAAAAO0Gbs0moQWyZ\n",
       "TAhf//6MsABUsPsAH9n6tD3sOpDPlK0h6PWAqT8abH9N097RE5YV0eGIyE4siWkGKDugAAAAFUGf\n",
       "0UUVLCP/ANzcYNNW8sLJSmmSYAAAAAwBn/B0R/8AnwuRQcsAAAAMAZ/yakf/AJ9msIGXAAAALkGb\n",
       "90moQWyZTAhf//6MsABUsu7YAg8j1ew3PTISHoWE//E7nAQyCAlX8AA8gqYAAAAcQZ4VRRUsI/8A\n",
       "3Nxg01byxEvQSABJuvm+Hrgx6wAAAA4BnjR0R/8Anwul7ybiggAAAA4BnjZqR/8An2bCjxDxQQAA\n",
       "AFhBmjlJqEFsmUwUTDP//p4QAFYzQeAoZ9wtHCWF+wTmCeCpuLV5j35GclqYk9LrWzfccGgJIsbi\n",
       "7aN2oNrDLqwGYzdEgW480EZxdf/pGAHxlquDa+oxq0LzAAAAEwGeWGpH/wCfkFX/6TM6i2WvBvwA\n",
       "AAA9QZpdSeEKUmUwIZ/+nhAAVjOPcAbfoC/f7jmQN/v6JZN15FHpUAtLJ0NYdUgNMF2KLJ6BgRHF\n",
       "HNNiPVoXkQAAABhBnntFNEwj/wDc3GDQ9v/gZUrCrl7jO4AAAAAMAZ6adEf/AJ8LkUHLAAAADgGe\n",
       "nGpH/wCfZsMGQeJvAAAAL0GagUmoQWiZTAhn//6eEABWkuXL4AWso2SZPzkwKF5V/oU0Js6l4MN8\n",
       "/QBz4IeAAAAAGEGev0URLCP/ANzcYNNW8sRUbp+i0+9PgAAAAAwBnt50R/8AnwuRQcsAAAAOAZ7A\n",
       "akf/AJ9mww8Q8TcAAAA2QZrFSahBbJlMCGf//p4QAFaSHuEPttMkgCInQNFXdHDDYeDYC08j7HWs\n",
       "UKu/uvFn7ni1aF5BAAAAF0Ge40UVLCP/ANzcYNNW8sRHi1AhfvSfAAAADAGfAnRH/wCfC5FBywAA\n",
       "AAwBnwRqR/8An2awgZcAAAAxQZsJSahBbJlMCGf//p4QAFGyvjgBNMESj6G2U3SMFLzmi/kkqq26\n",
       "OH2uncQkkCcFBQAAABhBnydFFSwj/wDc3GDTVvLEQJlrrG7lSYEAAAAMAZ9GdEf/AJ8LkUHLAAAA\n",
       "FgGfSGpH/wCfZsIc6kAFshYXFne/xSQAAABrQZtNSahBbJlMCGf//p4QAFPxuOAG5ridgbTL7pm8\n",
       "o3vqdFedc7S6ZaFfVjVCp86BfkyOjrrfI9YxTH+/uYCGNNRA6Zh9ruMLdI7/bsf3KJL8ElihPfey\n",
       "VRRo4ALY5psGyaNIZVTELvFLiLkAAAAhQZ9rRRUsI/8A3Nxg01byxEpv+SwAJZBJrDXwOheK1/WU\n",
       "AAAAHgGfinRH/wCfC6VsUkAFttP70Ak+ftBBT/AEb4ytgAAAAA4Bn4xqR/8An2bCBkHikwAAADJB\n",
       "m5FJqEFsmUwIZ//+nhAAU/K+OAGulneSKEsQUEevAsUlTcBheQZwjKTygTVrgE4JuQAAABdBn69F\n",
       "FSwj/wDc3GDTVvLESnGy1F8pgQAAAAwBn850R/8AnwuRQcsAAAAMAZ/Qakf/AJ9msIGXAAAAMEGb\n",
       "1UmoQWyZTAhf//6MsABUsp0ACGaoEbUW4uBczii07jcy2k6/dAfwamJbtDBlQQAAABVBn/NFFSwj\n",
       "/wDc3GDTVvLCyUppkmAAAAAMAZ4SdEf/AJ8LkUHLAAAADAGeFGpH/wCfZrCBlwAAADhBmhlJqEFs\n",
       "mUwIX//+jLAAUnLu2AIR5QNnnjvDdu/Up/NcVUXoLoX0TuHx2IfIH3hdtW4kE+QVsAAAABVBnjdF\n",
       "FSwj/wDc3GDTVvLCyUppkmEAAAAMAZ5WdEf/AJ8LkUHLAAAADgGeWGpH/wCfZsIGQeKSAAAAMkGa\n",
       "XUmoQWyZTAhf//6MsABUs3hgBbhoQRSq2ITw7B+6dMOHcnym5A4ti17edEMMcgqZAAAAF0Gee0UV\n",
       "LCP/ANzcYNNW8sRKcbLUXymAAAAADAGemnRH/wCfC5FBywAAAA4BnpxqR/8An2bCjxDxQQAAACNB\n",
       "moFJqEFsmUwIT//98QADJDOzCAC6jf+gKn0PE6utLvgFbAAAABZBnr9FFSwj/wDc3GDTVvLESaIl\n",
       "qO5BAAAADgGe3nRH/wCfC6Xe4uHHAAAADAGewGpH/wCfZrCBlwAAABNBmsNJqEFsmUwUTH/8hAAA\n",
       "AwGzAAAADwGe4mpH/wCfkFX/50grYAAAB65tb292AAAAbG12aGQAAAAAAAAAAAAAAAAAAAPoAAAH\n",
       "0AABAAABAAAAAAAAAAAAAAAAAQAAAAAAAAAAAAAAAAAAAAEAAAAAAAAAAAAAAAAAAEAAAAAAAAAA\n",
       "AAAAAAAAAAAAAAAAAAAAAAAAAAAAAAACAAAG2HRyYWsAAABcdGtoZAAAAAMAAAAAAAAAAAAAAAEA\n",
       "AAAAAAAH0AAAAAAAAAAAAAAAAAAAAAAAAQAAAAAAAAAAAAAAAAAAAAEAAAAAAAAAAAAAAAAAAEAA\n",
       "AAABsAAAASAAAAAAACRlZHRzAAAAHGVsc3QAAAAAAAAAAQAAB9AAAAIAAAEAAAAABlBtZGlhAAAA\n",
       "IG1kaGQAAAAAAAAAAAAAAAAAADIAAABkAFXEAAAAAAAtaGRscgAAAAAAAAAAdmlkZQAAAAAAAAAA\n",
       "AAAAAFZpZGVvSGFuZGxlcgAAAAX7bWluZgAAABR2bWhkAAAAAQAAAAAAAAAAAAAAJGRpbmYAAAAc\n",
       "ZHJlZgAAAAAAAAABAAAADHVybCAAAAABAAAFu3N0YmwAAACzc3RzZAAAAAAAAAABAAAAo2F2YzEA\n",
       "AAAAAAAAAQAAAAAAAAAAAAAAAAAAAAABsAEgAEgAAABIAAAAAAAAAAEAAAAAAAAAAAAAAAAAAAAA\n",
       "AAAAAAAAAAAAAAAAAAAAAAAY//8AAAAxYXZjQwFkAB7/4QAYZ2QAHqzZQbCWhAAAAwAEAAADAZA8\n",
       "WLZYAQAGaOvjyyLAAAAAHHV1aWRraEDyXyRPxbo5pRvPAyPzAAAAAAAAABhzdHRzAAAAAAAAAAEA\n",
       "AABkAAABAAAAABRzdHNzAAAAAAAAAAEAAAABAAADAGN0dHMAAAAAAAAAXgAAAAIAAAIAAAAAAQAA\n",
       "BQAAAAABAAACAAAAAAEAAAAAAAAAAQAAAQAAAAABAAAEAAAAAAIAAAEAAAAAAQAAAgAAAAABAAAD\n",
       "AAAAAAEAAAEAAAAAAQAABQAAAAABAAACAAAAAAEAAAAAAAAAAQAAAQAAAAABAAACAAAAAAEAAAQA\n",
       "AAAAAgAAAQAAAAABAAAEAAAAAAIAAAEAAAAAAwAAAgAAAAABAAADAAAAAAEAAAEAAAAAAQAABQAA\n",
       "AAABAAACAAAAAAEAAAAAAAAAAQAAAQAAAAABAAAFAAAAAAEAAAIAAAAAAQAAAAAAAAABAAABAAAA\n",
       "AAEAAAUAAAAAAQAAAgAAAAABAAAAAAAAAAEAAAEAAAAAAQAABQAAAAABAAACAAAAAAEAAAAAAAAA\n",
       "AQAAAQAAAAABAAAFAAAAAAEAAAIAAAAAAQAAAAAAAAABAAABAAAAAAEAAAUAAAAAAQAAAgAAAAAB\n",
       "AAAAAAAAAAEAAAEAAAAAAQAABQAAAAABAAACAAAAAAEAAAAAAAAAAQAAAQAAAAABAAADAAAAAAEA\n",
       "AAEAAAAAAQAABQAAAAABAAACAAAAAAEAAAAAAAAAAQAAAQAAAAABAAAFAAAAAAEAAAIAAAAAAQAA\n",
       "AAAAAAABAAABAAAAAAEAAAUAAAAAAQAAAgAAAAABAAAAAAAAAAEAAAEAAAAAAQAABQAAAAABAAAC\n",
       "AAAAAAEAAAAAAAAAAQAAAQAAAAABAAAFAAAAAAEAAAIAAAAAAQAAAAAAAAABAAABAAAAAAEAAAUA\n",
       "AAAAAQAAAgAAAAABAAAAAAAAAAEAAAEAAAAAAQAABQAAAAABAAACAAAAAAEAAAAAAAAAAQAAAQAA\n",
       "AAABAAAFAAAAAAEAAAIAAAAAAQAAAAAAAAABAAABAAAAAAEAAAUAAAAAAQAAAgAAAAABAAAAAAAA\n",
       "AAEAAAEAAAAAAQAABQAAAAABAAACAAAAAAEAAAAAAAAAAQAAAQAAAAABAAADAAAAAAEAAAEAAAAA\n",
       "HHN0c2MAAAAAAAAAAQAAAAEAAABkAAAAAQAAAaRzdHN6AAAAAAAAAAAAAABkAAA1FQAAAo0AAAF7\n",
       "AAAATgAAADYAAAAwAAAAzQAAADkAAAAvAAAAZgAAAK4AAAAhAAAAyAAAADAAAAAcAAAAJAAAAE4A\n",
       "AACJAAAAIwAAABcAAABTAAAAGgAAAB4AAABnAAAARwAAAC0AAABZAAAAFwAAAI0AAAAfAAAAIAAA\n",
       "ABUAAABJAAAAIQAAABIAAAASAAAAPAAAABoAAAAaAAAAEAAAAEsAAAAqAAAAGQAAABIAAABTAAAA\n",
       "GgAAABIAAAAQAAAAPwAAABkAAAAQAAAAEAAAADIAAAAgAAAAEgAAABIAAABcAAAAFwAAAEEAAAAc\n",
       "AAAAEAAAABIAAAAzAAAAHAAAABAAAAASAAAAOgAAABsAAAAQAAAAEAAAADUAAAAcAAAAEAAAABoA\n",
       "AABvAAAAJQAAACIAAAASAAAANgAAABsAAAAQAAAAEAAAADQAAAAZAAAAEAAAABAAAAA8AAAAGQAA\n",
       "ABAAAAASAAAANgAAABsAAAAQAAAAEgAAACcAAAAaAAAAEgAAABAAAAAXAAAAEwAAABRzdGNvAAAA\n",
       "AAAAAAEAAAAsAAAAYnVkdGEAAABabWV0YQAAAAAAAAAhaGRscgAAAAAAAAAAbWRpcmFwcGwAAAAA\n",
       "AAAAAAAAAAAtaWxzdAAAACWpdG9vAAAAHWRhdGEAAAABAAAAAExhdmY1OC4yOS4xMDA=\n",
       "\">\n",
       "  Your browser does not support the video tag.\n",
       "</video>"
      ]
     },
     "metadata": {},
     "output_type": "display_data"
    }
   ],
   "source": [
    "display_html(HTML(anim.to_html5_video()))\n",
    "# anim.save(None, writer=matplotlib_utils.SimpleMovieWriter(0.001))\n",
    "# try:\n",
    "#     display_html(HTML(anim.to_html5_video()))\n",
    "# except (RuntimeError, KeyError):\n",
    "#     # In case the build-in renderers are unaviable, fall back to\n",
    "#     # a custom one, that doesn't require external libraries\n",
    "#     anim.save(None, writer=matplotlib_utils.SimpleMovieWriter(0.001))"
   ]
  }
 ],
 "metadata": {
  "kernelspec": {
   "display_name": "Python 3",
   "language": "python",
   "name": "python3"
  },
  "language_info": {
   "codemirror_mode": {
    "name": "ipython",
    "version": 3
   },
   "file_extension": ".py",
   "mimetype": "text/x-python",
   "name": "python",
   "nbconvert_exporter": "python",
   "pygments_lexer": "ipython3",
   "version": "3.7.7"
  }
 },
 "nbformat": 4,
 "nbformat_minor": 1
}