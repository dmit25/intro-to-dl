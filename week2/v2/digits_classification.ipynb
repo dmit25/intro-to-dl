{
 "cells": [
  {
   "cell_type": "code",
   "execution_count": 1,
   "metadata": {},
   "outputs": [
    {
     "name": "stderr",
     "output_type": "stream",
     "text": [
      "UsageError: Line magic function `%tensorflow_version` not found.\n"
     ]
    }
   ],
   "source": [
    "# set tf 1.x for colab\n",
    "%tensorflow_version 1.x"
   ]
  },
  {
   "cell_type": "markdown",
   "metadata": {
    "slideshow": {
     "slide_type": "slide"
    }
   },
   "source": [
    "# MNIST digits classification with TensorFlow"
   ]
  },
  {
   "cell_type": "markdown",
   "metadata": {},
   "source": [
    "<img src=\"./images/mnist_sample.png\" style=\"width:30%\">"
   ]
  },
  {
   "cell_type": "code",
   "execution_count": 1,
   "metadata": {},
   "outputs": [
    {
     "name": "stdout",
     "output_type": "stream",
     "text": [
      "We're using TF 1.15.0\n"
     ]
    },
    {
     "name": "stderr",
     "output_type": "stream",
     "text": [
      "Using TensorFlow backend.\n"
     ]
    }
   ],
   "source": [
    "import numpy as np\n",
    "from sklearn.metrics import accuracy_score\n",
    "from matplotlib import pyplot as plt\n",
    "%matplotlib inline\n",
    "import tensorflow as tf\n",
    "print(\"We're using TF\", tf.__version__)\n",
    "\n",
    "import sys\n",
    "sys.path.append(\"../..\")\n",
    "import grading\n",
    "\n",
    "import matplotlib_utils\n",
    "from importlib import reload\n",
    "reload(matplotlib_utils)\n",
    "\n",
    "import grading_utils\n",
    "reload(grading_utils)\n",
    "\n",
    "import keras_utils\n",
    "from keras_utils import reset_tf_session"
   ]
  },
  {
   "cell_type": "markdown",
   "metadata": {},
   "source": [
    "# Fill in your Coursera token and email\n",
    "To successfully submit your answers to our grader, please fill in your Coursera submission token and email"
   ]
  },
  {
   "cell_type": "code",
   "execution_count": 2,
   "metadata": {},
   "outputs": [],
   "source": [
    "grader = grading.Grader(assignment_key=\"XtD7ho3TEeiHQBLWejjYAA\", \n",
    "                        all_parts=[\"9XaAS\", \"vmogZ\", \"RMv95\", \"i8bgs\", \"rE763\"])"
   ]
  },
  {
   "cell_type": "code",
   "execution_count": 26,
   "metadata": {},
   "outputs": [],
   "source": [
    "# token expires every 30 min\n",
    "COURSERA_TOKEN = \"rFPwryCjiPda1FCg\"\n",
    "COURSERA_EMAIL = \"dmit25@hotmail.com\""
   ]
  },
  {
   "cell_type": "markdown",
   "metadata": {},
   "source": [
    "# Look at the data\n",
    "\n",
    "In this task we have 50000 28x28 images of digits from 0 to 9.\n",
    "We will train a classifier on this data."
   ]
  },
  {
   "cell_type": "code",
   "execution_count": 4,
   "metadata": {},
   "outputs": [],
   "source": [
    "import preprocessed_mnist\n",
    "X_train, y_train, X_val, y_val, X_test, y_test = preprocessed_mnist.load_dataset()"
   ]
  },
  {
   "cell_type": "code",
   "execution_count": 5,
   "metadata": {},
   "outputs": [
    {
     "name": "stdout",
     "output_type": "stream",
     "text": [
      "X_train [shape (50000, 28, 28)] sample patch:\n",
      " [[0.         0.29803922 0.96470588 0.98823529 0.43921569]\n",
      " [0.         0.33333333 0.98823529 0.90196078 0.09803922]\n",
      " [0.         0.33333333 0.98823529 0.8745098  0.        ]\n",
      " [0.         0.33333333 0.98823529 0.56862745 0.        ]\n",
      " [0.         0.3372549  0.99215686 0.88235294 0.        ]]\n",
      "A closeup of a sample patch:\n",
      "And the whole sample:\n",
      "y_train [shape (50000,)] 10 samples:\n",
      " [5 0 4 1 9 2 1 3 1 4]\n"
     ]
    },
    {
     "data": {
      "text/plain": "<Figure size 432x288 with 1 Axes>",
      "image/png": "[encoded data removed]"
     },
     "metadata": {
      "needs_background": "light"
     },
     "output_type": "display_data"
    },
    {
     "data": {
      "text/plain": "<Figure size 432x288 with 1 Axes>",
      "image/png": "[encoded data removed]"
     },
     "metadata": {
      "needs_background": "light"
     },
     "output_type": "display_data"
    }
   ],
   "source": [
    "# X contains rgb values divided by 255\n",
    "print(\"X_train [shape %s] sample patch:\\n\" % (str(X_train.shape)), X_train[1, 15:20, 5:10])\n",
    "print(\"A closeup of a sample patch:\")\n",
    "plt.imshow(X_train[1, 15:20, 5:10], cmap=\"Greys\")\n",
    "plt.show()\n",
    "print(\"And the whole sample:\")\n",
    "plt.imshow(X_train[1], cmap=\"Greys\")\n",
    "plt.show()\n",
    "print(\"y_train [shape %s] 10 samples:\\n\" % (str(y_train.shape)), y_train[:10])"
   ]
  },
  {
   "cell_type": "markdown",
   "metadata": {},
   "source": [
    "# Linear model\n",
    "\n",
    "Your task is to train a linear classifier $\\vec{x} \\rightarrow y$ with SGD using TensorFlow.\n",
    "\n",
    "You will need to calculate a logit (a linear transformation) $z_k$ for each class: \n",
    "$$z_k = \\vec{x} \\cdot \\vec{w_k} + b_k \\quad k = 0..9$$\n",
    "\n",
    "And transform logits $z_k$ to valid probabilities $p_k$ with softmax: \n",
    "$$p_k = \\frac{e^{z_k}}{\\sum_{i=0}^{9}{e^{z_i}}} \\quad k = 0..9$$\n",
    "\n",
    "We will use a cross-entropy loss to train our multi-class classifier:\n",
    "$$\\text{cross-entropy}(y, p) = -\\sum_{k=0}^{9}{\\log(p_k)[y = k]}$$ \n",
    "\n",
    "where \n",
    "$$\n",
    "[x]=\\begin{cases}\n",
    "       1, \\quad \\text{if $x$ is true} \\\\\n",
    "       0, \\quad \\text{otherwise}\n",
    "    \\end{cases}\n",
    "$$\n",
    "\n",
    "Cross-entropy minimization pushes $p_k$ close to 1 when $y = k$, which is what we want.\n",
    "\n",
    "Here's the plan:\n",
    "* Flatten the images (28x28 -> 784) with `X_train.reshape((X_train.shape[0], -1))` to simplify our linear model implementation\n",
    "* Use a matrix placeholder for flattened `X_train`\n",
    "* Convert `y_train` to one-hot encoded vectors that are needed for cross-entropy\n",
    "* Use a shared variable `W` for all weights (a column $\\vec{w_k}$ per class) and `b` for all biases.\n",
    "* Aim for ~0.93 validation accuracy"
   ]
  },
  {
   "cell_type": "code",
   "execution_count": 6,
   "metadata": {},
   "outputs": [
    {
     "name": "stdout",
     "output_type": "stream",
     "text": [
      "(50000, 784)\n",
      "(10000, 784)\n"
     ]
    }
   ],
   "source": [
    "X_train_flat = X_train.reshape((X_train.shape[0], -1))\n",
    "print(X_train_flat.shape)\n",
    "\n",
    "X_val_flat = X_val.reshape((X_val.shape[0], -1))\n",
    "print(X_val_flat.shape)"
   ]
  },
  {
   "cell_type": "code",
   "execution_count": 7,
   "metadata": {},
   "outputs": [
    {
     "name": "stdout",
     "output_type": "stream",
     "text": [
      "(50000, 10)\n",
      "[[0. 0. 0. 0. 0. 1. 0. 0. 0. 0.]\n",
      " [1. 0. 0. 0. 0. 0. 0. 0. 0. 0.]\n",
      " [0. 0. 0. 0. 1. 0. 0. 0. 0. 0.]] [5 0 4]\n"
     ]
    }
   ],
   "source": [
    "import keras\n",
    "\n",
    "y_train_oh = keras.utils.to_categorical(y_train, 10)\n",
    "y_val_oh = keras.utils.to_categorical(y_val, 10)\n",
    "\n",
    "print(y_train_oh.shape)\n",
    "print(y_train_oh[:3], y_train[:3])"
   ]
  },
  {
   "cell_type": "code",
   "execution_count": 29,
   "metadata": {},
   "outputs": [],
   "source": [
    "# run this again if you remake your graph\n",
    "s = reset_tf_session()"
   ]
  },
  {
   "cell_type": "code",
   "execution_count": 9,
   "metadata": {},
   "outputs": [],
   "source": [
    "# Model parameters: W and b\n",
    "W = tf.Variable(name=\"W\", dtype='float', initial_value = np.random.ranf((784,10))) ### YOUR CODE HERE ### tf.get_variable(...) with shape[0] = 784\n",
    "b = tf.Variable(name=\"b\", dtype='float', initial_value = np.random.ranf(10))### YOUR CODE HERE ### tf.get_variable(...)"
   ]
  },
  {
   "cell_type": "code",
   "execution_count": 30,
   "metadata": {},
   "outputs": [],
   "source": [
    "# Placeholders for the input data\n",
    "input_X = tf.placeholder('float',(None,784)) ### YOUR CODE HERE ### tf.placeholder(...) for flat X with shape[0] = None for any batch size\n",
    "input_y =tf.placeholder('float',(None,10)) ### YOUR CODE HERE ### tf.placeholder(...) for one-hot encoded true labels"
   ]
  },
  {
   "cell_type": "code",
   "execution_count": 11,
   "metadata": {},
   "outputs": [
    {
     "name": "stdout",
     "output_type": "stream",
     "text": [
      "WARNING:tensorflow:From <ipython-input-11-f62e3266b32c>:9: softmax_cross_entropy_with_logits (from tensorflow.python.ops.nn_ops) is deprecated and will be removed in a future version.\n",
      "Instructions for updating:\n",
      "\n",
      "Future major versions of TensorFlow will allow gradients to flow\n",
      "into the labels input on backprop by default.\n",
      "\n",
      "See `tf.nn.softmax_cross_entropy_with_logits_v2`.\n",
      "\n"
     ]
    }
   ],
   "source": [
    "# Compute predictions\n",
    "logits =input_X@W + b ### YOUR CODE HERE ### logits for input_X, resulting shape should be [input_X.shape[0], 10]\n",
    "probas = tf.nn.softmax(logits) ### YOUR CODE HERE ### apply tf.nn.softmax to logits\n",
    "classes = tf.argmax(probas,axis=1) ### YOUR CODE HERE ### apply tf.argmax to find a class index with highest probability\n",
    "\n",
    "# Loss should be a scalar number: average loss over all the objects with tf.reduce_mean().\n",
    "# Use tf.nn.softmax_cross_entropy_with_logits on top of one-hot encoded input_y and logits.\n",
    "# It is identical to calculating cross-entropy on top of probas, but is more numerically friendly (read the docs).\n",
    "loss =tf.reduce_mean(tf.nn.softmax_cross_entropy_with_logits(logits=logits,labels=input_y)) ### YOUR CODE HERE ### cross-entropy loss\n",
    "\n",
    "# Use a default tf.train.AdamOptimizer to get an SGD step\n",
    "optimizer = tf.train.AdamOptimizer()\n",
    "step = optimizer.minimize(loss, var_list=[W, b]) ### YOUR CODE HERE ### optimizer step that minimizes the loss"
   ]
  },
  {
   "cell_type": "code",
   "execution_count": 41,
   "metadata": {
    "scrolled": false
   },
   "outputs": [
    {
     "data": {
      "text/html": "<img src=\"data:image/jpeg;base64,/9j/4AAQSkZJRgABAQEASABIAAD/2wBDAAIBAQEBAQIBAQECAgICAgQDAgICAgUEBAMEBgUGBgYFBgYGBwkIBgcJBwYGCAsICQoKCgoKBggLDAsKDAkKCgr/2wBDAQICAgICAgUDAwUKBwYHCgoKCgoKCgoKCgoKCgoKCgoKCgoKCgoKCgoKCgoKCgoKCgoKCgoKCgoKCgoKCgoKCgr/wAARCAEgA2ADASIAAhEBAxEB/8QAHwAAAQUBAQEBAQEAAAAAAAAAAAECAwQFBgcICQoL/8QAtRAAAgEDAwIEAwUFBAQAAAF9AQIDAAQRBRIhMUEGE1FhByJxFDKBkaEII0KxwRVS0fAkM2JyggkKFhcYGRolJicoKSo0NTY3ODk6Q0RFRkdISUpTVFVWV1hZWmNkZWZnaGlqc3R1dnd4eXqDhIWGh4iJipKTlJWWl5iZmqKjpKWmp6ipqrKztLW2t7i5usLDxMXGx8jJytLT1NXW19jZ2uHi4%2BTl5ufo6erx8vP09fb3%2BPn6/8QAHwEAAwEBAQEBAQEBAQAAAAAAAAECAwQFBgcICQoL/8QAtREAAgECBAQDBAcFBAQAAQJ3AAECAxEEBSExBhJBUQdhcRMiMoEIFEKRobHBCSMzUvAVYnLRChYkNOEl8RcYGRomJygpKjU2Nzg5OkNERUZHSElKU1RVVldYWVpjZGVmZ2hpanN0dXZ3eHl6goOEhYaHiImKkpOUlZaXmJmaoqOkpaanqKmqsrO0tba3uLm6wsPExcbHyMnK0tPU1dbX2Nna4uPk5ebn6Onq8vP09fb3%2BPn6/9oADAMBAAIRAxEAPwD9/KKKKACiiigAooooAKKKKACiiigAooooAKKKKACiiigAooooAKKKKACiiigAooooAKKKKACiiigAooooAKKKKACiiigAooooAKKKKACiiigAooooAKKKKACiiigAooooAKKKKACiiigAooooAKKKKACiiigAooooAKKKKACiiigAooooAKKKKACiiigAooooAKKKKACiiigAooooAKKKKACiiigAooooAKKKKACiiigAooooAKKKKACiiigAooooAKKKKACiiigAooooAKKKKACiiigAooooAKKKKACiiigAooooAKKKKACiiigAooooAKKKKACiiigAooooAKKKKACiiigAooooAKKKKACvPfjt%2B1J8FP2b5NGsfil4g1Maj4ilnTQNB8OeF9R1zVNR8lVed4bHTbee5kjiVkMkixlI96biu5c%2BhV4N%2B0P8D/j5/wANJ%2BDv2tv2bLLwfrWueH/B2seFNX8KeOdcutLtLywv7mwuxcQXtraXj288U2noCpt3WVJSCUKK1ABpf/BTL9izWLvxNb2nxXv0h8FWsk/jLUrvwXrEFjoIS0iu9l5dy2iwWsrQzRskMjrJIWKorMrKL2n/APBQ/wDZK1HwBrXxFTx/q9vB4f1ay0vVdE1DwNrNrrkV5ebfscC6PNaLqEr3AYGER27eaAxTcFYjy2b9gH4y%2BMf2a/jn8NfGHinwppHin4o/FS38daHc6U1xeWFpeW0OiywQ3IkihkkiN3pRRwoyYHGDuJVaPi79i/8AaV%2BLmr/Ef45fG34S/CjWvFnjWx8KaPp/gKy%2BI2s2Wm6fY6Hcaldw3qa7b6al5DqDXOqTOksVoPJSKNFZiWcgHsviH9vv9mzwv4a8OeI9XvvG3meK0v5NE8P2vwm8SXGuSRWUscV3NJpMWntf28MLzQq8s0CIpmiy37xM%2Bmaz8RPBHhv4e3XxX8T%2BJbbSvDljo76rf6vqrfZYbSySIzPPMZdvlKsYLNvxtAOcYNfGHin9hH9s/WPgV4X8Nay3hfxV470a58RHRfGd/wDHbxNpGr%2BCLW%2BuUktLO11q1sJLzXIYkjhWZb1YftJtovMBCjHqPxo/4J0Wvx6/Zu8T/Dj4hfHPxrd%2BO/GHwvj8M694pbxtrQ0ea%2BW0hibUE0Jb5bC3Z5oFlbyIopCHkAkVpGcgHRwf8FKP2Mv%2BFc%2BK/itrHxWvdE0bwRZWV94ofxP4O1fSbmysryYw2t79lvLWK4ktJZFZUuY42hby3IfCMRyHxu/4Kyfs7/DP4Iap8Y/Aei%2BKvFU2g/EHwv4X13wx/wAILrtjqdgdZ1K1tY7p7OTTmuvK8i4eeBvJ8u8eNLeGQyTxg%2BV6p/wTE%2BMnjv4VePtI8ReBvDejeMfEeh6Po9h4h1X9ovxn43W7tLXWLfUJo5P7dgP2CM%2BSxSKJZjvfDSYyT3/7UP7Bnxp%2BMHxB%2BL/xB8C%2BIfC8cni%2BD4W3nhKz1a%2BuYle/8J%2BI7nWpYbxo7eTyIbgNbwrLGJnXLsY/kVXAPULD/goJ%2By3qPxNsvgzD4n8TR%2BK7zRdP1iXQLv4b69Bc6dp9606QXd%2Bklkp06Hdbyq8l15SxEKJChdN1Hw1/wUw/Yp8W%2BDPFnxC0j4wXCaP4L8EXXjLWL3UPCWq2guPD1ujPNq1is9qjapZqqHE9mJ42LIFYl0DYOh/sh/FD4h/Ez43fEH44L4e0GL40fB3w74QurHwnrtxqMul3Fomupdss89na%2BZGBqsRifYrMUk3Rx4G75u/bG/ZU/ah0f9hj4pfE39pi78AWkPwh/Yp%2BIPgjwvH4C1C8uG15r3SLYz6jdLc20AsVCaRbhLONrgK00hM7bUFAH1n4e/4KS/sZeJtD1jxHp/xauoLPQ00qa%2Bk1TwlqtkzWmpXa2djqEK3FqjXNhLOwUX0Ie1UBnaVUVmHp%2BifF34eeI/ilr/wX0PxD9p8SeFtL0/UNfsI7SbbZwXzXAtd0xTyi7/ZZj5SuZFUIzKqyRlvknUP2Z/EHivQPFPxt/wCCkXi/4Z%2BE/Alv%2Bz3c/DqS48P%2BIJltZtNvZIZLzVbya9gt0sHJgthDbIZxATJ/pEhZcdh/wR88B/F2y/ZHtfj/APtIagb74k/F68j8T%2BK9Qeze3aSEWkFlpq%2BVJ88P/EutLSRomwUlmmyAxbIB9VUUUUAFFFFABRRRQAUUUUAFFFFABRRRQAUUUUAFFFFABRRRQAUUUUAFFFFABRRRQAUUUUAFFFFABRRRQAUUUUAFFFFABRRRQAV4jpH/AAUY/Y91K716z1P4pXnh5vDnhy58QahJ418I6roMc2k27pHPf2smpWsC31ujyRK0tsZUBljGcuufab2K5ms5YbO6EEzxMsUxj3%2BWxHDbT1wecd6/MTV/%2BCOX7cvxf1bwvrnxu%2BOOhvrfhrwfqFnqHijUPit4m8TjxDrf2zSr611E6XfRQ2Wk20lzpi%2BfYWQCiOTassgVAoB9sv8At/8A7MNr8NG%2BLGseIPFWlaW2uQaNY2eufDLX7DVNTv5kMkMFlptxYpe37SIGdfs8MgZUdgSEYjovAf7VnwP%2BI%2Bv2XhPw54h1SHV7/wAKT%2BJIdI1rwrqWmXaabDd/ZJZZYby3ikgdZ/kMMirL32bea8m%2BJ3wc/bd%2BMTfD342654N%2BFWh/EP4UeOptY8P%2BGbXxxqV/ouuWdxpN3plzHcXz6VDNYzFL2SSN0tbgRmIKfMEjYq/En4Dftwa/8ZfDv7TXgfRvhXaeLL74Yar4L8Y6FqXivUpLDSFuL%2BG6tb%2ByuE04SagYhG6yW8sVoJS4xLFjkA7jSf8Ago3%2ByB4j17wL4W8K/EbVdZ1P4k%2BDdK8W%2BDdO0TwPrN7PeaHqL7LXUZEgtGa1t92PMknEa24ZTN5QYE7Hw1/bc/Zu%2BK/xGufhP4Z8X6tZ6/b6Xc6nDZeJ/BmraIt/Y28iRz3dlLqNrBHfwRvLEHltmkRfMQkgMpPlH7Cn7CXxY/Zh1/4caz488QeGrs%2BDv2UvCPwxv30i5nlZtW0t5muZovMgj3Wrb02MxV22/NGmBXjXw0/4JV/tjeJ/ij4X8TftTfGGz1SLT/AHivwv408TQfF/xJrV54il1exS2/tO10y%2Bhj0/QjlSxtLRSi5UCZxGq0AfUvhP/gov%2ByP410WPxVoPjvXP7DuNV0vT9P8AEt78P9btdK1GXUr2OyspLS%2Bns0tryCW5mijFxBI8IMqFnCsCfS/C3xd%2BHnjX4geKfhd4X8Q/a9c8FyWcfie0S0mC2Ml1B9ogjMrII3doSshRGZkWSMsFEibvmHxx4E%2BIvhX/AIJ7eNPgR/wUM8T/AAq8EeAtB%2BGkWgW3xM8O%2BLbsM06RpbWupPaXVnAmmzLMLeSGCO4umM5REcnaG7X/AIJX/D74seG/2RNK%2BKv7RVglv8TvixfS%2BOviJClu0X2e/v1jMNpsb5k%2By2MdlZ7TkgWuDQB9G0UUUAFFFFABRRRQAUUUUAFFFFABRRRQAUUUUAFFFFABRRRQAUUUUAFFFFABRRRQAUUUUAFFFFABRRRQAUUUUAFFFFABRRRQAUVy3xt8EWPxG%2BFGu%2BDdS1/XtLgu7El77wzr91pd9HsIkHlXVpJHNCSUClo3VipYZGa8h/Zt8R6N4y/4JYfDPxz%2B0D8WtY06yvPgf4f1Xxl40l8WXFheqn9lW091dy6ikizxO2HZ5xIsnzMdwJzQB9D14v8AHrx/%2B0X/AMNF%2BBfgR8BfGfgrw%2Bmv%2BCvEuvavqfi/wXd60SdOu9Dt4YYY7fUrHyw39qSszMz58tAAvJNP/gn9YfEKP4Sa34j8U3HixPDeveL7nUfhppXj3Vru%2B1vTvDrwW6QJeTXrvcl5Z47q7SO4dpoYryKGTa0RRef1r4meINV/4KpfD7wNrXwl1/QrO1%2BDPj4aZr2q3Onvba2Rq3g8lrVba7lmRUH3vtMUDfMu0N821NpLUuEJVHaPZv7ld/gjrv8AhB/%2BChf/AEdB8Gf/AAw%2Brf8AzUUf8IP/AMFC/wDo6D4M/wDhh9W/%2BaivZqKZB4z/AMIP/wAFC/8Ao6D4M/8Ahh9W/wDmoo/4Qf8A4KF/9HQfBn/ww%2Brf/NRXs1FAHjP/AAg//BQv/o6D4M/%2BGH1b/wCaij/hB/8AgoX/ANHQfBn/AMMPq3/zUV7NRQB4z/wg/wDwUL/6Og%2BDP/hh9W/%2Baij/AIQf/goX/wBHQfBn/wAMPq3/AM1FezUUAeM/8IP/AMFC/wDo6D4M/wDhh9W/%2Baij/hB/%2BChf/R0HwZ/8MPq3/wA1FezUUAeM/wDCD/8ABQv/AKOg%2BDP/AIYfVv8A5qKP%2BEH/AOChf/R0HwZ/8MPq3/zUV7NRQB4z/wAIP/wUL/6Og%2BDP/hh9W/8Amoo/4Qf/AIKF/wDR0HwZ/wDDD6t/81FezV598QPH/wADPhoNT8YfH3xx4U8P6edai0%2By1LxhqltaQeYbSOVYI5LllXeQJX2g5IVjjg4mc4U4uUnZLubYfD4jF1o0aEHOctEoptt%2BSWrOa/4Qf/goX/0dB8Gf/DD6t/8ANRR/wg//AAUL/wCjoPgz/wCGH1b/AOaiq/8Aw1//AME4P%2Bjovgj/AOFto/8A8do/4a//AOCcH/R0XwR/8LbR/wD47XN9fwP/AD9j/wCBL/M9r/VPir/oArf%2BCp//ACJY/wCEH/4KF/8AR0HwZ/8ADD6t/wDNRR/wg/8AwUL/AOjoPgz/AOGH1b/5qK7D4aeJP2cvjRoUvin4O6/4J8WaZb3bWs%2Bo%2BGrqzv4I51VXaJpICyhwroxUnIDqcYIryj4gfts/sn/CL41/EP4Q/FfwPqGh2nw18Dad4p8Q%2BLZPh/fz6VFZXIvmYtcw2jxR%2BWlkTln/AHjO0ce54ZVXphOFSKlF3T6o8XEYfEYStKjXg4Tjo1JNNPzT1R0//CD/APBQv/o6D4M/%2BGH1b/5qKP8AhB/%2BChf/AEdB8Gf/AAw%2Brf8AzUVHL%2B0x%2ByjZXPhyHWvCmu6VF4quYbfSb/WvhBrdjZrNNevZW8dzc3FgkNk81woSJbh4jL5sLIGWaJn5jXf26f2KfAVoT8SZrG3u2vfFaw2vhvwPq2sEWfh/VTpuo3Uot9N3wpBK0QmZl8pC7FJZolE7UYnV/wDCD/8ABQv/AKOg%2BDP/AIYfVv8A5qKP%2BEH/AOChf/R0HwZ/8MPq3/zUV32gR/BjxXcT2nhePwxqM1tDBNcw2K28rwxzp5kLuq5KiRPmUnG5eRkV4f8As/ftVaJ8aPilo3hfXP2btE0Pwx4503XdQ%2BGfiSHVUu59Wt9KvYbWY3dqbSMWLTJPHcwKktxuhD%2BYYXURkA7L/hB/%2BChf/R0HwZ/8MPq3/wA1FH/CD/8ABQv/AKOg%2BDP/AIYfVv8A5qK43xZ%2B1Vonhr48aj4Ht/2btEufAvh74iaL4D8T%2BNW1WOO8tNf1W0s7i0SLT/shWe1zqWmwvOblGWS6IETiJ2quP2srLwj4X%2BOviD4yfsv6FpM/wZvIks9O8P63HqUniCO4sorqzUNJZ26208pmji8smREZgTKRkgA7r/hB/wDgoX/0dB8Gf/DD6t/81FH/AAg//BQv/o6D4M/%2BGH1b/wCaivFfip%2B36nwU0GTRfiv%2Bzh8LPDPjKw%2BJ9h4S1qHxH8TRZeG7OG90afVbfUf7YfSd/lMsDW%2Bx7SNvPV1yVCO/bftH/ta%2BDv2d/AXw71Q/Anwx4q8SeONT0aO90nw3rUcthpmnXd9Y2Vxqi3zWgNxbRTahbJEfJja4eeIbYlMjxgHaf8IP/wAFC/8Ao6D4M/8Ahh9W/wDmoo/4Qf8A4KF/9HQfBn/ww%2Brf/NRWX4k%2BK/iHwB%2B0j4Q%2BEPxB/Zo8H23hn4geIb7RfCXiHSvEwutSae20u61EzXenNYRpb27R2UyeZHczMsklurIvm5TyPxR/wUQ0bwF4b%2BMUnir4AfCq/wBZ%2BEWkWF5qo8HfE1dT0i2nub6SzbT9Tv20qFtLvIjGZXhMEpER3ZHSgD3D/hB/%2BChf/R0HwZ/8MPq3/wA1FH/CD/8ABQv/AKOg%2BDP/AIYfVv8A5qK4vxZ%2B0pbeF/2VbL9p6Twx%2Bzd/Zr3Uh1HWrv44CHwxFahmSN4dZ/sVhPK0gVPKMEahiQJGIAbBtP28Ph34o8d/Dr4beE/gz4D0PW/Gngjw/wCJ9V0X4qeMoPDl/YxauZRb6daW32O4fUdSQW9z5lsPKVCkQaUeauAD1L/hB/8AgoX/ANHQfBn/AMMPq3/zUUf8IP8A8FC/%2BjoPgz/4YfVv/moqh4U%2BLN3f/tO/ED9nzxp%2Bzl4Z0uz8KeDtP8SeH9dstaW7l1i0uri/t8TWxs4xZur2DkBZZ9yuCdpGK4r9jz9qbXf2zP2Vf%2BGhvhl8CfgpqWraho%2Bm3mieF/DXxcGpxwTXMMc0lnql0ujodOnhWQbo1iuGyrDAwMgHon/CD/8ABQv/AKOg%2BDP/AIYfVv8A5qKP%2BEH/AOChf/R0HwZ/8MPq3/zUV5Rr37f/AMK9M/Zc%2BB/x2f4U/D3RNa%2BN/g6w8RafpXj3xrb6Jo2iW0unQXtwbrVXs5Dtja5t7dClsXllni%2BRFLsnU/Gf9qvwd8IPG/wp%2BGMPwE0HX9d8e6ppEPikaRqcTWXhizv5fs8V39oNtm78y53pAhSHz0t7mTcnklCAdd/wg/8AwUL/AOjoPgz/AOGH1b/5qKP%2BEH/4KF/9HQfBn/ww%2Brf/ADUVw/jH9oX4i/Dr9o66%2BCvi/wDZL%2BHkukJ4D8ReLoNc0Lx1Nc3cOnabJBHb/arSXRoUgkunuFVVS4lC%2BTcEGQRZZ37Lv7Qviv8Aa0/ZpT45/Cj4K/AjVtUvVs30/RtB%2BMEmo2UIlijlmgvb2HQ91pdRCQAwCCXJHLpnNAHbf8IP/wAFC/8Ao6D4M/8Ahh9W/wDmoqh4H8cftWeDv2rPDnwR%2BN3xH%2BHvibRvE3w98Q65DN4V%2BHl9ot1aXWm32iW6Kz3Gr3ySxumqSkqERg0SENjILP2XvitJ%2B0j%2Byv8A8NAa58F9A8IXl5Jq/wDZEWg6udRhmtrS7uLe21CC6a0tXMdwkC3MeYlPlzJnkkDS8cf8pC/hf/2Rnx5/6dvCFAHs1FFFABXC/tE/tI/CH9lP4az/ABe%2BOOt6lpvh61l2Xd9pvhu/1RrcCN5GkkisYJpEiVI3Z5WURoFJZlFd1XhX/BS3wz8VPiD%2Bw18S/hP8Fvg7rPjfxJ4y8IajoOl6RouoabatFLdWssazyyajd20SwqxUNtdpPmG1G5wAenfF74x/Dz4E%2BCpPiB8TdZns9OS7t7SJbLTLm%2Burq5nlWGC3t7W1jknuZpJHVViiR3YngGvP/FH/AAUF/ZI8G%2BBtA%2BJGvfFC4XSPElnf3ljNa%2BF9TuJba1sZVhv7m9hhtml06C0ldYrmW7WFLaRgkzRtxWD%2B0RafGj4v%2BDvAfxN8Lfs3%2BKLfV/h98QNK8UTeCNX1bRUvdVgNtdWtzawyRahJai4gS7aUCWeOJ5IVVZcHePAZ/wBlj9rjwN4c17xzoP7PEviHV/il4Q%2BIml33hWPxHpkR8JXWveIJtU083ck1ysUtuIrllvGtGuHWWEGGO4VtwAP0CR0kQSRuGVhlWByCPWvnL4TeKv27/jro%2BveO/C/xv%2BEmgaXb/ELxVoel6Vf/AAf1S/uIrXS9ev8ATIWluE8RQLLI8dmrsyxRrucgKABXsGj/AAz1jRvgjpvwj0j4j6rpF7p3h610yLxRpMFq15E0MSR%2BfGl3DPCWOzOJI5F%2BY8HrXkn7Dmj3%2BifspXvhzV/FF/rc8Xxp8cWl7q%2BpJAlzqGfHmrRySyi2iiiDyAsWEccaZYhVUYAAOj/4Qf8A4KF/9HQfBn/ww%2Brf/NRR/wAIP/wUL/6Og%2BDP/hh9W/8Amop%2Bv/tQf8E/fCmu3vhbxT%2B0R8HNN1PTbuS11HTtQ8XaVDPazxsUkikjeUMjqwKsrAEEEEZFVP8Ahr//AIJwf9HRfBH/AMLbR/8A47XK8dgk7OrH/wACX%2BZ70OFuJ6kFKOBrNPVNUp2a/wDASx/wg/8AwUL/AOjoPgz/AOGH1b/5qKP%2BEH/4KF/9HQfBn/ww%2Brf/ADUU/QP2oP8Agn74r12y8LeFv2iPg5qWp6ldx2unadp/i3Spp7qeRgkcUcaSlndmIVVUEkkADJq9%2B1X8S/hV%2Byh%2Bzf41/aS8U/C5dW0/wV4euNVutN0jRBNcXKxLnYixxsRk4y5G1Fy7lVVmGtKvRrq9OSl6NP8AI8/HZZmWWTUcZQnSb1SnGUW15cyVzO/4Qf8A4KF/9HQfBn/ww%2Brf/NRR/wAIP/wUL/6Og%2BDP/hh9W/8AmoqjpP7WH7IGu%2BNJfhxpfhvXpfEFr4cXXdQ0Q/BzXFutPsHju3iluom08NatKLG6WKOUJJM8YjjV3kjVl0z9pz9mDxNJ4d/4RXTLBDrPjqbwre2HiXwlqOj6jY30ejXWrmFrK5sBMkptbdZlW4W3jeGTzFlZjFHNqcJd/wCEH/4KF/8AR0HwZ/8ADD6t/wDNRR/wg/8AwUL/AOjoPgz/AOGH1b/5qKofBT9r/wDYX/aC0abxH8NvE2l/2dF4f0/XUv8AxF4Ru9FgudLvmZbW9gk1G2gW5t5HUoJYi6h8ISGIFXf2jfiI3wr1/wAH/DT4QfADw14u8Z%2BNr28TStL1rVV0ixgtbO1a4ubme6SzunQD9zEqrC5aS4jzsQO6gDv%2BEH/4KF/9HQfBn/ww%2Brf/ADUUf8IP/wAFC/8Ao6D4M/8Ahh9W/wDmorntf/ak%2BFsH7Fvhr9r/AMJ/BSxvB4vXw7b6N4d1QwWfkX%2BsX9pp8EF3ciORbeOK5vEWaVVk2rHIUWQ7VbirT9txfEV9ZfCzwT%2BzN4CvPiUni7xBoHiLRr7xyttoWnT6Pa293c7NUGmvJOzQXloyRm0jb5pvM8oQOaAPVv8AhB/%2BChf/AEdB8Gf/AAw%2Brf8AzUUf8IP/AMFC/wDo6D4M/wDhh9W/%2BaivAte/4KofBR9c%2BGg8BfArwtfaX8SfB3hTxFokGu%2BJYNO1rWYdcvGtlttFsBaTLq9xZhRLdoJ4RCksR3MHyO1s/wBuDwBp3jO41X4hfs%2B6Honwyudd8W6J4e8dJqSXF3dX/hsXp1EXGni0UW8LLpmqNDIlxM0i2eWSPzUoA9I/4Qf/AIKF/wDR0HwZ/wDDD6t/81FH/CD/APBQv/o6D4M/%2BGH1b/5qKyv2M/jf4f8A2sPCWo%2BN7n4b/DCxtIHtxbWXhHx3b%2BIb2yaRC7WuqJFZxR2F5GpjDwJLcKGZgJCFDN7N4MGzQzApOyG%2Bu4ogTnaiXMiqv0CgAewoA8u/4Qf/AIKF/wDR0HwZ/wDDD6t/81FH/CD/APBQv/o6D4M/%2BGH1b/5qK9mooA8Z/wCEH/4KF/8AR0HwZ/8ADD6t/wDNRR/wg/8AwUL/AOjoPgz/AOGH1b/5qK9mooA8Z/4Qf/goX/0dB8Gf/DD6t/8ANRR/wg//AAUL/wCjoPgz/wCGH1b/AOaivZqKAPGf%2BEH/AOChf/R0HwZ/8MPq3/zUUf8ACD/8FC/%2BjoPgz/4YfVv/AJqK9mooA8Z/4Qf/AIKF/wDR0HwZ/wDDD6t/81FH/CD/APBQv/o6D4M/%2BGH1b/5qK9mooA8Z/wCEH/4KF/8AR0HwZ/8ADD6t/wDNRR/wg/8AwUL/AOjoPgz/AOGH1b/5qK9mooA8Z/4Qf/goX/0dB8Gf/DD6t/8ANRR/wg//AAUL/wCjoPgz/wCGH1b/AOaivZqKAPGf%2BEH/AOChf/R0HwZ/8MPq3/zUUf8ACD/8FC/%2BjoPgz/4YfVv/AJqK9mqlrPiPw94dg%2B0%2BINesrGPGfMvLpIl/NiKTaSuyoQnUkoxV2%2Bx5N/wg/wDwUL/6Og%2BDP/hh9W/%2Baij/AIQf/goX/wBHQfBn/wAMPq3/AM1FbXjD9tD9kH4fxtJ41/aj%2BH2mFf8Alld%2BMLJZD7BPM3MfYA15Z4j/AOCzf/BM7wvO1tfftT6bcSA4C6Xomo3m4%2BgMFu4P51xVs0y3D/xa8I%2Bsor82fUZdwLxtm6vgcrxFVf3KNSX/AKTFnc/8IP8A8FC/%2BjoPgz/4YfVv/moo/wCEH/4KF/8AR0HwZ/8ADD6t/wDNRXmJ/wCC0P7Hmof8iXofxK8SA/cOh/DfUJN/08xEoH/BWjRtQ48KfsAftO6wD9yWz%2BEzCI/VnnGB%2BFc/9uZQ/hrJ%2Bmv5XPW/4hX4hx/i5bUp/wDXxKn/AOluJ6d/wg//AAUL/wCjoPgz/wCGH1b/AOaij/hB/wDgoX/0dB8Gf/DD6t/81FeY/wDDx79orW/l8Df8Er/jTcE/d/t%2BK00sfiZHbFL/AMNif8FOdU50H/gkZPHG33ZtU%2BN2kQkfWPyy1H9tYF/Dzv0p1H%2BUGH/EMuKo/wAV4an/ANfMbgqb%2B6eIi/wPTf8AhB/%2BChf/AEdB8Gf/AAw%2Brf8AzUVb/ZW%2BI3xp8Yax8UPAnx01/wAL6tqngH4hRaHZ6r4T8NXOk291ay6Do%2Bpqz29xe3jLIsmoyoWEu0rGh2qc58n/AOGgf%2BCvGpf8eX/BPjwLpmen9o/FiGbH18pK6D/gnXq3xl13W/jzqv7QXhHR9C8Xy/GaD%2B19K0C/a6tIMeEfDYi2SsAWzCI2PozMO1dGGx9LFVOWMJrS95QlFf8AkyWvkePnfCeOyHCxr18Rh53ko8tLE0K0tU3dqlOdo6WctrtLqj6ToooruPlwooooAKKKKACiiigAooooAKKKKACiiigAooooAKKKKACiiigDG%2BIPw6%2BH3xa8HX3w7%2BKngTRvE3h/VI1j1LQvEGlxXtndoGDhZYZlZJAGVWAYHlQeorjtJ/Yy/Y%2B0D4fXPwk0L9lH4a2XhS8sms7zwzaeBdPj0%2Be2aYTNC9ssIjaMyqshQrguobGRmvSqKAOY%2BFHwT%2BDXwH8OzeD/AIHfCTwx4M0m4vWvLjS/Cmg2%2BnW0twyIjTNHboitIUjjUuRkhFGcAV4N%2B0BrH9mf8FZP2arLdj%2B0fhf8TLfHriXwvL/7Sr6gr42/bD1c6X/wWN/YzgLYW%2B8MfFC3c5/6cNGcD80FcuLnyUk/70F98kj3OHsP9ax84f8ATrES/wDAaFSX6H2TRRRXUeGFFFFABRRRQAUUUUAFFFFABRRRQAVxPiv4RfCf40Qav4W%2BMXww8O%2BLNMt/EEV1Bp3ibRYL%2BCOdbKFFlWOdGUOFd1DAZAdhnBNdtXk/x3/at%2BAX7H3hrUfiX%2B0X49/4R3RL7xXDplre/wBl3V3vun09JVj2WsUjjKQyncVC/LjOSAccRPD06MpV2lBb81rW876DWPeVv62qvsuTXn5uXl8%2Ba6t63E/4YH/YV/6Ms%2BEv/hudM/8AjFH/AAwP%2Bwr/ANGWfCX/AMNzpn/xivJP%2BH5v/BLL/o6L/wAsnXP/AJCo/wCH5v8AwSy/6Oi/8snXP/kKvF%2BvcK/8/aP/AIFD/M0/4ilW/wCh4/8Awpf/AMmfSXw0%2BEXwn%2BC%2BhS%2BFvg78MPDvhPTLi7a6n07w1osFhBJOyqjStHAiqXKoiliMkIozgCvFf2lf2F/Ffx48XfErU/D/AMZ9N0LR/ir8L7Dwh4l0698ISX1xC1lLqcltd2063sKoM6nIJInik3iJNrxksT6T%2BzR%2B1b8Av2wfAl38S/2dPHv/AAkWiWOryaZdXv8AZd1abLpIopWj2XUUbnCTRHcFK/NjOQQMf4lftl/DD4V%2BLPEvgXxLoOvPrHhyXwxHHp9rawNJq39v376dp7Wm6YBwbuKaJy5j2GF2PyYY%2B1h54edGMqDTg9uW1reVtDN495o/rbq%2B159efm5ubz5ru/rc8r/a9/4Jjv8AtV/Hm3%2BMl18UfD1nFDL4Ymto9e%2BHiavqWjSaPqx1AjSb17uMaal3kRXG2F3cKCHGAo1/Dv8AwTsXQdd1XWz8XxN/aeg/EzTfL/4R7b5X/CXeIodZ35%2B0HP2TyvI28efu35ixsPNfHr/grH8O/B3hv49%2BBvhppVvH8S/hH8JfFvi/SdM1vWtJ1C01A6LD85mh0vUprq2TzpbXMN0tpM6THYMpJ5fe6p%2B3foGg/EnxJ8KNO%2BHnirxp4l0/4gXPh/TPDPhPRbOG6MNtommapdXJlvNQSGWGJdRhBlZoHZ544UgdlEkuwj1P4M/D7xH8LPAmkfDvU/FNlqlhoPh/TtM02SDSXtpj9ntlhkklYzyK%2B9kDKqqmwHaTJ96vHPg7%2Bwr45%2BD/AI0s/EFj8dNM1DS/BWheItN%2BEWjXXgx1GhDVruK5ZtQkW%2BB1MW/kRQRLGLM%2BR5gdnkYTL2X7EH7SOqftPfsy/Dz4u%2BLNHNnrni3wDpviLUYrHRLy3sIzdITsikmDKGBVswmRpUBUuAGUnzvwT%2B2N8bNe%2BPOgy6tpvhb/AIVt4x%2BMXiT4baDp9tptyutWd/o9pqkr6jPdG5MMsMs%2BiX8Qt1t0ZFlt3Mr/ADqADc8UfsN%2BIPEfx0v/ABunxktrfwP4g%2BIWiePPFPgz/hGC13eeINKtLO3tZIb/AO1Bbe1J03TZngNvI7SWpImUSuKx739g/wCMHjjW/jrbfFz9ofw1e%2BHvjNaILaz8NfDq407UPD91b28FtY3K3U%2Bq3UVyYY4EdlNugkmAYeWgMRj/AGmv2xvjb8LPin4xb4eaZ4Wbwb8JtF8N6n47ttZ025m1HWI9UvriKaOxmjuY47Rra1g88NJFcCeSURYhCmQ8z8M/28v2hviJ%2B17qX7P0Wl%2BF7S1n13xfo%2Bk2t94O1S3js20lmS0ul1t7k2OtPPhHm0%2BzRLi0EkiykNay5APS/CP7Mn7S/gm08UeOdJ/aH8DXXxH8a%2BJbW/8AEPiDVPhXdS6QtlbaetlBZWunJrKTQEBPNMr3cpZ5pxtCuix%2Bd%2BL/APgjX8CPFvwP8PfDVviH4y0/xFomn6DYXPivRPGOs6XFfWmm60dX8htO06/t7YKZZrtYSVZrXz0aNiYUqLxp%2B2B%2B2N4N8B/FfQ9Dh8I%2BNvEvw88a%2BC9HTxb4L%2BF2s3tgiapqdnDq8L6LbahPd3VzpthO146wXXKzQ5VCkinpfiN%2B038Z7H9jT/hqT4XftFfCm8tfDWkaxc%2BKtU1r4Zavbxane20xhh0yCwbVVudMufOR7WSOZrmYThVEG4%2BWADo/CP7Kfx20H9sLWf2l/Efx%2B8La9pN3Yf2T4e0LUvh7dtqPhvSBCubOzvzq5iDS3SR3FxO9o0lxsSNiFih8pfD37Mf7Str8QNf%2BOniv9orwVfePL3wnZ%2BHtBurD4WXNro9rbQ3rXbSXdk2sSTXsxZmVGF1CsQZii5d93C6v/wAFBfE93%2B1FYfBO813QPh7ZaPa%2BFv8AhMrXxP4G1XWZpNQ1g7l037fZzQ2ejnBighuLvzBc3MxRIv3JEi63%2B3l8btf%2BO/xA8JfB/wCH%2Bi6n4R0T4Q%2BJ9Z8CXb2NzcX/AIh17Rrq2tpSixSqHsWuLlrVI1QSySWkkiSeXJESAdr4I/ZY/aK%2BFngvxDB8Of2g/BEXijxx40vvEfjbUdY%2BFU9zpU81xbW9sI7LT4tXhe0VUtoiTJcXBkd5nfLSZHA6r/wSe0608I6f8O/APxohstGvvhb4Y8A%2BPLnWvCS3%2Bqarpmh3E89pLZXKXMKadck3VwGcw3CLiAxxxtCCeq/Z%2B%2BPH7QXx4%2BBup3mk/Hn4e2fjzR9Qtj4kTxD8FNe0NfDUD2qzvDdaRqGqx3buckx3BmhiZCWVX2Hd4x8Wv%2BCof7R/hL9n7wD8UtD8M%2BHLa48R%2BDfGGvS6tB8P9Y1%2B01lNHvIYLCaC0srqOfS9P1G3lF6NSunktrOOSFJmYyozAH0VZ/s4/tC2f7ZfiP8AaZj%2BPXg3%2BwNc8F2vhuDwr/wrW6%2B22sFrJfXFtKb86uY5HFxfSM/%2BiqrxoqKI2zKYvAP7Mnx/8JeNfHPx01f46%2BCrv4jeLPC%2BkaBp2oWHwxubTQ7C106e9mhabT/7We4u5S1/cAsbyMBViVFTa/mc/wDEj9qb44/D/wDaE%2BFXhhbrw7feHviXqFjbHQoPAup4sI5rKaWWYeJxdHS5ZFlhYx2fkLPPGR5YOQ9cN%2Byt/wAFDvit%2B0L8Tovgpf8Ai/4fQeLPFHw21zxLZ6Fpnhm%2Bmuvh1fafe2Fq%2Bka5Eb7de3P/ABMomKx/YmP2SbChZYnoA6H4df8ABO/4s/Dv4DfBDwPa/H3wXfeOvgL4fPh3wj4vvvhXO%2Bn3OkNpcWmvFcacdXMn2ho4InM8d1Gu5CPL2MyGlL/wRv8A2frbwh8OdE8O%2BP8Axzp2q%2BBLjwp9u1ez8ea3axa3BocUcUKSWNnfwWkMjImFlSLMW47Qc1Y%2BFn7Wv7QfxP8AgD8TfiHe/FDwP4Ub4V%2BLLqLVvF/if4O6zZxXmj2%2Bj29/PLLoF5qttf6XKj3DKDcTsJYrcTJH5dxGy4njj9vb9qX4ffs3/CDUda8B%2BEpPip4mt/CmsfFTTjpt1Fp3hjSdV1azsGQQ/anlS7eS7MEKvMylrS8l%2BdbcxOAfQWh/s%2B6pofxp%2BJfx6Txzb3WveN9E0zRtA%2B2aMXh0HT7CCcwwMgmBugb28vblyDDuWZIv%2BWQkbitE/ZD%2BNKW3xe8ceIv2itGh%2BI/xS8F2fhy18UeE/AUmm6foSWcN%2BtndpYy6hcSXFykmozO0j3I3rFBGAixDOT4G/av%2BKs/7bPi/4J/F7xboPhPwxY%2BJpNO8B6Vqnwp1q2m8T2yaFaahJcW3iGa8GmzyJM99utooWkEVjISBtZxe/ZA/a%2B%2BIv7Svx9%2BJPhvVvC2laf4H03w14c1/4aXUMEy6hqGmajPrFuLu7LuU2z/2WtzAqIjLBcoJMvuCgHrOkfDjwl8Hf2f7b4R%2BAdMFloXhbwcmkaLZr0gtLa1EMKfgiKPwrivHH/KQv4X/APZGfHn/AKdvCFepeOf%2BRJ1j/sFXH/otq8t8cf8AKQv4X/8AZGfHn/p28IUAezUUUUAFFFFABRRRQAV4L%2Bx//wAm9av/ANl78c/%2BrA1Wveq8F/Y//wCTetX/AOy9%2BOf/AFYGq0AdZr/7E37GXivXb3xT4p/ZH%2BGOpanqV3JdajqOoeAdOmnup5GLySySPCWd2YlmZiSSSScmqn/DA/7Cv/Rlnwl/8Nzpn/xivO/H/wDwWU/4JufC/wAd638NPHX7R32HW/Dur3OmaxZf8IhrEv2e6t5Wilj3x2jI%2B10YblYqcZBI5rI/4fm/8Esv%2Bjov/LJ1z/5CrwZ43hhTalVo363lC9/vNf8AiJlah%2B7/ALaceXS31m1raWtz6W7Hs2gfsTfsZeFNdsvFPhb9kf4Y6bqem3cd1p2o6f4B06Ge1njYPHLHIkIZHVgGVlIIIBByK1v2mvgnZftJ/s6eO/2e9Q1%2BXSYfG/hHUNDfVYIBK9n9qt3hEwQkByhcNtJAbbjIzmvGvAP/AAWU/wCCbnxQ8d6L8NPAv7R327W/EWr22maPZf8ACIaxF9ouriVYoo98loqJud1G5mCjOSQOa9x%2BOvxh8Ofs%2B/B7xH8b/GWmajdaN4V0qXUtZTSoUknis4hunmCu6BlijDysM52xttDNhT6GBrZbWg3g5Qa68ji1fz5SJcST4k/eSxn1nk0v7T2nLfW17u3oeR%2BIv2JviF4/0H4uy%2BPfj7axeJPi38O9N8M32teE/Cs2mw6bJZjUQtzFFJfTyMji/AaIzA4ibEg8wbOH%2BCX/AASmg%2BEXiOHxNb/Ejwjp4X4uL45fQfAfwvj0HSIGHhG88OGzt7VLyXyg32oXbSs8jM6shHzh09E%2BM/8AwUQ%2BDvwW0vxdrmqeHNT1Cx8FeLbPw3rGojxBoOlWj39xpsWohIbnV9Ss4ZNkE8AYB9%2B%2BYKivskKcja/8FHdJ8U%2BPo7/wTcWlx4C1zwZ8JNd8I6rFoUk95df8Jh4g1bTSsyPdwrHGIrOzKsAXgaSZ2S5wsFdxJ1fwN/Yo8Q/AKPwJd%2BEfi5ZXN/4G%2BBulfDq3l1Dwu7Q3f2OSBjfNGl2rLvWFgIQ52FwfMbbtbrP2jfgF44%2BKniDwf8TPg/8AE/TvCPjPwTe3j6VqmteGn1exntby1a3ubae1S6tXcH9zKrLMhWS3jzvQujeY%2BDv%2BCjP/AAsv9ojwd4J8IfCHxLZ%2BAvEngrxZr9p4r1TQhO/iCHSbjToY59Ljsrmado3%2B1St5U9uk8ytA0SEE59I/ak%2BNHxA%2BHujeBfC3wcTSIfFHxJ8b2/hzQtQ8UaZPcWWm5srzUZ7me1jmt5ZttrYXAWISxEyMgLKM0AU/Dv7LGseAv2XrX9lbwZ4p8L6hoemeB7DQrH/hO/BLaxHeTxbhd3OoQLeQR3cdwm3MCCHY5kbe6uqJ53Z/8E14vDf7PL/Bfwje/CR7zVvGU3iTxHP4m%2BB8Oo6Ml28CW8R0zSRfxR6cbeCG2igLyXG1IPnErOznodK/a6%2BKb/sE%2BNf2j3%2BHdlq/jjwL/wAJXpl9omjw3As9Q1PQ9SvtNlmhjBknW3lksjOIgZJVjfZl3GTyfwQ/bM%2BI/wAevB/xM0jwT%2B018ILq%2B%2BGGoWV3f/FLSvA17feGdR0efTzdM0dsmsqySwyJPG8i3s0Y8g5UOzRxADNa/wCCWa2Wj2nwx%2BGHxvj0nwHP4J8JeFvEOka14W/tHVJLPw/cyT20lhfi6hWxmlMrGR3guAJP3saxuSTtJ/wTfg1nxXeaD8QfizFq3wyi1rxfrPh7wTB4dNte2eoeJFvV1Fp9Q%2B0utxEq6pqiwRrbxGNbwBnk8pK43xn%2B07/wUC0z/gnl4I/ap0/xD8LdK8d%2BKNF0wQeDdX%2BGWpzx6lq%2Bs3sNvpFmuzXI3sv%2BPu1S4DG5KMJnBCrtrqLf9urWNa/bY1v9nf8A4WJ4Y8OaN4O8VaZ4X1SLVfh9q95Lr%2Bq3elWupBIdViuI7DSSyXsMUMFwJ5p5IpQoAKFgDsv2S/2PfE37PPivUPHHjv4p6T4k1GXwNoHg7S08P%2BDv7EtrfSNIa8a1M0X2q48%2B6Y30u%2BVWjiCqixwxDdu9h8H/APIJm/7Ct9/6Vy1qVl%2BD/wDkEzf9hW%2B/9K5aANSiiigAoopGZUUu7AADJJPAFAC0V4R8a/8Agpn%2Bwv8AAG6bSfHn7Regzaor%2BWNE8Pytql6ZM4EZhtBIyMTwA%2B2vOz/wUK/ap%2BNQ%2Bzfsff8ABOrxvfW0xxD4o%2BKNzF4csFXtMsUhaW4j9kKsfTtXmVc4y6lN01Pml/LFOcvuim18z7bAeHXGWOw0cVLCujQe1WvKOHpP0qVpQjL0i2%2ByufXdYnjn4lfDn4YaSde%2BJXj/AETw9YjOb3XNVhtIuOvzyso/Wvl8fsr/APBTP49H7R%2B0d%2B3ZY%2BANOm/1vhf4JaF5DqD6ald5nRgOOAwzz2rd8Cf8Efv2F/C%2Brf8ACVeOvh1qPxF19sefr/xK1241i4nx/fSRhCecn/V96j65mdf%2BBh%2BVd6klH8I8z%2BT5Ts/1c4Iyv/kZ5v7WS%2BxhKUqmvZ1KzoQX%2BKHtV2uO8bf8Fiv%2BCd3gzVT4etf2gYfEeo8%2BXZeENGvNVMmP7slvE0R/77rG/wCHsFr4lO34RfsE/tD%2BKVb/AFd9D8Oza2b%2Bn76aUY/Fa%2BmvA/w1%2BHPwx0oaF8NfAGieHrIAAWeh6VDaRcdPkiVR%2BlbdH1fOKnx14x/ww/WUpX%2B5E/2x4cYTTD5VWqtda2KVn/25Ro0nH09pL1Pko/to/wDBRnxcfL%2BG3/BKTVbeN/u33jD4nabYCP3aHaXP0BzR/an/AAWy8c8Wfhb9n3wLbP8AeOoX2qaneR/7vlYiJ%2BtfWtFH9mV5/wATE1H6ckf/AEmCf4h/rvleH/3PI8HT85LEVn81Wr1IfdBLyPkr/hlX/gqj4sPn%2BL/%2BCoemaCjff0/wp8H7CRR/uzXD%2BYPypf8Ah3B%2B0PrvPjv/AIKofGu4Lff/AOEfntNKz9PLRttfWlFH9i4F/E5y9alR/g5W/AP%2BImcUQ0oRw1Jf9O8HhIP/AMCjQUn6tt%2BZ8l/8Og/hZrPHxK/a1/aE8YofvweJPirNJG3tiKOPA/Grmjf8EVf%2BCamlT/brz9nMardMcyXes%2BKNTunkPqwe5K/pX1RRTWR5Pe7oRb80pfncmfin4juPLTzavTi%2BlOpKkvupuK/A8W8H/wDBOT9gvwLIs/hz9kL4fLKn3Jrzwxb3TqfUNOrkH3Br1Tw34E8D%2BDYFtvCHg3StKjQYWPTdOigUD0ARRWrRXbRwmFw/8KnGPokvyPl8xz/Pc3d8fi6lb/HUlP8A9KbCiiiug8kKKKKACvGf2X/%2BS3/tHf8AZZrH/wBQrwvXs1eM/sv/APJb/wBo7/ss1j/6hXhegD2aiiigAooooAKKKKACiiigAooooAKKKKACiiigAooooAKKKKACiiigAormPjRofi3xH8Ldb0jwL8StS8H6rJZl7TxHpFlaXFzZFGDsY47yGaBmZVZP3kbgb84JArwFP2mvjLa/8El/Af7SK%2BJYJfHviv4b%2BD2n8QXWnReXBqesDT7aTUGgRViIjlvGuDGFWP5NuAvFAH1LXwn/AMFGdT/sT/grN%2BxBqe7Gbnxxa5/67RaLFj/x6voL9kTxr8S7vxX8WPgp8TfiNfeMpvhv48ttL0vxXqtjZ297fWl1ommamqXS2MEFv50cl7LHmKGMGJYSV3Fmb47/AOCpvxh8Oat/wVO/Y50DSNO8QwXfh7x/qdnqNxqvhHUbG0lNzf6BGPs11cwRwXq9dzW7yBcruI3Lnzc3lyYCUuzi/ukj7Xw8ofWuLKVD%2BeFeP/gVCov1P0uooor0j4oKKKKACiiigAooooAKKKKACiiigArK8P8A/IW1z/sKJ/6SW9atZ974Y0i/u3v5BcxSyACR7W/mg34GAWEbqGIHGTzigDQorL/4Q/Sf%2BfvVf/B5d/8Ax2j/AIQ/Sf8An71X/wAHl3/8doA1K8p%2BKv7Hnwq%2BMH7Rvw9/ac8UX%2Bsw658ORef2fp9jdxpYap50ZWI30TRs0/2Zmklg2unlySM3zcY9C/4Q/Sf%2BfvVf/B5d/wDx2j/hD9J/5%2B9V/wDB5d//AB2gD5r1H/gkn8ENZ0rxD4Y1j4zfEi50TWvh74z8F6dob6lpy22haX4nmin1L7JssRI8wkhQxy3L3DLyHMgwB2vif9gvwBq/xA1T4t%2BE/ir428KeK9U8aXPiI%2BIfD93Y%2Bfbtc6TYaVc2UaXNpNEbWWDTLR2V0eRZYw6SIQoX1/8A4Q/Sf%2BfvVf8AweXf/wAdo/4Q/Sf%2BfvVf/B5d/wDx2gDk/wBnP9nnw/8Asx/Cvwv8FfAfjTxBe%2BG/CHhOy0HR7HW5raZvLtgyrcySpAkkk7qVVyW8siNSqKxZm5fQP2Hvh14d%2BOa/Gqz8e%2BK5Le08Saj4k0TwVNdWh0bSNdv7WS1vNUt1FsLnz5Yri7BSSd4Va8uGWJWkJr1T/hD9J/5%2B9V/8Hl3/APHaP%2BEP0n/n71X/AMHl3/8AHaAPIfiR%2Bwf4E%2BKvjSz8a%2BLfiz41Z5tK0TT/ABvp9tPp8Vr41j0m7e7sjqSLZ5UrPLMz/YzarKsrRSBogsa1NJ/4J8%2BBdC8ayeLNG%2BNnxAtrW01rxFrnhLw%2Bl5pxsvC2s62Lv7dqVkWsjO0xa/vmjS6luIIjdSBYgu1V9p/4Q/Sf%2BfvVf/B5d/8Ax2j/AIQ/Sf8An71X/wAHl3/8doA8d%2BCH7EGp/s%2BfAt/gP8Ov2v8A4oR2ccsUmma5dWXhmTUbBxLJLcSBxowjupbqSR3nmu455ZHJcOrszNh%2BJf8Agmp4P1vQ/BOk6P8AtKfE3RZ/Bni/VPFkmoWb6JdPr%2Bv30pmbU7%2BG%2B0u4t3mhkeVoBDFDHAZcogMcJj9%2B/wCEP0n/AJ%2B9V/8AB5d//HaP%2BEP0n/n71X/weXf/AMdoA8k%2BI37CngL4n%2BOk8beIvij4xjjvk0M%2BM9EsptPis/F0ukXP2mxmvh9jMqOsuN/2SS2WVFWORWjVUFXTv%2BCbH7IPg/44P%2B0d8Hvg/wCHvAHjP/hE9U0S21zwT4S0mymt3v3jeTUVJtG3XqeWVSR9ybZZVdHDkV7L/wAIfpP/AD96r/4PLv8A%2BO0f8IfpP/P3qv8A4PLv/wCO0AeB%2BPf%2BCbXhX4nfDjxh4H8cftNfFC%2B1Px9qGlyeMPGDS6Il/qljYbvs%2BkyQrpYsfsB3yeZCLUecJpVlZ1kdTrfEL9g6x%2BJGnaNLrH7TvxLtNf03wtqfhnUvFulf2Hb3utaNfTRyy2VzGumfZY1UwxLHLbQQTRhOJMs7N7N/wh%2Bk/wDP3qv/AIPLv/47R/wh%2Bk/8/eq/%2BDy7/wDjtAHluofsW%2BGdV8WeGrnUPjD41k8G%2BDtQ0u%2B8NfC8SaamiWNxp0Mcdm4kSyF/II3jScRyXbRmUBipACifTf2R5LbxjrXxM1n9o/4g6v4qvtDudG8OeJNQGjifwpYT3EVxNBp8cOnJbnfJBal3uorl5Bawh2YJg%2Bl/8IfpP/P3qv8A4PLv/wCO0f8ACH6T/wA/eq/%2BDy7/APjtAHkE37BXw81v4UeOvhf8QPih4z8Ty/E3WLO98e%2BJdXubBL/WIrcWsQsXS1tIbWK1ktrVbWSOKCMtFLMdwlkMtW/2q/8Agnv%2Bx/8Atnwx3Px%2B%2BAvhTWtYhl03yfFF34W0%2B51SO3sr9L1LNbm5t5XFs7rIkkQ4aO4mUbTIWr1T/hD9J/5%2B9V/8Hl3/APHaP%2BEP0n/n71X/AMHl3/8AHaAPNvEP7H/h7xx8VNJ%2BIHxJ%2BLHivxJofh7Upr/w18OtTg0pNC0y4ksZ7EsqQWMdzOot7q5RY7i4mjHnE7crGUr/AAJ/YA/ZH/Zk%2BNviT48/AD4GeF/B%2Br%2BJ/Den6Je2vhnwzYafawW1pNczZhW2gRleZ7hfOyzCT7JbcAxAn1H/AIQ/Sf8An71X/wAHl3/8do/4Q/Sf%2BfvVf/B5d/8Ax2gBPHP/ACJOsf8AYLuP/RbV5d44/wCUhfwv/wCyM%2BPP/Tt4Qr1E%2BDNDfCztfTJkExXGrXMiN7MrSFWHsQRXl3jj/lIX8L/%2ByM%2BPP/Tt4QoA9mooooAK534r/FfwD8EfAV78TPibrjafo9g8Ec00VnNcyySzTJBBBFBAjyzzSzSxxRxRo0kkkiIiszAHoq8g/bY%2BG/j74h/CfSL74ZeGW13WPCfj/wAO%2BJ4fDqXcMD6tFp%2Bp29xPbRyTukSzGFJDF5jpGZVjDuikuoBt2X7VvwEvvgXdftIp46aHwhYyTw317eaRd29zbXMNybSS0kspYlukuhcqYPsrRCYy4jCFyFONd/tz/s2WXgax8eyeJvEEkeo%2BIJdDtNCtvAOtTa62pRQPcS2raPHZnUEkSBGnYNbjbFtkOEZWPlnhX4E%2BO/E/7O3xQ8PfGP8AZ%2B8Z213478b3njjT9A8Oa/oy6lpdwl/BJp1vDO179mXUojYWt6Szm0Er7POlAbPkDfsR/tFNpR%2BJ3xI%2BG/xN8YJ4n%2BOl54y8QeH9O%2BIWl6R46sbf/hFLbQbSRdT068sLOBy1nvmhsbqFPIuI4g0qxypKAfevw6%2BIfgr4t%2BAtH%2BJ/w48RQatoGv6bDf6RqVtnZc28qB0cBgCMgjIIBByCAQRXj37H/wDyb1q//ZevHP8A6sDVa1/2Wfgx8UvAn7EHgj4F%2BNPFEvhLxRpPg200241DwrDYPLpLRoFRIhLbSWkkkaBUZvIaN2DMq4IrJ/4J7%2BGpLT9mPUfCviPxDe6/Jb/Fr4hQXWraokCXN86eNNaBnkFtHFEsjEbj5Ucahj8qqMAAHvVFZX/CH6T/AM/eqf8Ag8u//jtL/wAIfpP/AD96r/4PLv8A%2BO0AalVNe0LR/FGh3vhnxFpsN5p%2Bo2klrfWdwm6OeGRSjxsO6spII9DVb/hD9J/5%2B9V/8Hl3/wDHaP8AhD9J/wCfvVf/AAeXf/x2gD5/8D/8EwvhR8M/hJ4D%2BGPw9%2BNPxG0vUPh7rep6ppfjkanp9zrV7LqEc8V0LqS5spIZN0U3lK6wpLGkMQR02kmfwN/wTE%2BAfw/8NeHvCuieLfGElt4a8NfDzQ7BrvUrZ5HtvBuq3eqaW0jfZxuklnvJVuG4DoqCMQsC7e8/8IfpP/P3qv8A4PLv/wCO0f8ACH6T/wA/eq/%2BDy7/APjtAHiXw3/4J4eBPhV8QdK8feEfjl8Q0Xwt4c13Q/AmiXF7pslj4WstVmtppktENjvlMT2kHkm6e42Kmw7k%2BWvRvjn8A9E%2BO/g3S/Dmr%2BNNd0TVNA1q11jw94s0B7VdR0zUIAyrcxCeCW3YtHJNE6SQvG8c0ilMHjp/%2BEP0n/n71X/weXf/AMdo/wCEP0n/AJ%2B9V/8AB5d//HaAOL%2BG37Nth8IvhhD8K/h78VfFVhapp2rrcaiTYTXl1qmpXTXlxrUjy2jKb37TLcTABRbF7mTdA4EYTmbn9hXwBrvwW%2BIPwd8d/E/xl4jm%2BKrbfH/i7VLmxj1TVrfyIrY2h%2BzWkVtBbm1i%2Bz%2BXDBGNkkrDEsjyn1r/AIQ/Sf8An71X/wAHl3/8do/4Q/Sf%2BfvVf/B5d/8Ax2gDA%2BJvwL8H/FfxF4F17xPeX6ReAPFH9v6TpdpJGlrdXi2VzaRfaFKFnSIXTyoqsmJY4nOdgFcX4u/Yg%2BHPjD4yT/Fi68d%2BKrSx1HxZpXinxB4JsrizXSNZ13TYreKx1G43WzXXmxLZWPyR3EcTfYYC8bbW3ep/8IfpP/P3qv8A4PLv/wCO0f8ACH6T/wA/eq/%2BDy7/APjtAGpWV4P/AOQTN/2FL7/0rlr59/aL/b2/Zj%2BAvixfhJoF54q%2BIfxEnYx2vw9%2BH2oXeo6jvHUTbJdlsBwW8xgwU7gpFcdpnw//AOCpP7VNvHH4t8ZaN%2Bzd4JYZi0Dwsyax4mnjPOJrx/3NuTnO%2BL5wchlNeZVzWgqjpUE6s1uo62/xSdox9G79kfdYDgHNamChj80qU8Dhpq8Z124ua70qUVKtVT2UoU3C%2Bkpo%2BpviT8XfhV8G9BPij4t/EnQvDOnDP%2Bm69q0NpESOwaVlBPsOa%2BcNc/4K/fADxJqk/hT9lT4b%2BPvjVrUT%2BW0XgLwtO1lDJ/02u51SONP9tQ68itb4a/8ABI79i/wZrw8cfETwhqvxQ8TnHn%2BJfiprMmtXExHPzRy4gPPP%2Brz719IaJoWh%2BGdKh0Lw3o1pp9lbJst7Oxt1iiiX0VFACj2ArPlzrEbuFJeV5y%2B98sU/lJHT7Xwzyb4KdfH1F1k44ajf/BH2tWcfP2lGXktj5OST/gsV%2B0U3nRD4d/s9aJLyiyoPE%2BvRg9CRxZkY7cMDT/8Ah0toHxLYXH7X37XHxa%2BK4c5udE1DxM2maNJ64s7Tbsz7SV9c0U/7GwtTXEOVV/35Nr/wBWh/5KJ%2BJef4P3cnp0cDFbfV6UY1F/3Hnz4l/Oszzv4J/skfsyfs42ywfA/4FeGfDUiptN7p2lRi6kHT57hgZZP%2BBMa9Eoor0qVGlQgoU4qKXRKy%2B5HxOPzHMM1xMsTja0qtSW8pycpP1cm2/vCiimTTwW6755kRfV2AH61ocY%2Bis%2B48XeFLP/j78T6fFjr5l7Gv8zWde/Fz4UacpfUPid4egA6mbWoFA/N6h1Kcd2jN1aUd5L7zoaK4S9/ak/Zk01imo/tF%2BBLcjqJ/F9khH5y1kat%2B3H%2BxZoUJn1j9rr4Y26j/AJ6%2BPNPBPsB52SfYVlLGYSO9SK%2BaMJY/Aw%2BKrFf9vL/M9Sor5513/grD/wAE5PDrMmoftd%2BEZCvX7BdSXQ/Awo%2Ba5a9/4Ld/8EzLeY2mn/tEzalcdoNM8HavMx%2BhFrt/WuWec5RTdpYiC/7fj/mcc%2BIMhpO08XTX/b8f8z6vor5K/wCHzn7J15z4a8E/FTWlP3W0v4aXzhvpvVaP%2BHufgy%2B%2BXwr%2Bw5%2B0trbH7o0z4SSMD%2BLzLgVH9uZS9qyfpr%2BRn/rHkb%2BHERfpr%2BVz61or5K/4ehfENv3yf8Ewf2kPIP3WbwTEJPxTz8ig/wDBWzw9oZ3/ABK/YT/aQ8L2/U3%2Bp/C5ntwPd4pmP6Uf23li3nb1jJfi0H%2BsWTrepb1jJL73FI%2BtaK%2BS4/8AguB/wTbt2Fv4n%2BNeq6FcZw9pq/gXV45EPo221YA/jUt5/wAFu/8AgmXDsi079ouTUp5BmO103wfq8sjfgLXA/Eij%2B3cl/wCgmn/4HH/Mf%2BsnDtv98pf%2BDI/5n1fRXyV/w%2Bc/ZQuPn0fwL8VtRjP3JbL4Z3zK49RuUUf8Pffhbf8AHhT9kX9ojXm7JpHwnmck%2BnzyrR/bmUdK0X6a/kL/AFkyJ7YiL9Hf8j61rxn9l/8A5Lf%2B0d/2Wax/9QrwvXmH/DzT4xa9x4B/4JcfH%2B5J%2B5/wkPh630rP18yVsV0X/BOrx547%2BJ2t/Hnxx8S/hHe%2BBNbvvjNAbzwrqOoRXU9kE8I%2BG4490sXyMXjVJMDoJADyDXRhsxwuLqOFJtu1/hkl97SXyvc6sJmuCx1RwottpX%2BGSX3uKXXa9/uZ9J0UUV2nohRRRQAUUUUAFFFFABRRRQAUUUUAFFFFABRRRQAUUUUAFFFFAGJ8Rvh/4f8Aip4J1D4feKrnV4dO1SERXcmg%2BIb3SrsKGDYju7GWK4hJIAJjkUkEqcgkHgvBH7En7OfgD4It%2Bzfo3hrXbzwOfDL%2BH18OeIfHWsatBHppAUQJ9uu5WQIoCxspDRKqrGyqAB6xRQByPwY%2BBfw0%2BAHhq68K/DLSr6GHUNTk1HVLzV9dvNUvtQu3REae5vL6aa4uZPLiijDSyMVSKNBhUVR8J/8ABbn/AED9qr9lzxZ0/sHWdR1Dd/d2694UTP8A5Er9Gq/OX/gvX/oOoeB/FfT%2BwfAuuahu/u7fFXgdM/8AkSvJz3TJ68u0W/u1/Q/QPCr3vEjKqf8Az8rwh/4MfJ/7cfo1RRRXrH5%2BFFFFABRRRQAUUUUAFFFFABRRRQAUUUUAFFFFABRRRQAUUUUAFFFFABRRRQAUUUUAFFFFABRRRQAUUUUAFFFFABRRRQAV4z44/wCUhfwv/wCyM%2BPP/Tt4Qr2avGfHH/KQv4X/APZGfHn/AKdvCFAHs1FFFABRRRQAUUUUAFeM/sH/APJENc/7LN8R/wD1Ndbr2avGf2D/APkiGuf9lm%2BI/wD6mut0AezUUUUAFFFFABRRRQAUUUUAFFc98U/ix8Nvgj4Fv/iX8W/Gun%2BH9B02Pfe6nqVwI409FHdmJ4VFBZiQACTivktvjX%2B2V/wUkmOl/srQ6l8Hfg7M225%2BKutWRTXfEEPf%2ByrZsG3jYdLh8HBDKVZWjPBi8wo4WSppOdR7Qjq359kv7zaXnc%2Bs4f4QzHPaE8bOUaGDpu069VuNOL35VZOVSo1qqVOM5vflUbtex/tRf8FB/wBn/wDZe1a3%2BH%2Bp3moeLPHupEJo3w58GWhv9YvHYZXMKH9ypHO6QrkAlQ2MV5Qfg9/wUZ/bmH2n9oXx%2BfgJ8PLrn/hBPAd%2Btx4jv4T/AAXeo42W%2BQeViHIJV0B5r239lv8AYf8A2df2QtLuE%2BEng0vrWoZbXPF2tTG71fVZCdzPPcuNx3N8xRdqZ5Cgms79on/gon%2ByB%2BzBf/8ACN/Ez4wWU3iF5BHB4T8Po2o6rLIfup9mtwzRk9jJsB9a8%2BvSqTp%2B1zOsoQ/kjLlj6SnpKT8lyp7WZ6mK4z4T4KpXyKlF1Fvi8UoOd%2B9Gi3KlR/uuXtqqdpRnB6Lpv2cP2SP2d/2S/Cx8J/AP4X6doUcqj7dfRoZLy%2BYfxT3EhMkpzk/MxAzwAOK9Hr5CP7Zv/BQX9oH9x%2ByZ%2BwLc%2BGNMm/1HjD45al/Zkag9GOmwE3LKRyGViMduaP8Ah33%2B1l8dj9q/bP8A%2BCg3iu5speZfB3wotk8P6eq94nnUNNcxn/bCt78VrRx1ONNU8Bh5SittOSC%2BcrXX%2BFSPy/MOK8yz7GTxbjVxNWbvKpUbXM%2B7nUalL1ipHufxr/bH/ZW/ZyDJ8bvj94W8O3CjP9n32rRm7Yeq26EysPoprxKT/gsZ8AfGMjWv7NfwV%2BLnxbkJKx3Hgf4fXLWufV5bnyti/wC1tNejfBH/AIJs/sOfs9ul58N/2b/Do1BTuOs61bHUr0ueS4nuzI6knk7SB7V7fHHHDGsMMaoigBVUYAA7AVp7POq3xThTXaKc3/4E3Ff%2BSHH7LiHEazqU6S7Ri5v/AMCk4r/ymfJP/DUf/BU/4nfL8Jv%2BCdGi%2BD7V/wDUav8AEz4hwnPu9paL5yY9MmlX4F/8FhviOftPjj9uf4c/Drdy1n8PvhsNVQf7IfU2Vh9etfW9FP8Astz/AI1epL/t7k/9NqH5j/sWVT/eMTVn/wBv8n/ppQf4nyV/w7z/AGtNf/5H/wD4KvfFO53ff/4R3R7HSc/Tyw22gf8ABJLw5qf7zxt%2B3h%2B0trzn7y33xWdYx/upHCu0e2a%2BtaKP7Ey1/FBy/wAUpS/OTD/V3KH8cHL/ABTnL/0qTPkr/hzJ%2ByleceJfHvxX1lT95dU%2BJl84b67GWnxf8EPf%2BCZjN52r/s%2B3epzd7jUfG2sO5/K7A/SvrKij%2Bwsm64eD9Yp/mmH%2BrfD/AFwtN%2BsIv80z5bt/%2BCK//BMO1/1X7KmnnH/PTxBqb/8AoV0a0LP/AII%2B/wDBNWxYNB%2ByX4fYj/ntc3cn/ocxr6Uoq1k2Tx2w1P8A8Aj/AJGkeH8hjthKS/7hw/yPBbL/AIJdf8E8dPULB%2Bx74FYD/nvoiS/%2Bh5rX0r/gnh%2BwboswuLD9jb4ZB1%2B603gmylI9xvjOD717HRWscty6O1GC/wC3V/kbxyjKYfDh4L/tyP8AkchoP7PvwE8KqqeGPgj4Q01V%2B6LDw1awgfTZGK6my0%2Bw02EW2nWMNvGOkcEQRR%2BAqaiuqFOnT%2BFJeh2QpUqStCKXorBRRRVmgUUUUAI8aSoY5UDKeqsMg1Faabp2nljYWEMG85fyYgu4%2BpwOamooshWVwooooGFeM/sv/wDJb/2jv%2ByzWP8A6hXhevZq8Z/Zf/5Lf%2B0d/wBlmsf/AFCvC9AHs1FFFABRRRQAUUUUAFFFFABRRRQAUUUUAFFFFABRRRQAUUUUAFFFFABRXn/7Vfxquf2c/wBm7xt8ctP0FNVvPDHhy5vtP0yWYxR3d0qEQQu4BKI0pRWcAlVJODjFef8Aw2/aG%2BPGjaf8YvAfxjs/CXiDxn8LNLg1SyvfDVtLommazbXOnPc26Ol5dXJs3E8FxC7tO6bESX5NxjQA%2BgK/Pn/guto/9ueE5rLZu2fAbxdcYx/zy8T%2BBpc/%2BOV7P/wTp/bJ%2BKv7VF/4r0j4mLpU39iaF4f1OzvLTwFqvha43ajFdPJbvp2qzzXEsMX2dPK1FCLa6MkqxDNtIT5B/wAFTPiL8KPir4t8XfDbwT8TPD2ta74U/Zi%2BI7%2BJdF0rWoLi70h11LwlLGtzDG5eAt5LkBwpOw46GvOzeHtMpxEe8Jr/AMlZ9j4dYj6n4g5RX/kxWHl91WDPurwRrH/CQ%2BC9I1/du%2B3aXb3G713xq39a1K4L9lXWP%2BEh/Zf%2BG%2Bv79327wFo9xu9d9lC2f1rva7KE/aUIz7pP8D5zNMP9TzOvQ/knKP3SaCiiitThCiiigAooooAKKKKACiiigAooooAKKKKACiiigAooooAKKKKACiiigAooooAKKKKACiiigAooooAKKKKACiiigArxnxx/ykL%2BF/8A2Rnx5/6dvCFezV4z44/5SF/C/wD7Iz48/wDTt4QoA9mooooAK534r/FfwD8EfAV78TPibrjafo9g8Ec00VnNcyySzTJBBBFBAjyzzSzSxxRxRo0kkkiIiszAHoq8g/bY%2BG/j74h/CfSL74ZeGW13WPCfj/w74nh8OpdwwPq0Wn6nb3E9tHJO6RLMYUkMXmOkZlWMO6KS6gG3ZftW/AS%2B%2BBd1%2B0injpofCFjJPDfXt5pF3b3Ntcw3JtJLSSyliW6S6Fypg%2BytEJjLiMIXIU58n7an7OsXwzX4ryeKtXWwfXzoSaU3gzVhrbaptMn2EaR9l/tA3PlAzeT9n3%2BSPOx5fz15H4V%2BBPjvxP8As7fFDw98Y/2fvGdtd%2BO/G95440/QPDmv6MupaXcJfwSadbwzte/Zl1KI2Freks5tBK%2BzzpQGz5HD%2Bwj%2B0Ube1%2BPXjbSfir4gvtQ%2BPt54z1/wbZ%2BPtL0zxbLpkvhCLw7Fuv8AT7qysYbkS2kE7R2lzBGttK8KyOUZJQD778JeKNL8beF9P8X6JFfR2ep2cdzbR6npdxY3Ko6hgJbe5SOaBwDzHIiupyGUEEV5V%2Bwf/wAkQ1z/ALLN8R//AFNdbq/%2Bz94C%2BPn/AAyR4d8AfGn4laxpHjw6EIdS8RadPZXmo2L7yY90txBNbXFwkXlxyStE6SSK7gHcDWF/wTp0m/0H9m6%2B0TVfE99rdzZ/Fv4hw3GsanHAlzfOvjPWgZpVt4ooQ7kbiI40TJO1VGAAD3SiiigAooooAKKKKACvD/2vf26vht%2Bymmn%2BC7bRr7xl8RvEZ8vwh8OPDg8zUdTkOQHYAH7PACDulcYwrbQxUivF/wDgpJ/wVh8K/s3XV18BfgX4n0Wbx%2BUC634g1VzJpng%2BJgf3twEDNPdbQTHaIrucZKnhH8U/ZB/Zx/a%2B%2BLz6h41%2BB1rq/wAPo/Fo3eMP2ivihYCfxj4ljbG5NLsWYrptqRjZls7RGwkJQKPmMfnrliXg8D71RbtK/L5JbX85NQj1bfuv7Kngsg4TwtLH8SRlVq1IqdDBU3atWi/hqVpf8w%2BGfScmp1VpSsn7WOv8UL7wp4f%2BJui/Fj/gqd4nf4mfFK4mWX4cfsxfDu2Oo2uiu4yhe1VitzPj70052HDBfOCpt9sh8S/8Fdf2lwieDvBPgn9nXw1IAIr3xAyeIfEHl/wslsgFrHx1jlwy8DPWvXv2Vf2Fv2fP2Q7K5u/hx4euNQ8S6plvEHjjxFcm91nVpGOWea5cZwx5KJtTPO3OTXsVaYPJsQot1qjjzatRfvP/AB1Lczf%2BHkS2SsfI8QZ1xTxrXhUzav7GjBctLD0P3dKlDfli17y7yceWUn705TleT%2BRpP%2BCYvxa%2BIUbR/tE/8FLfjT4kilGLvT/DGo2/h6zuVPVHht0fKH%2B6CPrXsv7On7Ef7K37KFkIPgR8FtG0W6ZNs%2BsmE3GoXAPXzLqYtMwJydu7bycAV6pRXp0MrwGHqe0hC8v5m3KX3ybf4nj4bJcswlVVYU7zX2pNzkvSUm3%2BIUUUV6B6gUUUUAFFFFABRRRQAUUUUAFFFFABRRRQAUUUUAFFFFABRRRQAUUUUAFFFFABXjP7L/8AyW/9o7/ss1j/AOoV4Xr2avGf2X/%2BS3/tHf8AZZrH/wBQrwvQB7NRRRQAUUUUAFFFFABRRRQAUUUUAFFFFABRRRQAUUUUAFFFFABRRRQBzvxc%2BFng344fCzxF8G/iHYSXWheKdFudK1aCGZopGt54mjfY64aNwGJV1IKsAQQQK808MfsN%2BC9O8J%2BNPCfj/wCLXjTxwvxIsbqy%2BIN94ol04XGvWstgmnxwSGysrdYI4bdGEa2yw5aaWSTzHctXttFAHln7P/7K2kfAjxPrXj7UPi34x8deI9c0XTNGufEHjSexa4i0zT2untLSNbG0togqSXt3IZGRpZGmJeRwqBfH/wDgodo//CQfEK50LbuN5%2Byb8WYQPdpvC4H6mvrOvnb9prR/%2BEh/au8MaBs3fbv2dviVb7fXffeE1x%2BtYYmHtMNOPdNfgepkeI%2Bp51hq/wDJUhL7pJnRf8E59X/tz9gf4NX27cV%2BGmjQE%2B8VnFEf/QK9nr5v/wCCQ2sf25/wTa%2BEt7uzs8OPb5/65XM0X/slfSFc%2BVT9pldCfeEX/wCSo9jj3DfU%2BOc1ofyYmvH7qskFFFFd58mFFFFABRRRQAUUUUAFFFFABRRRQAUUUUAFFFFABRRRQAUUUUAFFFFABRRRQAUUUUAFFFFABRRRQAUUUUAFFFFABXjPjj/lIX8L/wDsjPjz/wBO3hCvZq8Z8cf8pC/hf/2Rnx5/6dvCFAHs1FFFABRRRQAUUUUAFeM/sH/8kQ1z/ss3xH/9TXW69mrxn9g//kiGuf8AZZviP/6mut0AezUUUUAFFFc38Xfi78OPgP8ADnVfiz8WvFlronh/RbYz6hqF22FRegVQMl3YkKqKCzMQoBJAqZzhTg5TdktW3siKlSFKDnNpJatvRJd2dJXw9%2B2Z%2B398TfjJ41u/2Gf%2BCY8a%2BJ/iJdo0XivxvZTD%2BzPCFsTtkZrnlPPHI3Lu8s/KoebCL87ftH/to/tvf8FQfi3afsgfsjeHdQ8AeFtatxcanNdOYtTk0h8f6dqTpn7DbSIwKW6nzJlZclkljDfoZ%2BxT%2Bxb8H/2GPgtafCH4U6eJJDtm17XZ4gLnV7vGGmlI6DqEQHCLwMnJPzKzCvn9WVDB3hRWkqmzf92nfbzk9uivZnbLL87w2BoZlJrDwqpTpc0U6tSHSrGnJNQpP7E6qbq706cofvF4b%2Bwj/wAEXPgL%2Byvc23xO%2BL95/wALI%2BInnm7fWtaiL2dhcuQzvbQOTmTcAfPl3SEqGXy%2BlfaFFFe5gcvweW0FRw0FGP5%2Bbe7fmziUH7WdacnOpUblOcpOU5ye8pzk3KUn1cm2FFFFdhYUUUUAFFFFABRRRQAUUUUAFFFFABRRRQAUUUUAFFFFABRRRQAUUUUAFFFFABRRRQAUUUUAFeM/sv8A/Jb/ANo7/ss1j/6hXhevZq8Z/Zf/AOS3/tHf9lmsf/UK8L0AezUUUUAFFFFABRRRQAUUUUAFFFFABRRRQAUUUUAFFFFABRRRQAUUUUAFFcd%2B0H8ZtC/Z3%2BB3iz45%2BJNMur6z8KaBc6lJp9jt8%2B8aKMslvFuIXzJGCxruIG5xkgZNcP8AC/8Aa01O40X4lR/tIeANO8D658KbaO/8V2mi%2BIpNZsTpklj9tjvILlrW2kkG1J42RoEZZLaQDepR2APaa8W%2BIEEVz/wUE%2BGVtMu5JPgt49V1PcHVvCANP/Yy/ao1b9q/wlqPje50fwJY2kD24trLwj8S4/EN7ZNIhka11SOK1ijsLyNTGHgSW4UMzASEKGY8cf8AKQv4X/8AZGfHn/p28IUDTad0eaf8EQ55U/4Jr%2BBdCuH3S6Rf63Yyk9cpq94QPyYV9Y18l/8ABGz/AEH9mTxV4T6f2D8YPE%2Bn7f7u28L4/wDIlfWleVkX/Imw67QivuVv0PvvFZX8S84mvt4mtP8A8Dm5/wDtwUUUV6p8AFFFFABRRRQAUUUUAFFFFABRRRQAUUUUAFFFFABRRRQAUUUUAFFFFABRRRQAUUUUAFFFFABRRRQAUUUUAFFFFABXjPjj/lIX8L/%2ByM%2BPP/Tt4Qr2avGfHH/KQv4X/wDZGfHn/p28IUAezUUUUAFZvjDxl4Q%2BHnhe/wDHHj/xXpuh6Lpds1xqesaxfR21rZwqMtJLLIQkaAdWYgCtKvEP2/vDfiLXfgno2raJ4U1LX7Tw38S/Cuv%2BIND0fTpLy6vNNsdatLm4MVtErSXLwrH9pEKKzyfZ9qK7lVIB6Zpnxh%2BEetfDIfGvR/il4cu/Bp0978eLbbXLeTTDaICXuPtSuYvKUK2X3bRtOTxUGi/HX4I%2BJPhXP8dPDvxj8K3/AIItbK4vLnxjZeIbaXSoreDd58zXauYVjj2PvcthNjZIwa%2BWPDXw9tPiT%2Byf8W/D/i/QvHXhHTvE3xLv/HnhO2/4Vlql1d2drFrMF3ayvpgt/Mma4vbN7yTTsC5eG7IeONpDjy/Uv2fP28Pi58Cvih4ltPDGg%2BKtC8d/FfUPFl/4b8W2eqeCbjWLK18N6XY2SQaYbPUbm2ibU7CW6%2Bx3BWWfyYGkfFxMhAP0Y0XWtH8SaPaeIvDurW1/p9/bR3NjfWU6yw3MLqGSSN1JV0ZSCGBIIIIryL9g/wD5Ihrn/ZZviP8A%2BprrdSfss6H8cLP9hX4eeGb%2Bx0fwd46tfh1pVq9vqllc6pa6bcx2sSbZ4SbGaRgq/PHuhKOWXcdu5s3/AIJ02/iW0/ZuvrXxlq1jf6vH8W/iGup32mac9pbXE48Z615kkUDzTNChbJCNLIVBALtjJAPdKKKCQBkmgDB%2BKHxO8DfBj4eax8VfiX4ig0rQdBsHvNTv7g/LFEo7AcsxOFVRksxCgEkCvy1/ae%2BKnx6/bc8ZeDfFeu%2BDJIp/GV%2BR%2Bzl8FtRAZTFg7/F2ux/Mphij3PDC4ZDjo8aymb0b9r79pbwF%2B1l4o1/4iePb6ST9mX4H6oDqcVs//JTPFaH/AEfTIO01tHIVB6qxJY5Uq8f0D/wT4/Zk%2BIGj3usfto/tSWMZ%2BLPxGt0L6fsxH4T0YYa20e3U/wCr2qFMvQlwAclS7fG42rVz/FrCUXaktW11SdnL0uuWmtpSTm7xir%2B7wjlWX46hU4pzmmqmXYefJQoy%2BHG4qNnaS64ahpOr0n7sP%2BXkGeh/sZ/sd%2BAf2Ovhk/hbQLufWfEmsz/b/G3jHUiXvde1FsmSeV2JbbuZtiZIUE9WZ2b16iivrMPQo4WjGlSjaK0S/r%2BmcebZtmOeZlVx%2BPqOpWqO8pPdv8kktElZJJJJJJBRRRWx5wUUUUAFFFFABRRRQAUUUUAFFFFABRRRQAUUUUAFFFFABRRRQAUUUUAFFFFABRRRQAUUUUAFFFFABXjP7L//ACW/9o7/ALLNY/8AqFeF69mrxn9l/wD5Lf8AtHf9lmsf/UK8L0AezUUUUAFFFFABRRRQAUUUUAFFFFABRRRQAUUUUAFFFFABRRRQAUUUUAcd%2B0J8GdD/AGifgb4s%2BBniTU7qws/FegXOmyahY7fPs2ljKpcR7gV8yNisi7gRuQZBGRXm3gT9j7xvJb/EF/2gPi3oni%2B7%2BK1g%2Bm%2BO5NH8HTaTFJp6aetlbWtnG1/cG2Cq11LI0jTtJJdNt8pVVB71RQB4V%2ByX%2Bx74m/Z58V6h448d/FPSfEmoy%2BBtA8HaWnh/wd/Yltb6RpDXjWpmi%2B1XHn3TG%2Bl3yq0cQVUWOGIbt2bf/CP4UeBv%2BCm3gvx74J%2BGPh7R9d8T/B7xxL4l1rStFgt7vVnj1bwl5bXM0aB5yu98FyxG446mvoevGfHH/KQv4X/9kZ8ef%2BnbwhQB5j/wSh/4lv8Aw0V4Tbj%2Bzf2nvFXkr6QyfZnT%2BtfWlfJf/BOn/iVftNftVeE%2Bnk/GBNQ2/wDX1Zo%2Bfx219aV5OSaZbBdnJfdOS/Q/QPFD3uNa9T%2BeFCf/AIMw9Kf/ALcFFFFesfn4UUUUAFFFFABRRRQAUUUUAFFFFABRRRQAUUUUAFFFFABRRRQAUUUUAFFFFABRRRQAUUUUAFFFFABRRRQAUUUUAFeM%2BOP%2BUhfwv/7Iz48/9O3hCvZq8Z8cf8pC/hf/ANkZ8ef%2BnbwhQB7NRRRQAUUUUAFFFFABXjP7B/8AyRDXP%2ByzfEf/ANTXW69mrxn9g/8A5Ihrn/ZZviP/AOprrdAHs1fLv/BUH44eMtA%2BHWh/sn/A/Ulh%2BI3xov30HRZw%2BDpWm7c6jqT45VIbct8wIIL7hnYa%2Bm9U1TTtE0y51rWL6K2tLOB57q5ncKkUaKWZ2J4AABJPoK/J/wCI3xC%2BIn7T%2Bpax%2B0b4ZWaDxj%2B0brL/AAy%2BAFlcIQ%2BieDoZCNU1gofmTzF8wswwyeYxUlSK8DiDHPD4T2ML8077b8uidvNtqEf70k%2BhWCybF8WZ7heHcJPknipNSn0pUYrmr1pdo06d3fpv0PXf2LvgT4K/au%2BJ/hrV/B2kFP2dP2fJv7M%2BF1lLGBH4w8QxcXOuygDEqJJuKN0aRiwIJlSv0Krmfgx8JfB3wH%2BE/h34NfD%2BxFvo3hrSYdPsI8DcyRqAXYjq7HLs3dmJPWumrtyvALAYa0rc8tZNbXtZJf3Yq0Yrsu9z6jizPMJmuMp4XLafssDhY%2Byw1P8AlpRb96XR1KjvUqPrOTStFRSKKKK9I%2BVCiiigAooooAKKKKACiiigAooooAKKKKACiiigAooooAKKKKACiiigAooooAKKKKACiiigAooooAKKKKACvGf2X/8Akt/7R3/ZZrH/ANQrwvXs1eM/sv8A/Jb/ANo7/ss1j/6hXhegD2aiiigAooooAKKKKACiiigAooooAKKKKACiiigAooooAKKKKACiiigAornfi58UvBvwP%2BFviL4x/EO/e10LwtotzqmrTxQtLItvBE0j7EXLSOQpCooLMxAAJIrnfgB%2B0ZpPx4PiHSLj4ceJvBniLwrqENp4g8J%2BL47MX1p59tHcwS7rK5uYJIpIpAVaOVsMkiNteN1UA9ErxfxzLEP%2BCh/wtgMih2%2BC/j1lQtyQNX8H5OPQZH5itb9mv9rr4X/tV6p46sfhdYawLfwF4r/sG71PUbWOO21ST7LDcrdWTLIzS2rJOuyVlTzMF0DRskj/ADp/wUG%2BNV38BP8AgqP%2ByB4unuWj0jW7Hxt4Z1wjhfL1Cbw7FCWPRVW5W3Yk8fLWGJxEMLRdSeyav82lf5Xuc2LxVPB0HVnsmr%2BV2lf5XudT%2Bxr/AMSn/gpd%2B1z4aPCte%2BC9QhH97ztIk3n/AL6AFfWlfJfwK/4k3/BYL476b0/tr4c%2BGNQx/e8lXgz%2BuK%2BtK4Mm0ws49qlX/wBOSf6n6T4k%2B/nuGrfz4PAP5rBUIP8AGLCiiivWPz8KKKKACiiigAooooAKKKKACiiigAooooAKKKKACiiigAooooAKKKKACiiigAooooAKKKKACiiigAooooAKKKKACvGfHH/KQv4X/wDZGfHn/p28IV7NXjPjj/lIX8L/APsjPjz/ANO3hCgD2aiiigArN8YeMvCHw88L3/jjx/4r03Q9F0u2a41PWNYvo7a1s4VGWkllkISNAOrMQBWlXiH7f3hvxFrvwT0bVtE8Kalr9p4b%2BJfhXX/EGh6Pp0l5dXmm2OtWlzcGK2iVpLl4Vj%2B0iFFZ5Ps%2B1FdyqkA9M0z4w/CPWvhkPjXo/wAUvDl34NOnvfjxbba5byaYbRAS9x9qVzF5ShWy%2B7aNpyeK53Vv2v8A9kvQfhtpvxl1z9qL4dWXg/WLprbSPFd342sI9Nvp1LBoobppRFK4KOCqsSNjccGvnPw18PbT4k/sn/Fvw/4v0Lx14R07xN8S7/x54Ttv%2BFZapdXdnaxazBd2sr6YLfzJmuL2ze8k07AuXhuyHjjaQ45Hwd8UP2kf2fPg78Svi7qfww8U%2BLPFPxk%2BNbyeBNQt/gdrcdvoFk2gaXYT6ve6Jbx3V/YWgl066kW2lPn3LPCHaM3LyRAH31YX9jqtjDqml3sVzbXMSy29xbyB45Y2AKurDhlIIII4INePfsH/APJENc/7LN8R/wD1NdbrT%2BAfw0Hw0/Y68FfCD9nnxLPYR%2BHvA2m6T4W1Xx54UuzKkdvbRxRyXmnO9lOrlUy0JaBlJxhQNtc9/wAE6bfxLafs3X1r4y1axv8AV4/i38Q11O%2B0zTntLa4nHjPWvMkigeaZoULZIRpZCoIBdsZIBw//AAVd%2BIPijVPhb4a/Yx%2BFeomDxj8dtfXw3bSx8tZaQMSaneEd0S3%2BRh/dmJHSuJ/4J4fD/wAL/HH9pbxJ%2B1N4Z04J8O/hfpSfDP4HW/WM2dooS%2B1FOzGVxsWUcsjOp5WvF/2hvjvr/wASvHXxo/bV8HF7y4triP4Ifs8wRNzdardvs1C/g7F8vIY5BkMqlT92v0N/Zc%2BBGgfsx/s8%2BD/gJ4aCNb%2BGNDhtJZ41wLm4xunnI9ZJmkkPu5r5DC/8K2dyrvWENV6JtQ%2B%2BXPP09m%2Bx9Two/wCyODMfxG/42YzeDw76xw1G0sTNf9fZyhTUtpU5VI62O9ooor68%2BWCiiigAooooAKKKKACiiigAooooAKKKKACiiigAooooAKKKKACiiigAooooAKKKKACiiigAooooAKKKKACiiigArxn9l/8A5Lf%2B0d/2Wax/9QrwvXs1eM/sv/8AJb/2jv8Ass1j/wCoV4XoA9mooooAKKKKACiiigAooooAKKKKACiiigAooooAKKKKACiiigAooooA8/8A2q/grdftGfs3eNvgdp2vR6VeeJ/Dl1Y6dqc0JljtLpkJgmdAQXRZQjMgILKCMjOa8x8C/s2/tBeMLn4q678drvRPC2pfGDSV0fUrn4Z%2BMrma58MWVvpxtbaWxubrTYvPummuLycyPFEsGYFCz7WY/R1FAHzx%2BxH%2Bxd47/ZK%2BIHxP1LXfjtq3i3QPFeqaO3hWx1Ky0m3axtbLRrKwAePTtMso43BtvKVI90YghgO1ZDKW8C/4KmfsiaT8Svijdz%2BCr/xLL4nv/gR448QaaL7xdqV9DbahpuseELqEWVtczyQWJfY0ZFukQbzBuztXH6CV4x47RJP%2BChHwwjkUMrfBjx4GUjII/tbwhWGKw8MXhp0J7STT%2Basc2NwtPHYOph6nwzi4v5qx8yeAP2gLfS/2vvgh%2B3lrfk/8Id%2B0P8LLPwZqd8nypo3iNJPtEUTnOMSSCS3UdmjckgLX6BV%2BeH7PP7NOjfFv9nv9oj/glR4iuxY3nw48eXF38P7tiVbS7O%2BJ1HSLhSPmG2XzC5XGVkZeN3P0x/wTq/aZ1v8AaZ/Zws7/AOIdu1n498I303hr4iaZMAJLbWLMiOVmUdPMG2XjgFyoztNfP5HiakJ%2Bzq/8vE5L/HH3asflJcy9X2PvHiJcY%2BHGAzz/AJicGo4TEpdo8yo1LdvdqUJdE6dNv3qh7vRRRX058YFFFFABRRRQAUUUUAFFFFABRRRQAUUUUAFFFFABRRRQAUUUUAFFFFABRRRQAUUUUAFFFFABRRRQAUUUUAFFFFABXjPjj/lIX8L/APsjPjz/ANO3hCvZq8Z8cf8AKQv4X/8AZGfHn/p28IUAezUUUUAFFFFABRRRQAV8w/Cj4lD4N/sCfFn4sify38N%2BNfizqUTZ58yHxZr8iAe5ZQB7kV9PV%2Bdf7XfjG58Of8EiPiP4X0y6EN/4x%2BPPjPw9YOTwWufiFq3mD3zCktcWZYh4XLq1ZbxjJr1SdvxPPzXETwmWV60PijCTXm7Oy9W9Dkf%2BCcPwzHxZ%2BKnwI%2BDC22/wx%2Bz98MIPGXiKPHyS%2BKdfDXdrFIO7xQTecp6q6stfqFXyD/wRO%2BHcWkfsZxfHHU7UJrnxT8QX3iDVM8%2BRCJ3trW2QnnykghUqOg8wgV9fV5vDWG9hlUJveaUvlZKC%2BUFFetz9H46o0snzChw1Qf7rK6UcIrbOdO/t5rup4h1ZJ/ycqu7IKKKK98%2BICiiigAooooAKKKKACiiigAooooAKKKKACiiigAooooAKKKKACiiigAooooAKKKKACiiigAooooAKKKKACiiigArxn9l//kt/7R3/AGWax/8AUK8L17NXjP7L/wDyW/8AaO/7LNY/%2BoV4XoA9mooooAKKKKACiiigAooooAKKKKACiiigAooooAKKKKACiiigAooooAKKjvb2z06zl1DULuKC3giaSeeaQKkaKMszMeAAASSelcz4B%2BOnwR%2BK3gKf4qfC74x%2BFfEnhe2MwufEmgeIba8sIvJGZd1xC7RrsHLZb5R1xQB1VeM%2BOP8AlIX8L/8AsjPjz/07eEK774T/ABw%2BC3x60CbxX8DPi/4X8aaXb3RtrjUvCfiC21G3imCqxiaS3d1VwrKdpOcMD3FcD44/5SF/C/8A7Iz48/8ATt4QoA80/bI%2BB/x2%2BDXxuT/god%2ByDpza7r9nosWmfEj4cPjb4q0eFi4e3YAsl7ED8mM7gqqASDHL5pb%2BLvEreILz/gqp/wAE2lHjbw34xt7dPjL8ImjEV9PNaptae3UZMWoQoxDQkESgll8zzFz9%2BV8q/HD9gn4meDPirq37U3/BPr4pweBPHGrus/inwjqsBl8N%2BLJFyd1zCozBO2TmePnJJwrO7n5zMctqwm6tC7TfM1FrmjL%2BeF9LvVSg9JJvrdSvIM8zPgfNauNwVFYjDV044jDT1jUg2pO2qafNGMvdlGSnGNSnJTXve2fs2ftNfB39rL4W2fxc%2BCnilNR025Pl3MEi7LnT7gAb7a4izmKVc8qeCCGUspDHvq/LXXPHfheL48XPi2LxFf8A7H/7Sl2w/tjS/Ef73wX47dT995QDbyq5OPOBDqzsQJX%2BevpP4X/8FQ7LwN4gsvhB/wAFCfh4/wAI/FtyQmn%2BIpXM/hbXxjia01AZSNWHzFJWwgIBctwHgc/oyXJimotac20W%2BzvrTl/dnbycj7iHDeVcX0J5hwVWeJhHWeGf%2B90OrUqdk6sI/wDPynG9lzVKdK9j63oqHTtR0/WLCHVdJv4bq1uYllt7m2lDxyowyrKykhgRyCODU1fRJpo%2BFlFxbTVmgooooEFFFFABRRRQAUUUUAFFFFABRRRQAUUUUAFFFFABRRRQAUUUUAFFFFABRRRQAUUUUAFFFFABRRRQAV4z44/5SF/C/wD7Iz48/wDTt4Qr2avGfHH/ACkL%2BF//AGRnx5/6dvCFAHs1FFFABRRXz9/wUuOmD9mu1/4TPy/%2BEK/4WF4X/wCFkfaP%2BPf/AIR7%2B2bT7b9qzx9j2f8AHzu/d/ZvP8z93voA%2BgaK%2BC/BFp8L/H37AXxa%2BGHw/wDjL4K8L%2BBI/Hepat4CbV9ajtdEPhGHWIpHidkb9zod1PBqFmJowYRazHyg0YRT5N8Opfhhd6Xpmq/tO6B8LdJ/ZhvP2htYk0XTdLvY7nwBb2w8H2qWwjnuIILefTzq6auySvDFA9%2BytGu425IB%2BptfkF/wUl8d%2BR%2Byt4O%2BFcV4Y5Lj48/GLxSpU/dk0rxD4gaAtjsZblQM9TX6CfsQ3fxisv8Agnt8PLy10Eap4nTwVbHR9P8AGerXFg09vj/RFvLj7PcTxSfZvJ3s0Mkm/O9d26vyc/aW1Txb8a/GeqfDHxFp1nY6pYaz4n0K4tNJ1J7yCy1zWfilqjywwzSQwtMhtYHUO0UbMvJRc4HzPF1V08jqRjvJpLz1u180mj1eG8vp5xxjk%2BW1Pgr4zDRl/wBe1WhOo/lTjNs/Yn9h3wJ/wrL9jX4WeBHh8uXTfAGkx3S4x%2B/NpG0p/GQsfxr1OorKzttOs4tPsoVjhgiWOGNeiqowAPoBUtfQ0KSoUIUltFJfcrGWbY%2BpmuaV8bU%2BKrOU36yk5P8AMKKKK1PPCiiigAooooAKKKKACiiigAooooAKKKKACiiigAooooAKKKKACiiigAooooAKKKKACiiigAooooAKKKKACiiigArxn9l//kt/7R3/AGWax/8AUK8L17NXjP7L/wDyW/8AaO/7LNY/%2BoV4XoA9mooooAKKKKACiiigAooooAKKKKACiiigAooooAKKKKACiiigAooooA8i/b7%2BH3jX4rfsUfFP4cfDvRpdT1nWfA2o2tlpEDhX1MtA26zUsQoM6boRuIXMnJAya84/Z38a6VN8UvjX8cJvhD4703wb4vjsJdH0bVPhjq1rd6q%2BmaPHHfTmwltVmRpEa3s4klRHuTYlYVkVUJ%2BpKKAPmP8A4J5eI9Q%2BMfiT4h/tQ%2BN/Afi3wn4p8cS6XHc%2BEPEvw/1bQ/7C0q0juE0%2B0aTULWBb%2B8xLcSXMsBkjjeZIVZo4opJdW/034r2n/BTbwXeeNvGnh7UNCuPg944PhrTtK8MT2d3YINW8JeYtzcyXsyXZOUwUhtwu05Dbht%2Bh68Z8cf8AKQv4X/8AZGfHn/p28IUAezUUUUAc38VPg98K/jj4Rn8BfGH4e6R4l0e4/wBZp%2Bs2KTxhsYDqGB2OOzrhh1BFfJPxB/4JL%2BLvA3hq%2B8M/sbftDzaV4WvCWuPhH8UNPXxH4Xnz/wAs41uA01oM8703vkcEdvtqiuDGZZgsdrVh7211dSt2urO3ls%2BqOKtgMPWxEMSrwqw1jUhJwqRa1XLOLUlZ672PyBufCH/BRX/gnnez6t8N/hR418C6bFM0tzp3gyVvGfga7JOWcWcrG%2B0mMnlpN0knAAAGBXr37Pn/AAcPfCfVJIfDn7Unw8fRboMyS%2BJfBcj39g2zh5ZLSQLe2iA8bWjkPFfpBXmXxr/Yw/ZQ/aMEknxs/Z98K%2BILmUYbUrvSY1vAP9m5QLMv4OK8JZDmmXu%2BXYmy/kmrx/C3Kv8ADFPzPspcaZ/jYcmeU6WYr/n5VTpYpf8Ac1RS9o/PE0cQzS%2BCP7T37PP7SWjDXfgV8ZPD/ieHyw8sWl6ijzwD/prCSJIj7Oqmu7r4H%2BI3/BvL%2Bx7qusL4r%2BB3xB8d/DrVoH32Euka39qhtm7FfPBnyO2JhVnw5%2Byd/wAFof2bDHB8F/26/CPxR0e0UlNI%2BKujzxzTADhfPTzpye3Nwo%2BldlLMc5oaYvC3/vU5KS/8Blyy/M%2BexuNyu7lQoVqf92Xs6sV5e0g4Tm%2Bz%2BrQXex930V8QXH/BQr/gpD8EbOBP2m/%2BCV2uanGCxute%2BFviGPVIyg/jFpEszxjv%2B8lX8KZ4Y/4OCf2C77UW0T4i2fj3wPfQvsurXxN4TYtC3cMtq8zD8VB9q2/1hyiL5atT2b7TUof%2BlJHn/X6CpupKM4wW8pU6kI%2BvNKKVvO59xUV89%2BCP%2BCrn/BOf4gBDoP7Xng%2BDzMbf7bvG0zH1%2B2LFj8a9c8H/ABw%2BC3xDCHwB8X/C%2BuCT/VnR/EFtdbvp5bnNehRx2CxH8KrGXpJP8mLD5ll2L/gVoT/wyT/JnUUUUV1HaFFFFABRRRQAUUUUAFFFFABRRRQAUUUUAFFFFABRRRQAUUUUAFFFFABRRRQAV4z44/5SF/C//sjPjz/07eEK9mrxnxx/ykL%2BF/8A2Rnx5/6dvCFAHs1FFFABRRRQAUUUUAFfid%2Bzz4Im8c/t%2B6va3CtKviL9vTxHJAjc/uvDV9ql5KoH93OpKzDoTjNftjX5hfsTfD6wm/4KdaTo9rIs0mh%2BJvjN46u9q8RTah431LRx%2BPlW0Y/CvnuIcP8AWKWHj/09h%2BLs/wDyVs%2Bz8P8AC34pjmD2wdDGVvSSwlenT/8AKlSB%2BntFFFfQnxgUUUUAFFFFABRRRQAUUUUAFFFFABRRRQAUUUUAFFFFABRRRQAUUUUAFFFFABRRRQAUUUUAFFFFABRRRQAUUUUAFFFFABXjP7L/APyW/wDaO/7LNY/%2BoV4Xr2avGf2X/wDkt/7R3/ZZrH/1CvC9AHs1FFFABRRRQAUUUUAFFFFABRRRQAUUUUAFFFFABRRRQAUUUUAFFFFABRRRQAV4z44/5SF/C/8A7Iz48/8ATt4Qr2avGfHH/KQv4X/9kZ8ef%2BnbwhQB7NRRRQAUUUUAFFFFABRRRQAVzXxH%2BDHwg%2BMWnf2R8WvhZ4d8T2u3aIPEGiwXiqPYSo2PwrpaKmcIVI8sldeZvh8TicHWVahNwmtnFtNejWqPkX4p/wDBDf8A4JyfE0TzWPwevPCl1cAiS68Ja7cWw/CF2kgH4R14B4//AODbfwUIfL%2BEX7RrRW0Z%2BTTvF/gy1u2mH917q0a3lX/eUZr9OaK8PEcMZDineeHin/d93/0mx9D/AK455WVsc6eLXbFUKOKX/lxTq2%2BVmulj8lX/AOCRP7d/waP/ABQ3h/QtWs4f9QPhp8Zdc0C%2BYD1/tBpoVb6ZFNGg/t1fCMY8Z2X7cPh/y/vto3ivTfHkMXv8iQ7lH8q/WyiuL/VLCUv93qzh5aW/BKX/AJMR/aHBOK0xvDuFv/NQliMNL5KjWVJf%2BCj8mrD9uD4i%2BFLtNN13/gsh4z8GXLHamkfFX9mKNXJ9GnjV9vucgV6f4I/a0/a28TBF%2BHn/AAVh/ZY8Tyv/AKq28SWB02aT/tkkqv8AkK/RC/0%2Bw1W0ew1SxhuYJBiSG4iDow9CDwa8x8b/ALDf7GXxHLv43/ZV%2BH2oSv8AeupfCNoJ/wAJVjDj8DR/YeZ0vgr3/wC3qq/OpNf%2BSof9meEmK/5cZhhn/cxqrx%2BUKlOm16Oo/U8Q0Lxv/wAFo76zGo6HH%2Byt4stP4Z9D1bW0Lj3ZiUz9Kvf8Ln/4LH6Sf9P/AGLPhXq2Ov8AZXxFeDP085eKva7/AMEWv%2BCceq3h1bR/gNN4fvx9y%2B8OeKdSs3T/AHVS42D/AL5qj/w6W8PeHvn%2BFP7cv7RPhTb/AKu1sPiY81qPTMUsTbh/wKj6pnlPdy/7dqp/%2Bl0l%2BYv9TfDyv/uvEOMpeVbDQsv%2B3oVq7fryr0D/AIau/wCCrOm/8f8A/wAEn9O1AD7zad8c9Kj/ABAkizR/w3H/AMFB7L/kNf8ABIrxNHjr9h%2BKWlXP/oKjNL/ww1%2B334Y5%2BG3/AAVo8VRqv3IvFXw60zVtw9C8jKfxHNH/AAqn/gsx4W/5AP7V3wc8Vbfu/wDCT%2BBbmx3/AF%2BxscfhRfNYfE8Qvlh5L8Ff8A/4hvgqv%2B6cW0ZeU4VKb%2BbngIx/8nYn/Dwv9rW1/wCQr/wSh%2BKaY6/ZNZsZ/wCRGaP%2BHlfxyt/%2BQj/wS0%2BOy%2Bv2bSrab%2BUopf8AhNf%2BC1/hn/kNfBP9n/xOF6/8I74k1SyL/T7UDij/AIax/wCCpfh7jxL/AMEqrTVIx9%2B68P8Axn00flFLHuP50fWsTH4q1ZetC/8A6TTYf8Qo4pqf7tnWFqf9zWBh%2BFWVJ/hcT/h6L49g/wCP7/gmF%2B0mvr9n8CxS/wApxS/8PWdSh/4/P%2BCZ/wC1Wvr5PwnEn8rmj/h4t%2B0zon/I7/8ABKr4wQY%2B/wD2DNZ6nj6eW65o/wCHtOhab8vjL9gf9pnQ8fflvfhQzRfUOk5yPwo%2Bv23xjX%2BKlb84oP8AiD/idL%2BDUjU/69zwtT/03Ulf5Cf8PaNOT/j5/wCCdX7VcPr5vweIx%2BVzS/8AD3Dwqv8Arv2Dv2nY/wDf%2BEL/APx%2Bj/h9B%2Bx5Yf8AI26F8StAx97%2B2fhvqCbfrsRqnsP%2BC3H/AATHvJfs0/7Sn2OYfehv/COrwlfqWtMfrTWZUb2/tGmvVQX5yQpeDnjMleOBxMl3jhJzX3wTRX/4e7%2BAV/1v7FH7Saf7/wAJJf8A49R/w97%2BGY%2B/%2Bx5%2B0Wv%2B98Jpv/jtdVpf/BW3/gm/q%2BPsn7W/hdM9PtTTwf8AoyNa6HTf%2BCj/AOwHquPsv7ZPw2TPT7T4vtIf/RjrW0cVKfw5hTfyj/8AJHmV/DbxUwv8bDYiPrhKi/Ox5p/w9/8AhSPv/slftDL9fhPP/wDHKP8Ah8D8IB9/9lb9oFfr8KLj/wCOV7Tp37af7HGr4/sn9rP4Z3Wen2fx5p75/Katyw/aG%2BAOq4/sv45eD7nPT7P4mtXz%2BUlbxeMn8OMg/wDt1f8AyR5NbhTjnD/xXOPrh5L82fPX/D4X4Lj7/wCzH8fF%2BvwquP8A4uj/AIfD/A8fe/Zt%2BPC/X4V3P/xVfT1j8QfAWp4/s3xvpFxnp5GpRPn8mrUhuILlPMt50kU9GRgR%2BlbKhmktsTH/AMAX/wAkedUyziKi7TxCXrSt/wC3nyb/AMPh/gb/ANG4/Hb/AMNXc/8AxVH/AA%2BG%2BCR%2B5%2BzV8eW/3fhVc/8AxdfWtFV9Wzb/AKCF/wCC/wD7Yy%2Bp55/0Fx/8Ff8A258lf8PgPhG3%2Bo/ZS/aDl9PL%2BFE//wAco/4e7%2BAH/wCPX9ir9pKc9hD8JJTn85hX1rRR9VzX/oJX/gtf/JB9Szv/AKC1/wCC1/8AJHyV/wAPaNNl4sf%2BCdv7VVye3kfB4n%2BdyKqfBP8Aasu/2nf%2BChfgxrj9mb4qfDpdE%2BDPjLYfib4UGlnUPO1bwrn7OPMfzPL8ob%2Bm3zY%2Bu7j7Arxnxx/ykL%2BF/wD2Rnx5/wCnbwhWtDD4%2BFVSqV%2BZduVK/wAzfDYTM6dZSrYnnj1XIlfTve/mezUUUV6B6gUUV8/f8FLjpg/Zrtf%2BEz8v/hCv%2BFheF/8AhZH2j/j3/wCEe/tm0%2B2/as8fY9n/AB87v3f2bz/M/d76APoGivzv1HxR8OX/AOCZnxo8EfDHxPYQ%2BCpvHF%2B/w7t9HuI2s7HwpPrcFub/AMhMl9AjuPt7uIwIXsIpUhYRlCPGJNJ%2BFc/w9svBOpfEv4JWXgCL9obXZrDx3rfg2Ob4P3q/8IlaFI7XR2vkhiHnzSxxoL9kF/aahOJHd/swAP13r85/%2BCRlvN40/wCCgX7T/jS4iO3wZ4x13w1aSMOCt14u13UJFX6Ntz7kV9RfsSah8Qrf/gnR8K7vwl4QmuvEUHww0eOy0rx14hnt3uJUtIkBurwWkkq7wN%2B82275hmNTkDw//gh/4T8SQaX%2B0l8TPHGi2Wn634g/am8awX9pp1891bxG21SZWSKd4oWmjWWWdVdooywXcUQnaPNx1N1cRhl0U238oTt%2BLR9pwrjKeBybOm/inhowj6yxWGcvvhGa%2BZ9zUUUV6R8WFFFFABRRRQAUUUUAFFFFABRRRQAUUUUAFFFFABRRRQAUUUUAFFFFABRRRQAUUUUAFFFFABRRRQAUUUUAFFFFABRRRQAV4z%2By/wD8lv8A2jv%2ByzWP/qFeF69mrxn9l/8A5Lf%2B0d/2Wax/9QrwvQB7NRRRQAUUUUAFFFFABRRRQAUUUUAFFFFABRRRQAUUUUAFFFFABRRRQB47/wAFBz45H7DnxYPw3/tP%2B2P%2BEC1P7P8A2Jv%2B3bPs7%2Bb9m8v5/P8AK8zy9nz79u35sV82/CLxL8PNO%2BGP7T3hr/gnJr/hqDw7qXhaZ/grp/gW6t1sLrxLF4dzeHSUhPluElfTTKYAVW5aXfiUy196UUAfG/8AwTLP7Ph%2BMfj3/hi06R/wqf8A4Vv4K8z/AIRzb9h/4SrfrP8AaXmbOP7R%2Bx/2R9r3fvd3k%2BZ%2B83V6Df6l8V7v/gpt4Ls/G3gvw9p%2BhW/we8cDw1qOleJ57y7v0OreEvMa5tpLKFLQjCYCTXAbccldo3fQ9fOH7R%2Br/GvR/wBvD4Tz/A74f%2BFvEWpN8I/Ha3dp4r8YXOiwRwf2p4SJdJbfT71nfdtGwxqMEnfkBSAfR9FeM/8ACcf8FC/%2BjX/gz/4fjVv/AJl6P%2BE4/wCChf8A0a/8Gf8Aw/Grf/MvQB7NRXjP/Ccf8FC/%2BjX/AIM/%2BH41b/5l6P8AhOP%2BChf/AEa/8Gf/AA/Grf8AzL0AezUV846T%2B0d%2B3brHxn1/4HW/7KHwkXVPDvhfSNdvLl/jrqnkSQajc6lbwohHhjcXVtLnLAqAA8eCxLBeo/4Tj/goX/0a/wDBn/w/Grf/ADL0AezUV4z/AMJx/wAFC/8Ao1/4M/8Ah%2BNW/wDmXo/4Tj/goX/0a/8ABn/w/Grf/MvQB7NRXjP/AAnH/BQv/o1/4M/%2BH41b/wCZeuX8A/tHft2/ETxX438IaP8AsofCSG48B%2BKItC1WS5%2BOuqBJ55NK0/Uw8W3wwSU8nUYVJYKd6OMYAZgD6Oorxn/hOP8AgoX/ANGv/Bn/AMPxq3/zL0f8Jx/wUL/6Nf8Agz/4fjVv/mXoA9morxn/AITj/goX/wBGv/Bn/wAPxq3/AMy9H/Ccf8FC/wDo1/4M/wDh%2BNW/%2BZegD2aivnH4RftHft2/GXwpd%2BL/AA5%2Byh8JLa3s/FGt6FJHe/HXVFcz6Xqt1pk7jb4YYbGmtJGQ5yUZSQpyo6j/AITj/goX/wBGv/Bn/wAPxq3/AMy9AHs1FeM/8Jx/wUL/AOjX/gz/AOH41b/5l6P%2BE4/4KF/9Gv8AwZ/8Pxq3/wAy9AHs1FeM/wDCcf8ABQv/AKNf%2BDP/AIfjVv8A5l65f4I/tHft2/Hj4MeEPjj4V/ZQ%2BElrpfjPwvp%2Bu6bbah8ddUWeGC7to7iNJAnhhlDhZAGCswyDgkc0AfR1FeM/8Jx/wUL/AOjX/gz/AOH41b/5l6P%2BE4/4KF/9Gv8AwZ/8Pxq3/wAy9AHs1FeM/wDCcf8ABQv/AKNf%2BDP/AIfjVv8A5l65f43ftHft2/Af4MeL/jj4q/ZQ%2BEl1pfgzwvqGu6lbaf8AHXVGnmgtLaS4kSMP4YVS5WMhQzKMkZIHNAH0dUF9pmm6pF5Gp6fBcJ/cniVx%2BRFeQf8ACcf8FC/%2BjX/gz/4fjVv/AJl6P%2BE4/wCChf8A0a/8Gf8Aw/Grf/MvQ0mOMpRd07M73VPgd8Fdcz/bXwg8LXmev2rw/bSZ/wC%2BkNc9qX7GX7H2s5/tj9lH4a3eev2nwLp8mf8AvqE1h/8ACcf8FC/%2BjX/gz/4fjVv/AJl6P%2BE4/wCChf8A0a/8Gf8Aw/Grf/MvWEsLhp/FBP5I9Ohnmd4b%2BDiqkfScl%2BTG6h/wTl/YG1PP2n9jT4aLn/n38G2cP/ouMViX/wDwSk/4J0aln7R%2ByJ4PXP8Az72bxf8AoDCqnxd/aO/bt%2BDXhS08X%2BI/2UPhJc2954o0TQo47L466ozifVNVtdMgc7vDCjYs13GznOQisQGOFPUf8Jx/wUL/AOjX/gz/AOH41b/5l6wlleWT%2BKhB/wDbsf8AI9ajx1xth/4WaYiPpXqr8pHE33/BGn/gmbqGfP8A2UdIXP8Azw1bUIv/AEC4FZU//BD3/gmDI/nW/wCzU9tJ/ftvGesoR%2BV5j9K9L/4Tj/goX/0a/wDBn/w/Grf/ADL0f8Jx/wAFC/8Ao1/4M/8Ah%2BNW/wDmXrF5Hkst8NT/APAI/wCR6NPxS8TaKtDPMYvTE1v/AJM8x/4cmfsAQf8AIK8EeKrD0%2Bx/EDVVx%2BdwaX/hzH%2ByPD/yDPFfxQsvT7L8Sr8Y/NzXpv8AwnH/AAUL/wCjX/gz/wCH41b/AOZeuX8fftHft2/DvxX4I8Iax%2Byh8JJrjx54ol0LSpLb466oUgnj0rUNTLy7vDAITydOmUFQx3ugxglln%2Bwsm6YeC9IpGv8AxFbxLfxZxiJf4qs5fm2c1/w53%2BA0X/IO/aD%2BOVn6fZvindDH5qaP%2BHRXw/i/5B/7aP7SFp6fZvi1KMfnCa9N/wCE4/4KF/8ARr/wZ/8AD8at/wDMvR/wnH/BQv8A6Nf%2BDP8A4fjVv/mXo/sPKelFfig/4in4hP4sxqP15X%2BaZ5j/AMOm7OL/AI8f%2BCjH7Vdt6CH4wHH62xqn8Ff2Vbz9mT/goX4LW5/aY%2BKfxFXWvgz4y2D4meKhqZ0/ydW8K5%2BzkRp5fmeaN/Xd5UfTbz61/wAJx/wUL/6Nf%2BDP/h%2BNW/8AmXqh4H8D/tWeMf2rPDnxu%2BN3w4%2BHvhnRvDPw98Q6HDD4V%2BId9rV1d3WpX2iXCMyXGkWKRRomlygsHdi0qALjJG1DKsBhqqqUoWa836d7Hn5px7xZnWAng8bieenO11yU1ezUlqoqS1S2flse60UUV6B8eFFFFABRRRQAV4N/wTs8KaX4Y%2BCvi6fTQ2/Vfjz8Sr67ZsfNK3jPWE7dgqKPwr3mvkr9krxZ%2B2dp/wAPfFFn8MfgH8MNX0JPjT8Rf7P1HXvi7qOm3cy/8JnrJYyW0WgXKRENuAAmfIAOQTtCcU2m%2BhcalSEJRT0e/nbU%2BtaK8Z/4Tj/goX/0a/8ABn/w/Grf/MvR/wAJx/wUL/6Nf%2BDP/h%2BNW/8AmXpkHs1FeM/8Jx/wUL/6Nf8Agz/4fjVv/mXo/wCE4/4KF/8ARr/wZ/8AD8at/wDMvQB7NRXzj8Ef2jv27fjx8GPCHxx8K/sofCS10vxn4X0/XdNttQ%2BOuqLPDBd20dxGkgTwwyhwsgDBWYZBwSOa6j/hOP8AgoX/ANGv/Bn/AMPxq3/zL0AezUV4z/wnH/BQv/o1/wCDP/h%2BNW/%2BZej/AITj/goX/wBGv/Bn/wAPxq3/AMy9AHs1FfOPxu/aO/bt%2BA/wY8X/ABx8VfsofCS60vwZ4X1DXdSttP8AjrqjTzQWltJcSJGH8MKpcrGQoZlGSMkDmuo/4Tj/AIKF/wDRr/wZ/wDD8at/8y9AHs1FeM/8Jx/wUL/6Nf8Agz/4fjVv/mXo/wCE4/4KF/8ARr/wZ/8AD8at/wDMvQB7NRXjP/Ccf8FC/wDo1/4M/wDh%2BNW/%2BZeuX%2BLv7R37dvwa8KWni/xH%2Byh8JLm3vPFGiaFHHZfHXVGcT6pqtrpkDnd4YUbFmu42c5yEViAxwpAPo6ivGf8AhOP%2BChf/AEa/8Gf/AA/Grf8AzL0f8Jx/wUL/AOjX/gz/AOH41b/5l6APZqK8Z/4Tj/goX/0a/wDBn/w/Grf/ADL0f8Jx/wAFC/8Ao1/4M/8Ah%2BNW/wDmXoA9mor5x8fftHft2/DvxX4I8Iax%2Byh8JJrjx54ol0LSpLb466oUgnj0rUNTLy7vDAITydOmUFQx3ugxgll6j/hOP%2BChf/Rr/wAGf/D8at/8y9AHs1FeM/8ACcf8FC/%2BjX/gz/4fjVv/AJl6P%2BE4/wCChf8A0a/8Gf8Aw/Grf/MvQB7NRXjP/Ccf8FC/%2BjX/AIM/%2BH41b/5l65fVv2jv27dH%2BM%2BgfA64/ZQ%2BEjap4i8L6vrtncp8ddU8iODTrnTbeZHJ8Mbg7NqkBUBSCEkyVIUMAfR1FeM/8Jx/wUL/AOjX/gz/AOH41b/5l6P%2BE4/4KF/9Gv8AwZ/8Pxq3/wAy9AHs1FeM/wDCcf8ABQv/AKNf%2BDP/AIfjVv8A5l6P%2BE4/4KF/9Gv/AAZ/8Pxq3/zL0AezUV846T%2B0d%2B3brHxn1/4HW/7KHwkXVPDvhfSNdvLl/jrqnkSQajc6lbwohHhjcXVtLnLAqAA8eCxLBeo/4Tj/AIKF/wDRr/wZ/wDD8at/8y9AHs1FeM/8Jx/wUL/6Nf8Agz/4fjVv/mXo/wCE4/4KF/8ARr/wZ/8AD8at/wDMvQB7NRXjP/Ccf8FC/wDo1/4M/wDh%2BNW/%2BZeuX8A/tHft2/ETxX438IaP%2Byh8JIbjwH4oi0LVZLn466oEnnk0rT9TDxbfDBJTydRhUlgp3o4xgBmAPo6ivGf%2BE4/4KF/9Gv8AwZ/8Pxq3/wAy9H/Ccf8ABQv/AKNf%2BDP/AIfjVv8A5l6APZq8Z/Zf/wCS3/tHf9lmsf8A1CvC9H/Ccf8ABQv/AKNf%2BDP/AIfjVv8A5l6t/srfDn40%2BD9Y%2BKHjv46aB4X0nVPH3xCi1yz0rwn4ludWt7W1i0HR9MVXuLiys2aRpNOlcqItoWRBuY5wAet0UUUAFFFFABRRRQAUUUUAFFFFABRRRQAUUUUAFFFFABRRRQAUUUUAFFFFABXyv%2B09%2B1p8XPhj8ZPFms%2BAfDvg%2BTwx8H/D/h%2B98anWtIuJtW1S31e/lS5gsLiO4jSy8i2s47j95FOLmQpGRD5fmn6orxn4z/sQ/Dj43fFI/EzXPHPirS4tRtdItfF/hrRrq1TTvFMGl3sl7YxXyy28kwWOaaXP2eWAyxyGKYyxhUAB7NRRRQAUUUUAfMfhz9pX4mQ/t/8Aij4P/EbWPD3hPw2viC00TwZFqPwi1lLrxjANAg1HEHiNrtdOaWO7udQAtBC8nl2kwCgs0i/TleV%2BLP2WoPH/AMZNI%2BKfj343%2BNdX0rw9rsetaB4AuDpkWjWOoR27wRzhobJL2XZ5kkipNdSRiR92z5EC%2BqUAFFFFAHi//BQX4u/HD9n79kfxp8evgFe%2BFI9Y8E6Fd65dQeMNFub62u7S1tpZnt0S2urZkldkRRIXKoCxKPwK8/8AHn7Wfxc8F/HjxbqfhTw74Pi%2BHng/4x%2BEfh94ys5tInOt6rquuwaKkeoQ3aXCwxxwf25pMZikt5XkSGfEse1BXsP7WP7ONl%2B1p8CNe/Z91r4q%2BKfCOk%2BJ7KWx1y/8ILp32u5spYnimtt1/aXUaI6vyyIsgKja6854uD9gHwdP8RbP4i%2BKvjj4%2B11jrOk654m0bUJdKisfE%2BuaYiJY6tfR21hEy3EQgtCFtmggY2NsXiYx5IB73RRRQAV4v%2B2T8Xfjh8ErXwD4x%2BFl74U/sbUPiZ4c8PeL7HxBotzc3Vza6rrNjpoNnLDdQpbSRrcyyb5EnUlEXZyTXtFeVftXfstv%2B1V4b0LwvP8AH3xv4Gt9C8SWGuo3guHR2e7vbG8gvLNpTqWn3g2xXFvG4WMIG5WTep2gA84/Z5/aV%2BJmt/tVeLfgj8UNX8PeE9Oh8U63b%2BCfCUnwi1nTLnXraF0lN/b61cXf2DUHYyTSyxW0BfkuxXDE/TleS6T%2ByiH%2BMmi/GX4j/tAeO/Gs3he7vLvwnoXiEaTDYaPdXNvJayXES2Gn20sr/Z5p4V8%2BSVUWd9oBII9aoAKKKKAPD/27vi58eP2fvg1q/wAdfhR4x8C2On%2BFtFuby90XxZ4Zvb%2B58Q3uUWz0yzktr2D7NNcSkW6N5V0zSzxBYWPyt5/8Ef2vvjPrnxL8F/2t4M8JaR8NPG/xP8UfDbwr4a07S5o9X0S/0CHVt889yLhreaCRvD%2BposMdvEY1a2PmSZYD0/8AaV/ZBg/aS8eeCPiBN%2B0D478IXPgG7ub3RbHwxFo09nJeyoI1vJoNT068R54Y/MWGQBTGJ5SPmbIq%2BA/2Gfh74D%2BMtv8AF2H4i%2BLtSg07XNT17RPCGpXNl/ZOla3qUbx6hqkCRWqT%2BfOJ7ssrzPCjX1yY4o/M4APa6KKKACvl/wDa5%2BPH7THwW%2BImn%2BFdKh8AeNdH8cw61baL8OYvB99JrCWtpod1dyX9xcC%2BeK6thdRW9tJCLWIH7fCgmMjIkn1BXh037E1xH%2B0f4r/aa0T9qv4l6dq/i3TYdOudLhg8Pz2mn2cMDRw21m1zpMtzbxLK73WxZtrzuXcODtoAZ%2Bwh%2B0H43%2BPfw9vLr4r%2BPtGvvF2nCzbX/Ddl8LtX8I3mgPPbLKILmy1e6nuHBbf5dwAkciodobaTXuleb/A79m7Tvgz4n8SfEPWPil4p8ceKvFcVjb6x4n8XNYLcvaWYm%2By2qRafa2ttHFG1zcuNsIZmuJCzNkY9IoAKKKKAPjn/AIKCftx/FT9i/wAc/wBp67ougeMfCL6NqOt2/hWX4c6nZS26abo19qSSf8JFNdPpk939r00bLFYEuhHMsoG2FpG9e/Zo%2BLvxz1b4qeN/2ev2jrnwpf8AifwjpOh61HrXgrSLmwsbmx1MXkaRGC5ubl1liuNOu1L%2BbiRDE2yMkqK3x2/YS8EftO61dWvx/wDi3418UeC7mS4kX4ZXkmmw6NFJNYzWTMHt7KO%2BkAjuJmCS3ToHfdt%2BRAvT/s%2BfszaR8A7zXvEV38UPFnjjxH4kNnHq3irxrcWb30ttaRGK1tR9jtreFYog8rDEe9nnld2dnJoA9KooooAK%2BI/2p/2yv2s/g38avEHwo8HeG/DnjXU7DRbjXfDAT4H%2BII5NFA1HTLVDC325x4mkFjqlx539l%2BU8LQlZRGJhHX25Xh%2BvfsWan4m8fH4na1%2B1z8UZtb0%2BC8h8G3hTQAPCq3U0Mk/2SMaTsnZo4Ft916t0yxM4Uq7s5AOq/ZY%2BLD/GT4RweLL34maN4qv4dRurLVL7RvBl94dFtcRSsrWs2m6hcT3VnPGMK8czh8/NtUMBXo1cN8A/gL4e%2BAHhnU9G0rxTrfiDUdf1641vxJ4k8RzQNe6rfzBEaeUW8UMCYjihiVIYo41SJAFGCT3NABRRRQAUUUUAFFFFABRRRQBR8UeIbDwj4a1HxXqof7LpljNd3PlLlvLjQu2B3OFNfOf7E37Sfxr8f%2BKdH8GfGzw94Ms18dfC2y%2BI3hmHwZpVxaDTI7y4Ju9PuzNcSi7mje5tn%2B2IIBO0sxMEe0F/pa7tLW/tZbG9t0mhmjaOaKVQyupGCpB4II4xXkP7M37FfgL9mDVX1fQPiD4t8Sy23hix8M%2BHR4svbWYaBoVm8j2%2Bm2pt7eEtGpk%2BaWczXEgji8yZ/LXAB7FRRRQAVwv7UHjv4i/C39mn4ifE74P%2BFF17xb4c8C6vqnhbQ2sZroajqNvZyy21sYYGWWbzJURPLjYO27CkEg13VZ3i3RL/AMS%2BGNQ8P6X4r1HQrm9tJIbfWtIWBrqxdlIE0QuIpYi6nkCSN0yPmVhkEA8u/Yp%2BLU/xQ%2BGd9Zat8QvD%2Bs6n4d1VdOvNM0T4Yan4OfQ0FtBJFZ3Glapcz3MLhHEiu3lo8UsWxMDe/sVeefAf9nbSfgdeeJfEdz8RPEnjHxJ4v1GG88ReKfFb2Yu7ow26W8EQjsba2tooo40AVY4UyWdmLMzMfQ6ACiiigD5c/ao/ax%2BKH7OHxe8cWXxK0bwl4i%2BF9h%2Bzv4v8e22hW%2BiXCaq7aINLWe2uLmS5e3minW%2BnAQWyFQiZd8sK7f8AZn%2BL/wAfNU%2BLnjL9nb9paTwleeKPDHhjw94lj1XwVpNzY2Ullqz6lbrbGG5ublzLDcaRdgyiQLIjxN5cZ3LUHxj/AGFfDvx0%2BOrfGXx58dvHMumzeCtT8I33w9hg0X%2BxLvRtSW2%2B32khfTWvSJ2tIHZxdB1KEIyIzIek/Z3/AGXdD/Z9vtb8Rz/FDxb438Q6/a2Flf8Aifxtc2kl79gsUkWzs1%2ByW1vH5URnuHBKGR3uZXd3Zs0Aen0UUUAFfInxr/aX/a28Ga7%2B0B4Et/CvgzxZe%2BAvD/hTxJ8NrHSfh/qd/Oseo6rqUIS8tYrx5dRngXTY51NsLclyQq/KrV9d14XL%2BxR4hi%2BOnjb4/wChftofFbStW8b6RY6Zc2NlZ%2BGGtNNtrK4uZ7NLYS6K8n7o3l0oMzyl1nIk8wqhUA6v9lT4tzfGX4UjxNqPxO0bxTqNrqtzY6tdaP4Iv/DZs7iJvmtZ9M1G4nurSdFK7kmYMQyttVWFek1wnwD%2BAegfAHQtZsdP8W654j1XxN4gl1zxP4m8SS27Xuq38kMMHmyC2hhgjCwW9vCqRRRoqQoAuck93QAUUUUAfG37S37Xf7S37PHxmg%2BG2tJ8M/Gt9rcEE3hGHTvC17aS%2BC7zUvEOmeHtIm1OV76cXUU7avOC0S2cjixuljDL5hi9y/ZV%2BL/xI%2BIw8f8Aw%2B%2BMZ0SfxV8NPHjeGtZ1Xw1p01nYan5ml6dq1vcQ28088lvm11S3R42mlxJHJhiCMcJbf8E1fCTXXxDfxD%2B0v8TtZt/iTrx1zWLfUjoXmWepRXEM%2Bn3NtdRaWl0psHt7cWkbzSRRLCgZH5z6x8A/gLofwD8Patptl4v1zxJq3iLX5ta8T%2BKPEr2xv9XvpI4ofOmFrBBAuyCC3gRIoo0WOCNQvBJAO6ooooAZc/afs0n2PZ52w%2BV5udu7HGcc4zXxB8Vv2uf20/hp8RNc%2BG1vbeA/GeveGL3w1b6t468EfBXX9Wj8OW%2BrNePe2EulWepT3dzNFDZWN0TFOn7u6haWBAYmk%2B3ruGS4tZbeG6kgeSNlWeIKXjJGAy7gVyOoyCPUGvnv4MfsBeIPgJ8Nrj4afDv9ur4xRR3WrPqc2s3ll4Tn1CW7leWS5nmmfQj9pkneXdJJOJHzGmwoBggHrPwE%2BIdl8Vvg74f%2BIVh8QNG8VJqeniR9f8P6TNYWl3ICVkKWs800tsVdWRoZJHeNlZWO5SB19cl8C/gv4S/Z9%2BF%2BnfCnwVc39xZWEt1cTX2q3Imur67urmW6urqZwqhpZrieaV9qqu6Q7VVcKOtoAKo%2BJ4fElz4b1C38G6nY2WryWUq6XeanYPdW0FwUIjklhjliaaNWwWRZIywBAdSdwvVm%2BMdBv/FHha/8O6X4t1LQbm8tXig1rRxAbqxcjiaIXEUsRdTyBJG6HHzKwyKAPh74b/t2/ta/GD4p638Evhbpvw%2BTxnptrrt9J4z8V/C7WtCXVNM0i10WVLGXRLy%2BTUNPle78Q7EmnmePyoZLiOF1nQH7G%2BAXxZ034%2BfArwV8ddG02Wys/GvhLTdetLOdtzwRXlrHcLGxAGSokAJ9RXi2r/8ABMjwPrWuX3xFu/2lPimnxA1ZLy11v4k2t7pEOrX%2BmXVta202mFE00WcNsUsrRh5FtFMskCyrKHLMfoPwX4P8NfDzwdpPgDwZpMWn6PoemQafpNhDnZbW0MaxxRrnnCoqqPpQBp0UUUAcv8adR8caN8Lda1v4c%2BIbHS9WsLM3UN9qHg%2B98QIkcZDygadYzwXN5I0SuqRQyBy7LhXPyN8W/CX/AIKI/H7xJ400PU/G9x4R8CeDNSnnXxB44vPgZ4imttYv4dfutIRLmVb6NPDM8lraWv7jVGklgeVY3zsCV9t/EzwZrvj3wlN4c8N/FLX/AAbeSSxvFr/hmKxe7g2sCVVb%2B2uYGDAFSHibgnGDgjxW5/4JzeFNQ8H3Hw21X9pD4m3fhjXNQmv/AB54fmn0cReMLue8e6uJr6VdNFxF5pZYmjs5bWIQxJGqKN24A%2BiaKKKACiiigAooooAKKKKACiiigAooooAKKKKACiiigAooooAKKKKACiiigAooooAKKKKACiiigAooooAKKKKACiiigAooooAKKKKACiiigAooooAKKKKACiiigAooooAKKKKACiiigAooooAKKKKACiiigAooooAKKKKACiiigAooooAKKKKACiiigAooooAKKKKACiiigAooooAKKKKACiiigAooooAKKKKACiiigAooooAKKKKACiiigAooooAKKKKACiiigAooooAKKKKACiiigAooooAKKKKACiiigAooooAKKKKACiiigAooooAKKKKAP//Z\">"
     },
     "metadata": {},
     "output_type": "display_data"
    }
   ],
   "source": [
    "s.run(tf.global_variables_initializer())\n",
    "\n",
    "BATCH_SIZE = 512\n",
    "EPOCHS = 40\n",
    "\n",
    "# for logging the progress right here in Jupyter (for those who don't have TensorBoard)\n",
    "simpleTrainingCurves = matplotlib_utils.SimpleTrainingCurves(\"cross-entropy\", \"accuracy\")\n",
    "\n",
    "for epoch in range(EPOCHS):  # we finish an epoch when we've looked at all training samples\n",
    "    \n",
    "    batch_losses = []\n",
    "    for batch_start in range(0, X_train_flat.shape[0], BATCH_SIZE):  # data is already shuffled\n",
    "        _, batch_loss = s.run([step, loss], {input_X: X_train_flat[batch_start:batch_start+BATCH_SIZE], \n",
    "                                             input_y: y_train_oh[batch_start:batch_start+BATCH_SIZE]})\n",
    "        # collect batch losses, this is almost free as we need a forward pass for backprop anyway\n",
    "        batch_losses.append(batch_loss)\n",
    "\n",
    "    train_loss = np.mean(batch_losses)\n",
    "    val_loss = s.run(loss, {input_X: X_val_flat, input_y: y_val_oh})  # this part is usually small\n",
    "    train_accuracy = accuracy_score(y_train, s.run(classes, {input_X: X_train_flat}))  # this is slow and usually skipped\n",
    "    valid_accuracy = accuracy_score(y_val, s.run(classes, {input_X: X_val_flat}))  \n",
    "    simpleTrainingCurves.add(train_loss, val_loss, train_accuracy, valid_accuracy)"
   ]
  },
  {
   "cell_type": "markdown",
   "metadata": {},
   "source": [
    "# Submit a linear model"
   ]
  },
  {
   "cell_type": "code",
   "execution_count": 13,
   "metadata": {},
   "outputs": [],
   "source": [
    "## GRADED PART, DO NOT CHANGE!\n",
    "# Testing shapes \n",
    "grader.set_answer(\"9XaAS\", grading_utils.get_tensors_shapes_string([W, b, input_X, input_y, logits, probas, classes]))\n",
    "# Validation loss\n",
    "grader.set_answer(\"vmogZ\", s.run(loss, {input_X: X_val_flat, input_y: y_val_oh}))\n",
    "# Validation accuracy\n",
    "grader.set_answer(\"RMv95\", accuracy_score(y_val, s.run(classes, {input_X: X_val_flat})))"
   ]
  },
  {
   "cell_type": "code",
   "execution_count": 14,
   "metadata": {},
   "outputs": [
    {
     "name": "stdout",
     "output_type": "stream",
     "text": [
      "Submitted to Coursera platform. See results on assignment page!\n"
     ]
    }
   ],
   "source": [
    "# you can make submission with answers so far to check yourself at this stage\n",
    "grader.submit(COURSERA_EMAIL, COURSERA_TOKEN)"
   ]
  },
  {
   "cell_type": "markdown",
   "metadata": {},
   "source": [
    "# MLP with hidden layers"
   ]
  },
  {
   "cell_type": "markdown",
   "metadata": {},
   "source": [
    "Previously we've coded a dense layer with matrix multiplication by hand. \n",
    "But this is not convenient, you have to create a lot of variables and your code becomes a mess. \n",
    "In TensorFlow there's an easier way to make a dense layer:\n",
    "```python\n",
    "hidden1 = tf.layers.dense(inputs, 256, activation=tf.nn.sigmoid)\n",
    "```\n",
    "\n",
    "That will create all the necessary variables automatically.\n",
    "Here you can also choose an activation function (remember that we need it for a hidden layer!).\n",
    "\n",
    "Now define the MLP with 2 hidden layers and restart training with the cell above.\n",
    "\n",
    "You're aiming for ~0.97 validation accuracy here."
   ]
  },
  {
   "cell_type": "code",
   "execution_count": 40,
   "metadata": {},
   "outputs": [],
   "source": [
    "# write the code here to get a new `step` operation and then run the cell with training loop above.\n",
    "# name your variables in the same way (e.g. logits, probas, classes, etc) for safety.\n",
    "### YOUR CODE HERE ###\n",
    "hidden1 = tf.layers.dense(input_X, 256, activation=tf.nn.sigmoid)\n",
    "hidden2 = tf.layers.dense(hidden1, 256, activation=tf.nn.sigmoid)\n",
    "logits = tf.layers.dense(hidden2, 10)\n",
    "probas = tf.nn.softmax(logits)\n",
    "classes = tf.argmax(probas,axis=1)\n",
    "loss =tf.reduce_mean(\n",
    "    tf.nn.softmax_cross_entropy_with_logits(logits=logits,labels=input_y),\n",
    "    axis = 0\n",
    ")### YOUR CODE HERE ### cross-entropy loss\n",
    "\n",
    "# Use a default tf.train.AdamOptimizer to get an SGD step\n",
    "step = tf.train.AdamOptimizer().minimize(loss)"
   ]
  },
  {
   "cell_type": "markdown",
   "metadata": {},
   "source": [
    "# Submit the MLP with 2 hidden layers\n",
    "Run these cells after training the MLP with 2 hidden layers"
   ]
  },
  {
   "cell_type": "code",
   "execution_count": 42,
   "metadata": {},
   "outputs": [],
   "source": [
    "## GRADED PART, DO NOT CHANGE!\n",
    "# Validation loss for MLP\n",
    "grader.set_answer(\"i8bgs\", s.run(loss, {input_X: X_val_flat, input_y: y_val_oh}))\n",
    "# Validation accuracy for MLP\n",
    "grader.set_answer(\"rE763\", accuracy_score(y_val, s.run(classes, {input_X: X_val_flat})))"
   ]
  },
  {
   "cell_type": "code",
   "execution_count": 43,
   "metadata": {},
   "outputs": [
    {
     "name": "stdout",
     "output_type": "stream",
     "text": [
      "Submitted to Coursera platform. See results on assignment page!\n"
     ]
    }
   ],
   "source": [
    "# you can make submission with answers so far to check yourself at this stage\n",
    "grader.submit(COURSERA_EMAIL, COURSERA_TOKEN)"
   ]
  },
  {
   "cell_type": "code",
   "execution_count": null,
   "metadata": {},
   "outputs": [],
   "source": []
  }
 ],
 "metadata": {
  "kernelspec": {
   "display_name": "Python 3",
   "language": "python",
   "name": "python3"
  },
  "language_info": {
   "codemirror_mode": {
    "name": "ipython",
    "version": 3
   },
   "file_extension": ".py",
   "mimetype": "text/x-python",
   "name": "python",
   "nbconvert_exporter": "python",
   "pygments_lexer": "ipython3",
   "version": "3.6.5"
  }
 },
 "nbformat": 4,
 "nbformat_minor": 1
}